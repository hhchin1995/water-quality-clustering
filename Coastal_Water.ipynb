{
  "nbformat": 4,
  "nbformat_minor": 0,
  "metadata": {
    "colab": {
      "name": "Coastal Water.ipynb",
      "provenance": [],
      "collapsed_sections": [],
      "machine_shape": "hm",
      "include_colab_link": true
    },
    "kernelspec": {
      "name": "python3",
      "display_name": "Python 3"
    }
  },
  "cells": [
    {
      "cell_type": "markdown",
      "metadata": {
        "id": "view-in-github",
        "colab_type": "text"
      },
      "source": [
        "<a href=\"https://colab.research.google.com/github/hhchin1995/water-quality-clustering/blob/main/Coastal_Water.ipynb\" target=\"_parent\"><img src=\"https://colab.research.google.com/assets/colab-badge.svg\" alt=\"Open In Colab\"/></a>"
      ]
    },
    {
      "cell_type": "markdown",
      "metadata": {
        "id": "0MRC0e0KhQ0S"
      },
      "source": [
        "# Coastal Water clustering and decision tree for classification"
      ]
    },
    {
      "cell_type": "markdown",
      "metadata": {
        "id": "LWd1UlMnhT2s"
      },
      "source": [
        "## Importing the libraries"
      ]
    },
    {
      "cell_type": "code",
      "metadata": {
        "id": "YvGPUQaHhXfL",
        "colab": {
          "base_uri": "https://localhost:8080/"
        },
        "outputId": "a67337e7-88e6-447b-f0e0-c09f4ea07a2b"
      },
      "source": [
        "import numpy as np\n",
        "import matplotlib.pyplot as plt\n",
        "import pandas as pd\n",
        "\n",
        "!pip install bioinfokit\n",
        "import bioinfokit"
      ],
      "execution_count": null,
      "outputs": [
        {
          "output_type": "stream",
          "name": "stdout",
          "text": [
            "Collecting bioinfokit\n",
            "  Downloading bioinfokit-2.0.8.tar.gz (84 kB)\n",
            "\u001b[?25l\r\u001b[K     |███▉                            | 10 kB 18.4 MB/s eta 0:00:01\r\u001b[K     |███████▊                        | 20 kB 8.5 MB/s eta 0:00:01\r\u001b[K     |███████████▋                    | 30 kB 7.7 MB/s eta 0:00:01\r\u001b[K     |███████████████▌                | 40 kB 7.1 MB/s eta 0:00:01\r\u001b[K     |███████████████████▍            | 51 kB 4.1 MB/s eta 0:00:01\r\u001b[K     |███████████████████████▎        | 61 kB 4.3 MB/s eta 0:00:01\r\u001b[K     |███████████████████████████     | 71 kB 4.2 MB/s eta 0:00:01\r\u001b[K     |███████████████████████████████ | 81 kB 4.8 MB/s eta 0:00:01\r\u001b[K     |████████████████████████████████| 84 kB 2.1 MB/s \n",
            "\u001b[?25hRequirement already satisfied: pandas in /usr/local/lib/python3.7/dist-packages (from bioinfokit) (1.1.5)\n",
            "Requirement already satisfied: numpy in /usr/local/lib/python3.7/dist-packages (from bioinfokit) (1.19.5)\n",
            "Requirement already satisfied: matplotlib in /usr/local/lib/python3.7/dist-packages (from bioinfokit) (3.2.2)\n",
            "Requirement already satisfied: scipy in /usr/local/lib/python3.7/dist-packages (from bioinfokit) (1.4.1)\n",
            "Requirement already satisfied: scikit-learn in /usr/local/lib/python3.7/dist-packages (from bioinfokit) (1.0.1)\n",
            "Requirement already satisfied: seaborn in /usr/local/lib/python3.7/dist-packages (from bioinfokit) (0.11.2)\n",
            "Requirement already satisfied: matplotlib-venn in /usr/local/lib/python3.7/dist-packages (from bioinfokit) (0.11.6)\n",
            "Requirement already satisfied: tabulate in /usr/local/lib/python3.7/dist-packages (from bioinfokit) (0.8.9)\n",
            "Requirement already satisfied: statsmodels in /usr/local/lib/python3.7/dist-packages (from bioinfokit) (0.10.2)\n",
            "Collecting textwrap3\n",
            "  Downloading textwrap3-0.9.2-py2.py3-none-any.whl (12 kB)\n",
            "Collecting adjustText\n",
            "  Downloading adjustText-0.7.3.tar.gz (7.5 kB)\n",
            "Requirement already satisfied: kiwisolver>=1.0.1 in /usr/local/lib/python3.7/dist-packages (from matplotlib->bioinfokit) (1.3.2)\n",
            "Requirement already satisfied: pyparsing!=2.0.4,!=2.1.2,!=2.1.6,>=2.0.1 in /usr/local/lib/python3.7/dist-packages (from matplotlib->bioinfokit) (3.0.6)\n",
            "Requirement already satisfied: python-dateutil>=2.1 in /usr/local/lib/python3.7/dist-packages (from matplotlib->bioinfokit) (2.8.2)\n",
            "Requirement already satisfied: cycler>=0.10 in /usr/local/lib/python3.7/dist-packages (from matplotlib->bioinfokit) (0.11.0)\n",
            "Requirement already satisfied: six>=1.5 in /usr/local/lib/python3.7/dist-packages (from python-dateutil>=2.1->matplotlib->bioinfokit) (1.15.0)\n",
            "Requirement already satisfied: pytz>=2017.2 in /usr/local/lib/python3.7/dist-packages (from pandas->bioinfokit) (2018.9)\n",
            "Requirement already satisfied: threadpoolctl>=2.0.0 in /usr/local/lib/python3.7/dist-packages (from scikit-learn->bioinfokit) (3.0.0)\n",
            "Requirement already satisfied: joblib>=0.11 in /usr/local/lib/python3.7/dist-packages (from scikit-learn->bioinfokit) (1.1.0)\n",
            "Requirement already satisfied: patsy>=0.4.0 in /usr/local/lib/python3.7/dist-packages (from statsmodels->bioinfokit) (0.5.2)\n",
            "Building wheels for collected packages: bioinfokit, adjustText\n",
            "  Building wheel for bioinfokit (setup.py) ... \u001b[?25l\u001b[?25hdone\n",
            "  Created wheel for bioinfokit: filename=bioinfokit-2.0.8-py3-none-any.whl size=56749 sha256=65f65201b627149af7afe38524f928d3a2df22d624a7fdc4cee743a7205ad14a\n",
            "  Stored in directory: /root/.cache/pip/wheels/0d/b0/a4/2be59655e33c889f2197d43e99ed077f05a6559e24ce28e21a\n",
            "  Building wheel for adjustText (setup.py) ... \u001b[?25l\u001b[?25hdone\n",
            "  Created wheel for adjustText: filename=adjustText-0.7.3-py3-none-any.whl size=7094 sha256=6beb1ca6c5cbb3b4169f6c912d72b6bec8833756ee2d675091ee0e312c737715\n",
            "  Stored in directory: /root/.cache/pip/wheels/2f/98/32/afbf902d8f040fadfdf0a44357e4ab750afe165d873bf5893d\n",
            "Successfully built bioinfokit adjustText\n",
            "Installing collected packages: textwrap3, adjustText, bioinfokit\n",
            "Successfully installed adjustText-0.7.3 bioinfokit-2.0.8 textwrap3-0.9.2\n"
          ]
        }
      ]
    },
    {
      "cell_type": "markdown",
      "metadata": {
        "id": "K1VMqkGvhc3-"
      },
      "source": [
        "## Importing the dataset"
      ]
    },
    {
      "cell_type": "code",
      "metadata": {
        "id": "M52QDmyzhh9s",
        "colab": {
          "resources": {
            "http://localhost:8080/nbextensions/google.colab/files.js": {
              "data": "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",
              "ok": true,
              "headers": [
                [
                  "content-type",
                  "application/javascript"
                ]
              ],
              "status": 200,
              "status_text": ""
            }
          },
          "base_uri": "https://localhost:8080/",
          "height": 712
        },
        "outputId": "a8651b16-34a1-400c-960d-fe98bdc23e92"
      },
      "source": [
        "from google.colab import files\n",
        "import io\n",
        "uploaded = files.upload()\n",
        "\n",
        "# dataset = pd.read_csv('PRES_plastic4-1.csv')\n",
        "dataset = pd.read_csv('Coastal water_3.csv')\n",
        "# PET\n",
        "# X = dataset.iloc[:-54, 2:4].values\n",
        "# y = dataset.iloc[:-54, 5].values\n",
        "\n",
        "# PE\n",
        "# X = dataset.iloc[15:-20, 2:5].values\n",
        "# X[:,1]=X[:,2]\n",
        "# X=X[:,:-1]\n",
        "# y = dataset.iloc[15:-20, 5].values\n",
        "\n",
        "\n",
        "\n",
        "# PP\n",
        "# X = dataset.iloc[50:, 2:5].values\n",
        "# X[:,1]=X[:,2]\n",
        "# X=np.delete(X,8,0)\n",
        "# X=X[:,:-1]\n",
        "# y = dataset.iloc[50:, 5].values\n",
        "# y=np.delete(y,8,0)\n",
        "X_c = dataset.iloc[0:300, 0:19].values\n",
        "\n",
        "\n",
        "Supply=dataset.iloc[300:304,0:19].values\n",
        "Demand=dataset.iloc[304:307,0:19].values\n",
        "\n",
        "print(Supply)\n",
        "print(Demand)\n",
        "\n"
      ],
      "execution_count": null,
      "outputs": [
        {
          "output_type": "display_data",
          "data": {
            "text/html": [
              "\n",
              "     <input type=\"file\" id=\"files-1b41db85-230b-4d1d-9573-874b8e921438\" name=\"files[]\" multiple disabled\n",
              "        style=\"border:none\" />\n",
              "     <output id=\"result-1b41db85-230b-4d1d-9573-874b8e921438\">\n",
              "      Upload widget is only available when the cell has been executed in the\n",
              "      current browser session. Please rerun this cell to enable.\n",
              "      </output>\n",
              "      <script src=\"/nbextensions/google.colab/files.js\"></script> "
            ],
            "text/plain": [
              "<IPython.core.display.HTML object>"
            ]
          },
          "metadata": {}
        },
        {
          "output_type": "stream",
          "name": "stdout",
          "text": [
            "Saving Coastal water_3.csv to Coastal water_3 (2).csv\n",
            "[[3.44123576e+01 1.85692803e+01 8.15407588e+00 5.46287907e+00\n",
            "  1.32392023e+00 4.31499212e+01 8.49039080e-02 5.72296840e-02\n",
            "  5.58392260e-01 4.63016400e-03 3.56959500e-03 3.16486673e+00\n",
            "  7.46514330e+01 1.10157662e+00 5.88802660e-02 6.77619520e-02\n",
            "  7.90386000e-04 9.13350599e-01 3.78707740e-02]\n",
            " [2.92147887e+01 1.98423347e+01 8.06032844e+00 5.79649029e+00\n",
            "  1.53055038e+00 1.74940549e+01 1.15471652e-01 1.20733066e-01\n",
            "  3.15497312e-01 1.49016930e-02 2.57646280e-02 2.54177052e+01\n",
            "  1.00415680e+02 5.16567717e+00 7.02647023e-01 4.31032930e+00\n",
            "  5.67921410e-02 1.34457760e+00 2.09764271e-01]\n",
            " [3.08958643e+01 2.59389056e+01 8.11440709e+00 8.52694151e+00\n",
            "  2.25102487e+00 2.21050164e+01 4.30136564e-01 2.01932229e+00\n",
            "  3.33553174e-01 7.22720290e-02 7.32270878e-01 4.20888395e+01\n",
            "  2.45393088e+02 1.26688292e+01 2.37471385e+00 8.96680829e+01\n",
            "  2.22183375e-01 5.80596512e+00 4.11236658e-01]\n",
            " [2.24599008e+01 2.21331259e+01 8.35726847e+00 6.13849319e+00\n",
            "  1.68261174e+00 9.75718311e-01 2.31712935e-01 2.73609401e-01\n",
            "  4.87474130e-02 5.66040710e-02 1.82420759e-01 3.32213830e+01\n",
            "  2.05319322e+02 6.52514345e+00 1.73525727e+00 5.35048596e+01\n",
            "  8.95793170e-02 4.14566267e+00 3.83899224e-01]]\n",
            "[[3.32313811e+01 1.89051662e+01 7.81694415e+00 5.33784902e+00\n",
            "  1.33188782e+00 1.07226996e-01 5.14358930e-02 4.61346570e-02\n",
            "  7.26411900e-03 3.75631490e-02 2.74110046e+00 2.47544264e+00\n",
            "  8.90482396e+00 2.02387764e+00 4.71217310e-02 9.16798040e-02\n",
            "  4.76449800e-03 4.58631933e-01 9.67180170e-02]\n",
            " [2.89545684e+01 2.07075752e+01 8.11026127e+00 5.67345388e+00\n",
            "  1.44520366e+00 4.51089149e-01 1.57087350e-01 6.35101350e-02\n",
            "  1.39715430e-02 8.18066900e-03 5.45265076e-01 1.66933928e+01\n",
            "  1.48138654e+02 3.18466431e+00 6.30675448e-01 1.52853877e+00\n",
            "  5.52587640e-02 1.16973083e+00 1.93064516e-01]\n",
            " [3.29659458e+01 2.16410815e+01 8.41761911e+00 6.45068630e+00\n",
            "  1.66858919e+00 1.34359712e+00 2.23455805e-01 1.88230976e+00\n",
            "  4.40811960e-02 2.82827080e-02 1.65321622e+00 2.91846761e+01\n",
            "  1.91182852e+02 7.13515628e+00 1.85698836e+00 7.42709652e+00\n",
            "  6.34842680e-02 4.68743925e+00 3.86577074e-01]]\n"
          ]
        }
      ]
    },
    {
      "cell_type": "markdown",
      "metadata": {
        "id": "kW3c7UYih0hT"
      },
      "source": [
        "## Feature Scaling"
      ]
    },
    {
      "cell_type": "code",
      "metadata": {
        "id": "9fQlDPKCh8sc"
      },
      "source": [
        "\n",
        "from sklearn.preprocessing import StandardScaler\n",
        "sc = StandardScaler()\n",
        "\n",
        "# sc.fit(X_c)\n",
        "# X_c=sc.transform(X_c)\n",
        "X_c=sc.fit_transform(X_c)\n",
        "\n",
        "Supply=sc.transform(Supply)\n",
        "Demand=sc.transform(Demand)\n",
        "# X_test_sc=sc.transform(X_test)\n",
        "\n"
      ],
      "execution_count": null,
      "outputs": []
    },
    {
      "cell_type": "markdown",
      "metadata": {
        "id": "vWqvfmURuj1e"
      },
      "source": [
        "Custom Sampling (clean data)"
      ]
    },
    {
      "cell_type": "code",
      "metadata": {
        "id": "SpaXViRkujlB"
      },
      "source": [
        "from sklearn.preprocessing import StandardScaler\n",
        "from sklearn.neighbors import KNeighborsClassifier\n",
        "from imblearn.over_sampling import SMOTE\n",
        "\n",
        "# Scale Features\n",
        "scaler = StandardScaler()\n",
        "x_c_scaled = X_c\n",
        "\n",
        "\n",
        "# Fit KNN\n",
        "knn = KNeighborsClassifier(n_neighbors=5)\n",
        "knn.fit(x_c_scaled, y_train)\n",
        "preds = pd.DataFrame(knn.predict_proba(x_c_scaled))\n",
        "\n",
        "preds.columns = ['label_0', 'label_1','label_2','label_3','label_4']\n",
        "\n",
        "# Bind defaulted label proba to train dataset\n",
        "# print(preds.iloc[1,2])\n",
        "\n",
        "y_prob=np.zeros((len(y_train),1))\n",
        "for i in range(0,len(y_train)):\n",
        "  y_prob[i]=preds.iloc[i,int(y_train[i])-1]\n",
        "\n",
        "#print(y_prob)\n",
        "# X_train['knn_minority_class_proba'] = preds['label_1']\n",
        "\n",
        "x_c_filtered=np.zeros(X_c.shape)\n",
        "y_train_filtered=np.zeros(X_c.shape[0])\n",
        "\n",
        "for ii in range(0,len(y_train_filtered)):\n",
        "  if y_prob[ii]>=0.5:\n",
        "    x_c_filtered[ii,:] = X_c[ii,:]\n",
        "    y_train_filtered[ii] = y_train[ii]\n",
        "\n",
        "x_c_filtered=x_c_filtered[np.all(x_c_filtered != 0, axis=1), :]\n",
        "y_train_filtered=y_train_filtered[y_train_filtered >0]\n",
        "\n",
        "\n",
        "# Oversample using SMOTE\n",
        "sm = SMOTE(k_neighbors=1,random_state=40)\n",
        "X_c, y_train = sm.fit_resample(x_c_filtered, y_train_filtered)\n",
        "\n",
        "print(X_c)"
      ],
      "execution_count": null,
      "outputs": []
    },
    {
      "cell_type": "markdown",
      "metadata": {
        "id": "dPxZSlDxV6Em"
      },
      "source": [
        "Clustering"
      ]
    },
    {
      "cell_type": "code",
      "metadata": {
        "colab": {
          "base_uri": "https://localhost:8080/",
          "height": 295
        },
        "id": "oz1icyMFZjtp",
        "outputId": "a01afd34-e009-46df-9c5e-c6d629214f24"
      },
      "source": [
        "# Using the elbow method to find the optimal number of clusters\n",
        "\n",
        "\n",
        "\n",
        "\n",
        "#####X_c=X_train\n",
        "\n",
        "\n",
        "#X_c = sc.fit_transform(X_c)\n",
        "\n",
        "\n",
        "\n",
        "\n",
        "from sklearn.cluster import KMeans\n",
        "wcss = []\n",
        "for i in range(1, 11):\n",
        "    kmeans = KMeans(n_clusters = i, init = 'k-means++', random_state = 42)\n",
        "    kmeans.fit(X_c)\n",
        "    wcss.append(kmeans.inertia_)\n",
        "plt.plot(range(1, 11), wcss)\n",
        "plt.title('The Elbow Method')\n",
        "plt.xlabel('Number of clusters')\n",
        "plt.ylabel('WCSS')\n",
        "plt.show()"
      ],
      "execution_count": null,
      "outputs": [
        {
          "output_type": "display_data",
          "data": {
            "image/png": "[encoded data removed]",
            "text/plain": [
              "<Figure size 432x288 with 1 Axes>"
            ]
          },
          "metadata": {
            "needs_background": "light"
          }
        }
      ]
    },
    {
      "cell_type": "markdown",
      "metadata": {
        "id": "XTwif_avxmwi"
      },
      "source": [
        "**Applying PCA on data**"
      ]
    },
    {
      "cell_type": "code",
      "metadata": {
        "colab": {
          "base_uri": "https://localhost:8080/"
        },
        "id": "toTNVrklxm9x",
        "outputId": "865aedb1-4214-43fd-daaf-e69c7747d092"
      },
      "source": [
        "from sklearn.decomposition import PCA\n",
        "\n",
        "pca = PCA(n_components = 2)    # Set to 7 for 90% variance\n",
        "X_c= pca.fit_transform(X_c)\n",
        "Supply=pca.transform(Supply)\n",
        "Demand=pca.transform(Demand)\n",
        "print(pca.explained_variance_ratio_)\n",
        "print(sum(pca.explained_variance_ratio_))\n",
        "\n",
        "# # loadings = pd.DataFrame(pca.components_.T, columns=['PC1', 'PC2'],\n",
        "# # #                                                    'PC7', 'PC8','PC9', 'PC10','PC11', 'PC12',\n",
        "# # #                                                    'PC13', 'PC14'],\n",
        "# #                          index=dataset.columns[2:])\n",
        "# # print(loadings)\n",
        "\n",
        "# Applying Kernel PCA\n",
        "# from sklearn.decomposition import KernelPCA\n",
        "# kpca = KernelPCA(n_components = 2, kernel = 'rbf')\n",
        "# X_c = kpca.fit_transform(X_c)\n",
        "\n",
        "# Supply=kpca.transform(Supply)\n",
        "# Demand=kpca.transform(Demand)\n",
        "\n",
        "# # X_test_kpca=kpca.transform(X_test_sc)\n",
        "\n",
        "# kpca_transform = kpca.fit_transform(X_c)\n",
        "# explained_variance = np.var(kpca_transform, axis=0)\n",
        "# ev = explained_variance / np.sum(explained_variance)\n",
        "# print(ev)\n",
        "# print(sum(ev))\n",
        "\n",
        "# print(X_test_kpca)\n",
        "\n"
      ],
      "execution_count": null,
      "outputs": [
        {
          "output_type": "stream",
          "name": "stdout",
          "text": [
            "[0.88321424 0.03357643]\n",
            "0.9167906676100107\n"
          ]
        }
      ]
    },
    {
      "cell_type": "code",
      "metadata": {
        "colab": {
          "base_uri": "https://localhost:8080/",
          "height": 352
        },
        "id": "Y7SccLzmZ6lZ",
        "outputId": "c5bd8bf4-25fa-48a4-fef5-1fafda2f91d6"
      },
      "source": [
        "\n",
        "# Training the K-Means model on the dataset\n",
        "kmeans = KMeans(n_clusters = 4, init = 'k-means++', random_state = 42)\n",
        "y_kmeans = kmeans.fit_predict(X_c)\n",
        "Supply_kmeans=kmeans.predict(Supply)\n",
        "Demand_kmeans=kmeans.predict(Demand)\n",
        "#X_c = sc.inverse_transform(X_c)\n",
        "# kmeans.cluster_centers_ = sc.inverse_transform(kmeans.cluster_centers_)\n",
        "\n",
        "# Visualising the clusters\n",
        "from matplotlib.colors import ListedColormap\n",
        "X1, X2 = np.meshgrid(np.arange(start = X_c[:, 0].min()-0.01, stop = X_c[:, 0].max()+10, step = 0.05),\n",
        "                     np.arange(start = X_c[:, 1].min()-0.01, stop = X_c[:, 1].max()+10, step = 0.05))\n",
        "plt.contourf(X1, X2, kmeans.predict(np.array([X1.ravel(), X2.ravel()]).T).reshape(X1.shape),\n",
        "             alpha = 0.25, cmap = ListedColormap(('red', 'blue','green','magenta')))\n",
        "\n",
        "plt.scatter(X_c[y_kmeans == 0, 0], X_c[y_kmeans == 0, 1], s = 100, c = 'red', label = 'Cluster 1')\n",
        "plt.scatter(X_c[y_kmeans == 1, 0], X_c[y_kmeans == 1, 1], s = 100, c = 'blue', label = 'Cluster 2')\n",
        "plt.scatter(X_c[y_kmeans == 2, 0], X_c[y_kmeans == 2, 1], s = 100, c = 'green', label = 'Cluster 3')\n",
        "plt.scatter(X_c[y_kmeans == 3, 0], X_c[y_kmeans == 3, 1], s = 100, c = 'magenta', label = 'Cluster 4')\n",
        "\n",
        "plt.scatter(Supply[Supply_kmeans == 0, 0], Supply[Supply_kmeans == 0, 1], s = 100, c = 'cyan', label = 'Source')\n",
        "plt.scatter(Supply[Supply_kmeans == 1, 0], Supply[Supply_kmeans == 1, 1], s = 100, c = 'cyan', label = 'Source')\n",
        "plt.scatter(Supply[Supply_kmeans == 2, 0], Supply[Supply_kmeans == 2, 1], s = 100, c = 'cyan', label = 'Source')\n",
        "plt.scatter(Supply[Supply_kmeans == 3, 0], Supply[Supply_kmeans == 3, 1], s = 100, c = 'cyan', label = 'Source')\n",
        "plt.scatter(Demand[Demand_kmeans == 0, 0], Demand[Demand_kmeans == 0, 1], s = 100, c = 'brown', label = 'Demand')\n",
        "plt.scatter(Demand[Demand_kmeans == 1, 0], Demand[Demand_kmeans == 1, 1], s = 100, c = 'brown', label = 'Demand')\n",
        "plt.scatter(Demand[Demand_kmeans == 2, 0], Demand[Demand_kmeans == 2, 1], s = 100, c = 'brown', label = 'Demand')\n",
        "plt.scatter(Demand[Demand_kmeans == 3, 0], Demand[Demand_kmeans == 3, 1], s = 100, c = 'brown', label = 'Demand')\n",
        "# plt.scatter(X_c[y_kmeans == 4, 0], X_c[y_kmeans == 4, 1], s = 100, c = 'magenta', label = 'Cluster 5')\n",
        "# plt.scatter(kmeans.cluster_centers_[:, 0], kmeans.cluster_centers_[:, 1], s = 300, c = 'yellow', label = 'Centroids')\n",
        "# plt.title('Clusters of plastic waste')\n",
        "plt.xlabel('PC1')\n",
        "plt.ylabel('PC2 ')\n",
        "# plt.legend()\n",
        "# plt.show()\n",
        "print(X_c.shape)\n",
        "# Evaluation\n",
        "from sklearn import metrics\n",
        "from sklearn.metrics import pairwise_distances\n",
        "from sklearn.metrics import davies_bouldin_score\n",
        "\n",
        "labels = kmeans.labels_\n",
        "print(metrics.silhouette_score(X_c, labels, metric='euclidean'))\n",
        "print(davies_bouldin_score(X_c, labels))\n",
        "print(metrics.calinski_harabasz_score(X_c, labels))"
      ],
      "execution_count": null,
      "outputs": [
        {
          "output_type": "stream",
          "name": "stdout",
          "text": [
            "(300, 2)\n",
            "0.8613435814293572\n",
            "0.18757862489401106\n",
            "10257.440382599973\n"
          ]
        },
        {
          "output_type": "display_data",
          "data": {
            "image/png": "[encoded data removed]",
            "text/plain": [
              "<Figure size 432x288 with 1 Axes>"
            ]
          },
          "metadata": {
            "needs_background": "light"
          }
        }
      ]
    },
    {
      "cell_type": "code",
      "metadata": {
        "colab": {
          "base_uri": "https://localhost:8080/",
          "height": 295
        },
        "id": "cKcAzk37V_fw",
        "outputId": "e475c0fe-5438-464f-df64-1e31223c6592"
      },
      "source": [
        "import scipy.cluster.hierarchy as sch\n",
        "#X_c = sc.fit_transform(X_c)\n",
        "\n",
        "dendrogram = sch.dendrogram(sch.linkage(X_c, method = 'ward'))\n",
        "plt.title('Dendrogram')\n",
        "plt.xlabel('Data')\n",
        "plt.ylabel('Euclidean distances')\n",
        "plt.show()"
      ],
      "execution_count": null,
      "outputs": [
        {
          "output_type": "display_data",
          "data": {
            "image/png": "[encoded data removed]",
            "text/plain": [
              "<Figure size 432x288 with 1 Axes>"
            ]
          },
          "metadata": {
            "needs_background": "light"
          }
        }
      ]
    },
    {
      "cell_type": "code",
      "metadata": {
        "id": "y36oQiqOWMlY",
        "colab": {
          "base_uri": "https://localhost:8080/"
        },
        "outputId": "72b3159f-c3c2-41b5-efc2-0a78039d2515"
      },
      "source": [
        "# Training the Hierarchical Clustering model on the dataset\n",
        "from sklearn.cluster import AgglomerativeClustering\n",
        "\n",
        "hc = AgglomerativeClustering(n_clusters =4, affinity = 'euclidean', linkage = 'ward')\n",
        "y_hc = hc.fit_predict(X_c)\n",
        "#X_c = sc.inverse_transform(X_c)\n",
        "\n",
        "\n",
        "\n",
        "# Evaluation\n",
        "print(metrics.silhouette_score(X_c, y_hc, metric='euclidean'))\n",
        "print(davies_bouldin_score(X_c, y_hc))\n",
        "print(metrics.calinski_harabasz_score(X_c, y_hc))"
      ],
      "execution_count": null,
      "outputs": [
        {
          "output_type": "stream",
          "name": "stdout",
          "text": [
            "0.8613435814293572\n",
            "0.18757862489401106\n",
            "10257.440382599973\n"
          ]
        }
      ]
    },
    {
      "cell_type": "code",
      "metadata": {
        "colab": {
          "base_uri": "https://localhost:8080/"
        },
        "id": "hErC_fb2fvSd",
        "outputId": "f4c7f8e4-d887-4af7-803c-f02f9a2b3446"
      },
      "source": [
        "# Fit KNN\n",
        "from sklearn.neighbors import KNeighborsClassifier\n",
        "knn = KNeighborsClassifier(n_neighbors=4)\n",
        "knn.fit(X_c, y_hc)\n",
        "\n",
        "y_supply=knn.predict(Supply)\n",
        "y_demand=knn.predict(Demand)\n",
        "\n",
        "preds_supply = pd.DataFrame(knn.predict_proba(Supply))\n",
        "\n",
        "preds_demand = pd.DataFrame(knn.predict_proba(Demand))\n",
        "\n",
        "preds_supply.columns = ['label_0', 'label_1','label_2','label3']\n",
        "preds_demand.columns = ['label_0', 'label_1','label_2','label3']\n",
        "\n",
        "print(preds_supply)\n",
        "print(preds_demand)"
      ],
      "execution_count": null,
      "outputs": [
        {
          "output_type": "stream",
          "name": "stdout",
          "text": [
            "   label_0  label_1  label_2  label3\n",
            "0      1.0      0.0      0.0     0.0\n",
            "1      1.0      0.0      0.0     0.0\n",
            "2      1.0      0.0      0.0     0.0\n",
            "3      0.0      0.0      1.0     0.0\n",
            "   label_0  label_1  label_2  label3\n",
            "0      0.0     0.25      0.0    0.75\n",
            "1      0.0     0.00      0.0    1.00\n",
            "2      0.0     0.00      1.0    0.00\n"
          ]
        }
      ]
    },
    {
      "cell_type": "markdown",
      "source": [
        ""
      ],
      "metadata": {
        "id": "IClV2zIJeZWt"
      }
    },
    {
      "cell_type": "code",
      "metadata": {
        "colab": {
          "base_uri": "https://localhost:8080/",
          "height": 279
        },
        "id": "QZlNCFSHWYFI",
        "outputId": "a7c5d4a5-7817-4bf7-f240-17957fba3331"
      },
      "source": [
        "# Visualising the clusters\n",
        "from sklearn.neighbors import KNeighborsClassifier\n",
        "knn = KNeighborsClassifier(n_neighbors=4)\n",
        "knn.fit(X_c, y_hc)\n",
        "\n",
        "X1, X2 = np.meshgrid(np.arange(start = X_c[:, 0].min()-0.01, stop = X_c[:, 0].max()+10, step = 0.05),\n",
        "                     np.arange(start = X_c[:, 1].min()-0.01, stop = X_c[:, 1].max()+10, step = 0.05))\n",
        "plt.contourf(X1, X2, knn.predict(np.array([X1.ravel(), X2.ravel()]).T).reshape(X1.shape),\n",
        "             alpha = 0.25, cmap = ListedColormap(('red', 'blue','green','magenta')))\n",
        "\n",
        "plt.scatter(X_c[y_hc == 0, 0], X_c[y_hc == 0, 1], s = 100, c = 'red', label = 'Cluster 1')\n",
        "plt.scatter(X_c[y_hc == 1, 0], X_c[y_hc == 1, 1], s = 100, c = 'blue', label = 'Cluster 2')\n",
        "plt.scatter(X_c[y_hc == 2, 0], X_c[y_hc == 2, 1], s = 100, c = 'green', label = 'Cluster 3')\n",
        "plt.scatter(X_c[y_hc == 3, 0], X_c[y_hc == 3, 1], s = 100, c = 'magenta', label = 'Cluster 4')\n",
        "\n",
        "plt.scatter(Supply[y_supply == 0, 0], Supply[y_supply == 0, 1], s = 100, c = 'cyan', label = 'Source')\n",
        "plt.scatter(Supply[y_supply == 1, 0], Supply[y_supply == 1, 1], s = 100, c = 'cyan', label = 'Source')\n",
        "plt.scatter(Supply[y_supply == 2, 0], Supply[y_supply == 2, 1], s = 100, c = 'cyan', label = 'Source')\n",
        "plt.scatter(Demand[y_demand == 0, 0], Demand[y_demand == 0, 1], s = 100, c = 'brown', label = 'Demand')\n",
        "plt.scatter(Demand[y_demand == 1, 0], Demand[y_demand == 1, 1], s = 100, c = 'brown', label = 'Demand')\n",
        "plt.scatter(Demand[y_demand == 2, 0], Demand[y_demand== 2, 1], s = 100, c = 'brown', label = 'Demand')\n",
        "plt.scatter(Demand[y_demand == 3, 0], Demand[y_demand== 3, 1], s = 100, c = 'brown', label = 'Demand')\n",
        "# plt.scatter(X_c[y_hc == 4, 0], X_c[y_hc == 4, 1], s = 100, c = 'magenta', label = 'Cluster 5')\n",
        "# plt.title('Clusters of plastic waste')\n",
        "plt.xlabel('PC1')\n",
        "plt.ylabel('PC2')\n",
        "# plt.legend()\n",
        "plt.show()"
      ],
      "execution_count": null,
      "outputs": [
        {
          "output_type": "display_data",
          "data": {
            "image/png": "[encoded data removed]",
            "text/plain": [
              "<Figure size 432x288 with 1 Axes>"
            ]
          },
          "metadata": {
            "needs_background": "light"
          }
        }
      ]
    },
    {
      "cell_type": "markdown",
      "metadata": {
        "id": "CfwOYFq9QZeD"
      },
      "source": [
        "**DBSCAN**"
      ]
    },
    {
      "cell_type": "code",
      "metadata": {
        "colab": {
          "base_uri": "https://localhost:8080/"
        },
        "id": "3ZuXNtvwL-EW",
        "outputId": "769dbf32-16cc-4dc5-de37-e0d8b32f97eb"
      },
      "source": [
        "i=np.identity(dataset.shape[1]-2)\n",
        "print(pca.transform(i))"
      ],
      "execution_count": null,
      "outputs": [
        {
          "output_type": "stream",
          "name": "stdout",
          "text": [
            "[[ 0.24047763  0.12585364]\n",
            " [ 0.1915152   0.38887186]\n",
            " [ 0.25987549 -0.02594473]\n",
            " [ 0.22735792  0.30938942]\n",
            " [ 0.29270299  0.12400405]\n",
            " [ 0.27455235 -0.11356291]\n",
            " [ 0.18191918 -0.04044776]\n",
            " [ 0.09498813 -0.05360648]\n",
            " [ 0.25988127 -0.04787519]\n",
            " [ 0.26716293 -0.03215638]\n",
            " [ 0.20028072  0.36740759]\n",
            " [ 0.21979492  0.33937065]\n",
            " [ 0.19512607 -0.28386288]\n",
            " [ 0.15585633  0.27225593]\n",
            " [ 0.16509275 -0.11903487]\n",
            " [-0.21263366  0.16336045]\n",
            " [ 0.09070376 -0.19443126]\n",
            " [ 0.19044967 -0.0882263 ]\n",
            " [ 0.21966761 -0.14127231]\n",
            " [ 0.24482695 -0.31879575]\n",
            " [ 0.26121121 -0.29587361]]\n"
          ]
        }
      ]
    },
    {
      "cell_type": "code",
      "metadata": {
        "colab": {
          "base_uri": "https://localhost:8080/"
        },
        "id": "rS4jW3FRQfWx",
        "outputId": "2da8d125-0e0b-4fd6-959a-5fc501c22e5b"
      },
      "source": [
        "from sklearn.cluster import DBSCAN\n",
        "#X_c = sc.fit_transform(X_c)\n",
        "db = DBSCAN(eps=0.15, min_samples=30).fit(X_c)\n",
        "labels = db.labels_\n",
        "print(labels)\n",
        "print(\"Silhouette Coefficient: %0.3f\" % metrics.silhouette_score(X_c, labels))"
      ],
      "execution_count": null,
      "outputs": [
        {
          "output_type": "stream",
          "name": "stdout",
          "text": [
            "[ 0  0  0  0  0  0  0  0  0  0  0  0  0  0  0  0  0  0  0  0  0  0  0  0\n",
            "  0  0  0  0  0  0  0  0  0  0  0  0  0  0 -1  0  0  0  0  0  0  0  0 -1\n",
            "  0  0  0  0  0  0  0  0  0  0  0  0  0  0  0  0  0  0  0  0  0  0  0  0\n",
            "  0  0  0  0  0  0  0 -1  0  0  0  0  0  0  0  0  0  0  0  0  0  0  0  0\n",
            "  0  0  0  0  0  0  0  0  0  0  0  0  0  0  0  0  0  0  0  0  0  0  0  0\n",
            "  0  0  0  0  0  0  0  0  0  0  0  0  0  0  0  0  0  0  0  0  0  0  0  0\n",
            "  0  0  0  0  0  0  0  0  0  0  0  0 -1  0  0  0  0  0  0  0  0  0  0  0\n",
            "  0  0  0  0  0  0  0  0  0  0  0  0  0  0  0  0  0  0  0  0  0  0  0  0\n",
            "  0  0  0  0  0  0  0  0  0  0  0  0  0  0  0  0  0  0  0  0  0  0  0  0\n",
            "  0  0  0  0  0  0  0  0  0  0  0  0  0  0  0  0  0  0  0  0  0  0  0  0\n",
            "  0  0  0  0  0  0  0  0  0  0  0  0 -1  0  0  0 -1  0  0  0  0  0  0  0\n",
            "  0  0  0  0  0  0  0  0  0  0  0  0  0  0  0  0  0  0  0  0  0  0  0  0\n",
            "  0  0  0  0  0  0  0  0  0  0  0]\n",
            "Silhouette Coefficient: 0.424\n"
          ]
        }
      ]
    },
    {
      "cell_type": "code",
      "metadata": {
        "colab": {
          "base_uri": "https://localhost:8080/"
        },
        "id": "-qWWC8clW9Cl",
        "outputId": "678c9ef1-3234-49d0-df59-6c6c25bf122a"
      },
      "source": [
        "from sklearn.cluster import AffinityPropagation\n",
        "# Compute Affinity Propagation\n",
        "af = AffinityPropagation(preference=-0.4, random_state=10,affinity='euclidean').fit(X_c)\n",
        "cluster_centers_indices = af.cluster_centers_indices_\n",
        "labels = af.labels_\n",
        "\n",
        "n_clusters_ = len(cluster_centers_indices)\n",
        "print(labels)\n",
        "\n",
        "print(\"Estimated number of clusters: %d\" % n_clusters_)\n",
        "print(\n",
        "    \"Silhouette Coefficient: %0.3f\"\n",
        "    % metrics.silhouette_score(X_c, labels, metric=\"sqeuclidean\")\n",
        ")"
      ],
      "execution_count": null,
      "outputs": [
        {
          "output_type": "stream",
          "name": "stdout",
          "text": [
            "[0 3 6 2 1 3 0 1 3 3 1 3 5 2 5 4 0 6 5 4 6 3 3 6 1 3 5 0 5 3 0 4 4 2 1 3 4\n",
            " 3 6 3 1 3 1 0 3 4 3 6 3 3 1 6 4 1 1 1 4 5 5 3 0 3 2 4 3 1 1 3 6 3 3 6 1 3\n",
            " 5 4 1 3 3 0 3 3 0 3 1 0 5 4 3 1 3 1 3 4 4 5 5 1 5 3 3 3 0 3 3 6 0 1 6 3 2\n",
            " 5 5 5 1 4 3 2 0 3 3 2 3 0 2 5 3 1 1 1 0 6 1 0 3 3 4 1 6 1 4 4 6 4 3 0 1 3\n",
            " 4 3 4 4 2 0 4 3 4 2 3 2 1 3 3 3 3 6 1 6 2 3 6 4 0 4 6 3 3 5 5 1 1 1 5 4 2\n",
            " 3 2 3 1 3 6 2 4 3 4 4 6 3 5 0 4 6 5 2 1 0 5 6 6 2 1 1 6 3 5 2 3 6 3 5 3 4\n",
            " 2 4 1 4 5 5 3 3 4 1 2 4 3 2 1 0 6 1 3 4 2 4 6 5 6 5 5 5 6 4 1 3 4 4 5 1 6\n",
            " 1 5 5 3 5 4 0 3 1 1 0 3 6 3 4 5 4 4 4 3 0 2 3 3 3 3 1 2 3 3 0 3 3 3 5 3 3\n",
            " 2 1 3]\n",
            "Estimated number of clusters: 7\n",
            "Silhouette Coefficient: 0.492\n"
          ]
        }
      ]
    },
    {
      "cell_type": "markdown",
      "source": [
        "Decision Tree"
      ],
      "metadata": {
        "id": "ayoKIiLff52P"
      }
    },
    {
      "cell_type": "code",
      "source": [
        "#graph.render(\"iris\") \n",
        "features=['PC1','PC2']\n",
        "# features=['pH','DO','BOD','COD','Perm','SS','NH3','Nitrates','Chlorides','Fe','Mang','AB','CCL']\n",
        "classes=['1','2','3','4']\n",
        "\n",
        "from sklearn.model_selection import train_test_split\n",
        "# X_train, X_test, y_train, y_test = train_test_split(X_c, y_ori, test_size = 0.3, random_state = 10) \n",
        "X_train, X_test, y_train, y_test = train_test_split(X_c, y_hc, test_size = 0.3, random_state = 10) \n",
        "\n",
        "from sklearn.tree import DecisionTreeClassifier\n",
        "from sklearn.tree import export_text\n",
        "from sklearn import tree\n",
        "classifier = DecisionTreeClassifier(criterion = 'entropy', random_state = 25,max_features=2,max_depth=2) #PE Random_state = 25,  #PP Random_state = 0. #PET Random_state=25\n",
        "classifier.fit(X_train, y_train)\n",
        "# classifier.fit(X_c, y_kmeans)\n",
        "#tree.plot_tree(classifier)\n",
        "\n",
        "r=export_text(classifier,feature_names=features)\n",
        "print(r)\n",
        "\n",
        "\n",
        "\n",
        "\n",
        "import graphviz \n",
        "dot_data = tree.export_graphviz(classifier, out_file=None, \n",
        "                     feature_names=features,  \n",
        "                      class_names=classes,  \n",
        "                      filled=True, rounded=True,  \n",
        "                     special_characters=True)  \n",
        "graph = graphviz.Source(dot_data) \n",
        "graph"
      ],
      "metadata": {
        "colab": {
          "base_uri": "https://localhost:8080/",
          "height": 660
        },
        "id": "ptuYmI3rf5Rw",
        "outputId": "8763019c-12de-4360-e1d2-d5a1e98f4ce2"
      },
      "execution_count": null,
      "outputs": [
        {
          "output_type": "stream",
          "name": "stdout",
          "text": [
            "|--- PC1 <= -0.89\n",
            "|   |--- PC2 <= 0.17\n",
            "|   |   |--- class: 3\n",
            "|   |--- PC2 >  0.17\n",
            "|   |   |--- class: 1\n",
            "|--- PC1 >  -0.89\n",
            "|   |--- PC2 <= -0.14\n",
            "|   |   |--- class: 2\n",
            "|   |--- PC2 >  -0.14\n",
            "|   |   |--- class: 0\n",
            "\n"
          ]
        },
        {
          "output_type": "execute_result",
          "data": {
            "text/plain": [
              "<graphviz.files.Source at 0x7f7ce3ee99d0>"
            ],
            "image/svg+xml": "<?xml version=\"1.0\" encoding=\"UTF-8\" standalone=\"no\"?>\n<!DOCTYPE svg PUBLIC \"-//W3C//DTD SVG 1.1//EN\"\n \"http://www.w3.org/Graphics/SVG/1.1/DTD/svg11.dtd\">\n<!-- Generated by graphviz version 2.40.1 (20161225.0304)\n -->\n<!-- Title: Tree Pages: 1 -->\n<svg width=\"622pt\" height=\"314pt\"\n viewBox=\"0.00 0.00 622.00 314.00\" xmlns=\"http://www.w3.org/2000/svg\" xmlns:xlink=\"http://www.w3.org/1999/xlink\">\n<g id=\"graph0\" class=\"graph\" transform=\"scale(1 1) rotate(0) translate(4 310)\">\n<title>Tree</title>\n<polygon fill=\"#ffffff\" stroke=\"transparent\" points=\"-4,4 -4,-310 618,-310 618,4 -4,4\"/>\n<!-- 0 -->\n<g id=\"node1\" class=\"node\">\n<title>0</title>\n<path fill=\"#fef9fe\" stroke=\"#000000\" d=\"M376.5,-306C376.5,-306 236.5,-306 236.5,-306 230.5,-306 224.5,-300 224.5,-294 224.5,-294 224.5,-235 224.5,-235 224.5,-229 230.5,-223 236.5,-223 236.5,-223 376.5,-223 376.5,-223 382.5,-223 388.5,-229 388.5,-235 388.5,-235 388.5,-294 388.5,-294 388.5,-300 382.5,-306 376.5,-306\"/>\n<text text-anchor=\"start\" x=\"264\" y=\"-290.8\" font-family=\"Helvetica,sans-Serif\" font-size=\"14.00\" fill=\"#000000\">PC1 ≤ &#45;0.893</text>\n<text text-anchor=\"start\" x=\"255.5\" y=\"-275.8\" font-family=\"Helvetica,sans-Serif\" font-size=\"14.00\" fill=\"#000000\">entropy = 1.992</text>\n<text text-anchor=\"start\" x=\"258.5\" y=\"-260.8\" font-family=\"Helvetica,sans-Serif\" font-size=\"14.00\" fill=\"#000000\">samples = 210</text>\n<text text-anchor=\"start\" x=\"232.5\" y=\"-245.8\" font-family=\"Helvetica,sans-Serif\" font-size=\"14.00\" fill=\"#000000\">value = [53, 44, 54, 59]</text>\n<text text-anchor=\"start\" x=\"277.5\" y=\"-230.8\" font-family=\"Helvetica,sans-Serif\" font-size=\"14.00\" fill=\"#000000\">class = 4</text>\n</g>\n<!-- 1 -->\n<g id=\"node2\" class=\"node\">\n<title>1</title>\n<path fill=\"#f5cdf8\" stroke=\"#000000\" d=\"M286,-187C286,-187 163,-187 163,-187 157,-187 151,-181 151,-175 151,-175 151,-116 151,-116 151,-110 157,-104 163,-104 163,-104 286,-104 286,-104 292,-104 298,-110 298,-116 298,-116 298,-175 298,-175 298,-181 292,-187 286,-187\"/>\n<text text-anchor=\"start\" x=\"188\" y=\"-171.8\" font-family=\"Helvetica,sans-Serif\" font-size=\"14.00\" fill=\"#000000\">PC2 ≤ 0.17</text>\n<text text-anchor=\"start\" x=\"173.5\" y=\"-156.8\" font-family=\"Helvetica,sans-Serif\" font-size=\"14.00\" fill=\"#000000\">entropy = 0.985</text>\n<text text-anchor=\"start\" x=\"176.5\" y=\"-141.8\" font-family=\"Helvetica,sans-Serif\" font-size=\"14.00\" fill=\"#000000\">samples = 103</text>\n<text text-anchor=\"start\" x=\"159\" y=\"-126.8\" font-family=\"Helvetica,sans-Serif\" font-size=\"14.00\" fill=\"#000000\">value = [0, 44, 0, 59]</text>\n<text text-anchor=\"start\" x=\"195.5\" y=\"-111.8\" font-family=\"Helvetica,sans-Serif\" font-size=\"14.00\" fill=\"#000000\">class = 4</text>\n</g>\n<!-- 0&#45;&gt;1 -->\n<g id=\"edge1\" class=\"edge\">\n<title>0&#45;&gt;1</title>\n<path fill=\"none\" stroke=\"#000000\" d=\"M277.8204,-222.8796C271.7385,-214.0534 265.2578,-204.6485 258.9859,-195.5466\"/>\n<polygon fill=\"#000000\" stroke=\"#000000\" points=\"261.8582,-193.5465 253.302,-187.2981 256.0941,-197.5184 261.8582,-193.5465\"/>\n<text text-anchor=\"middle\" x=\"248.7761\" y=\"-208.185\" font-family=\"Helvetica,sans-Serif\" font-size=\"14.00\" fill=\"#000000\">True</text>\n</g>\n<!-- 4 -->\n<g id=\"node5\" class=\"node\">\n<title>4</title>\n<path fill=\"#fbfdff\" stroke=\"#000000\" d=\"M451,-187C451,-187 328,-187 328,-187 322,-187 316,-181 316,-175 316,-175 316,-116 316,-116 316,-110 322,-104 328,-104 328,-104 451,-104 451,-104 457,-104 463,-110 463,-116 463,-116 463,-175 463,-175 463,-181 457,-187 451,-187\"/>\n<text text-anchor=\"start\" x=\"347\" y=\"-171.8\" font-family=\"Helvetica,sans-Serif\" font-size=\"14.00\" fill=\"#000000\">PC2 ≤ &#45;0.144</text>\n<text text-anchor=\"start\" x=\"347\" y=\"-156.8\" font-family=\"Helvetica,sans-Serif\" font-size=\"14.00\" fill=\"#000000\">entropy = 1.0</text>\n<text text-anchor=\"start\" x=\"341.5\" y=\"-141.8\" font-family=\"Helvetica,sans-Serif\" font-size=\"14.00\" fill=\"#000000\">samples = 107</text>\n<text text-anchor=\"start\" x=\"324\" y=\"-126.8\" font-family=\"Helvetica,sans-Serif\" font-size=\"14.00\" fill=\"#000000\">value = [53, 0, 54, 0]</text>\n<text text-anchor=\"start\" x=\"360.5\" y=\"-111.8\" font-family=\"Helvetica,sans-Serif\" font-size=\"14.00\" fill=\"#000000\">class = 3</text>\n</g>\n<!-- 0&#45;&gt;4 -->\n<g id=\"edge4\" class=\"edge\">\n<title>0&#45;&gt;4</title>\n<path fill=\"none\" stroke=\"#000000\" d=\"M335.5294,-222.8796C341.6855,-214.0534 348.2451,-204.6485 354.5936,-195.5466\"/>\n<polygon fill=\"#000000\" stroke=\"#000000\" points=\"357.4967,-197.5024 360.3467,-187.2981 351.7552,-193.4978 357.4967,-197.5024\"/>\n<text text-anchor=\"middle\" x=\"364.7331\" y=\"-208.2103\" font-family=\"Helvetica,sans-Serif\" font-size=\"14.00\" fill=\"#000000\">False</text>\n</g>\n<!-- 2 -->\n<g id=\"node3\" class=\"node\">\n<title>2</title>\n<path fill=\"#d739e5\" stroke=\"#000000\" d=\"M127,-68C127,-68 12,-68 12,-68 6,-68 0,-62 0,-56 0,-56 0,-12 0,-12 0,-6 6,0 12,0 12,0 127,0 127,0 133,0 139,-6 139,-12 139,-12 139,-56 139,-56 139,-62 133,-68 127,-68\"/>\n<text text-anchor=\"start\" x=\"27\" y=\"-52.8\" font-family=\"Helvetica,sans-Serif\" font-size=\"14.00\" fill=\"#000000\">entropy = 0.0</text>\n<text text-anchor=\"start\" x=\"25.5\" y=\"-37.8\" font-family=\"Helvetica,sans-Serif\" font-size=\"14.00\" fill=\"#000000\">samples = 59</text>\n<text text-anchor=\"start\" x=\"8\" y=\"-22.8\" font-family=\"Helvetica,sans-Serif\" font-size=\"14.00\" fill=\"#000000\">value = [0, 0, 0, 59]</text>\n<text text-anchor=\"start\" x=\"40.5\" y=\"-7.8\" font-family=\"Helvetica,sans-Serif\" font-size=\"14.00\" fill=\"#000000\">class = 4</text>\n</g>\n<!-- 1&#45;&gt;2 -->\n<g id=\"edge2\" class=\"edge\">\n<title>1&#45;&gt;2</title>\n<path fill=\"none\" stroke=\"#000000\" d=\"M166.7837,-103.9815C153.2409,-94.2394 138.8343,-83.8759 125.3737,-74.193\"/>\n<polygon fill=\"#000000\" stroke=\"#000000\" points=\"127.2928,-71.2621 117.1311,-68.2637 123.2051,-76.9446 127.2928,-71.2621\"/>\n</g>\n<!-- 3 -->\n<g id=\"node4\" class=\"node\">\n<title>3</title>\n<path fill=\"#47e539\" stroke=\"#000000\" d=\"M284,-68C284,-68 169,-68 169,-68 163,-68 157,-62 157,-56 157,-56 157,-12 157,-12 157,-6 163,0 169,0 169,0 284,0 284,0 290,0 296,-6 296,-12 296,-12 296,-56 296,-56 296,-62 290,-68 284,-68\"/>\n<text text-anchor=\"start\" x=\"184\" y=\"-52.8\" font-family=\"Helvetica,sans-Serif\" font-size=\"14.00\" fill=\"#000000\">entropy = 0.0</text>\n<text text-anchor=\"start\" x=\"182.5\" y=\"-37.8\" font-family=\"Helvetica,sans-Serif\" font-size=\"14.00\" fill=\"#000000\">samples = 44</text>\n<text text-anchor=\"start\" x=\"165\" y=\"-22.8\" font-family=\"Helvetica,sans-Serif\" font-size=\"14.00\" fill=\"#000000\">value = [0, 44, 0, 0]</text>\n<text text-anchor=\"start\" x=\"197.5\" y=\"-7.8\" font-family=\"Helvetica,sans-Serif\" font-size=\"14.00\" fill=\"#000000\">class = 2</text>\n</g>\n<!-- 1&#45;&gt;3 -->\n<g id=\"edge3\" class=\"edge\">\n<title>1&#45;&gt;3</title>\n<path fill=\"none\" stroke=\"#000000\" d=\"M225.2447,-103.9815C225.3947,-95.618 225.553,-86.7965 225.7046,-78.3409\"/>\n<polygon fill=\"#000000\" stroke=\"#000000\" points=\"229.2054,-78.3249 225.8854,-68.2637 222.2065,-78.1993 229.2054,-78.3249\"/>\n</g>\n<!-- 5 -->\n<g id=\"node6\" class=\"node\">\n<title>5</title>\n<path fill=\"#399de5\" stroke=\"#000000\" d=\"M445,-68C445,-68 330,-68 330,-68 324,-68 318,-62 318,-56 318,-56 318,-12 318,-12 318,-6 324,0 330,0 330,0 445,0 445,0 451,0 457,-6 457,-12 457,-12 457,-56 457,-56 457,-62 451,-68 445,-68\"/>\n<text text-anchor=\"start\" x=\"345\" y=\"-52.8\" font-family=\"Helvetica,sans-Serif\" font-size=\"14.00\" fill=\"#000000\">entropy = 0.0</text>\n<text text-anchor=\"start\" x=\"343.5\" y=\"-37.8\" font-family=\"Helvetica,sans-Serif\" font-size=\"14.00\" fill=\"#000000\">samples = 54</text>\n<text text-anchor=\"start\" x=\"326\" y=\"-22.8\" font-family=\"Helvetica,sans-Serif\" font-size=\"14.00\" fill=\"#000000\">value = [0, 0, 54, 0]</text>\n<text text-anchor=\"start\" x=\"358.5\" y=\"-7.8\" font-family=\"Helvetica,sans-Serif\" font-size=\"14.00\" fill=\"#000000\">class = 3</text>\n</g>\n<!-- 4&#45;&gt;5 -->\n<g id=\"edge5\" class=\"edge\">\n<title>4&#45;&gt;5</title>\n<path fill=\"none\" stroke=\"#000000\" d=\"M388.7553,-103.9815C388.6053,-95.618 388.447,-86.7965 388.2954,-78.3409\"/>\n<polygon fill=\"#000000\" stroke=\"#000000\" points=\"391.7935,-78.1993 388.1146,-68.2637 384.7946,-78.3249 391.7935,-78.1993\"/>\n</g>\n<!-- 6 -->\n<g id=\"node7\" class=\"node\">\n<title>6</title>\n<path fill=\"#e58139\" stroke=\"#000000\" d=\"M602,-68C602,-68 487,-68 487,-68 481,-68 475,-62 475,-56 475,-56 475,-12 475,-12 475,-6 481,0 487,0 487,0 602,0 602,0 608,0 614,-6 614,-12 614,-12 614,-56 614,-56 614,-62 608,-68 602,-68\"/>\n<text text-anchor=\"start\" x=\"502\" y=\"-52.8\" font-family=\"Helvetica,sans-Serif\" font-size=\"14.00\" fill=\"#000000\">entropy = 0.0</text>\n<text text-anchor=\"start\" x=\"500.5\" y=\"-37.8\" font-family=\"Helvetica,sans-Serif\" font-size=\"14.00\" fill=\"#000000\">samples = 53</text>\n<text text-anchor=\"start\" x=\"483\" y=\"-22.8\" font-family=\"Helvetica,sans-Serif\" font-size=\"14.00\" fill=\"#000000\">value = [53, 0, 0, 0]</text>\n<text text-anchor=\"start\" x=\"515.5\" y=\"-7.8\" font-family=\"Helvetica,sans-Serif\" font-size=\"14.00\" fill=\"#000000\">class = 1</text>\n</g>\n<!-- 4&#45;&gt;6 -->\n<g id=\"edge6\" class=\"edge\">\n<title>4&#45;&gt;6</title>\n<path fill=\"none\" stroke=\"#000000\" d=\"M447.2163,-103.9815C460.7591,-94.2394 475.1657,-83.8759 488.6263,-74.193\"/>\n<polygon fill=\"#000000\" stroke=\"#000000\" points=\"490.7949,-76.9446 496.8689,-68.2637 486.7072,-71.2621 490.7949,-76.9446\"/>\n</g>\n</g>\n</svg>\n"
          },
          "metadata": {},
          "execution_count": 31
        }
      ]
    },
    {
      "cell_type": "code",
      "source": [
        "# Training the Random Forest Classification model on the Training set\n",
        "from sklearn.ensemble import RandomForestClassifier\n",
        "classifier2 = RandomForestClassifier(n_estimators = 50, criterion = 'entropy', random_state = 0,max_features=2,max_depth=2)\n",
        "classifier2.fit(X_train, y_train)\n",
        "estimator=classifier2.estimators_[5]\n",
        "\n",
        "dot_data2 = tree.export_graphviz(estimator, out_file=None, \n",
        "                     feature_names=features,  \n",
        "                      class_names=classes,  \n",
        "                      filled=True, rounded=True,  \n",
        "                     special_characters=True)  \n",
        "graph2 = graphviz.Source(dot_data2) \n",
        "graph2"
      ],
      "metadata": {
        "colab": {
          "base_uri": "https://localhost:8080/",
          "height": 460
        },
        "id": "dnVCOOM2gsZ-",
        "outputId": "240ba255-7c1f-4b5d-90c6-482ab7f86820"
      },
      "execution_count": null,
      "outputs": [
        {
          "output_type": "execute_result",
          "data": {
            "text/plain": [
              "<graphviz.files.Source at 0x7f7ce4ac2890>"
            ],
            "image/svg+xml": "<?xml version=\"1.0\" encoding=\"UTF-8\" standalone=\"no\"?>\n<!DOCTYPE svg PUBLIC \"-//W3C//DTD SVG 1.1//EN\"\n \"http://www.w3.org/Graphics/SVG/1.1/DTD/svg11.dtd\">\n<!-- Generated by graphviz version 2.40.1 (20161225.0304)\n -->\n<!-- Title: Tree Pages: 1 -->\n<svg width=\"622pt\" height=\"314pt\"\n viewBox=\"0.00 0.00 622.00 314.00\" xmlns=\"http://www.w3.org/2000/svg\" xmlns:xlink=\"http://www.w3.org/1999/xlink\">\n<g id=\"graph0\" class=\"graph\" transform=\"scale(1 1) rotate(0) translate(4 310)\">\n<title>Tree</title>\n<polygon fill=\"#ffffff\" stroke=\"transparent\" points=\"-4,4 -4,-310 618,-310 618,4 -4,4\"/>\n<!-- 0 -->\n<g id=\"node1\" class=\"node\">\n<title>0</title>\n<path fill=\"#fefbfe\" stroke=\"#000000\" d=\"M376.5,-306C376.5,-306 236.5,-306 236.5,-306 230.5,-306 224.5,-300 224.5,-294 224.5,-294 224.5,-235 224.5,-235 224.5,-229 230.5,-223 236.5,-223 236.5,-223 376.5,-223 376.5,-223 382.5,-223 388.5,-229 388.5,-235 388.5,-235 388.5,-294 388.5,-294 388.5,-300 382.5,-306 376.5,-306\"/>\n<text text-anchor=\"start\" x=\"264\" y=\"-290.8\" font-family=\"Helvetica,sans-Serif\" font-size=\"14.00\" fill=\"#000000\">PC1 ≤ &#45;0.893</text>\n<text text-anchor=\"start\" x=\"259.5\" y=\"-275.8\" font-family=\"Helvetica,sans-Serif\" font-size=\"14.00\" fill=\"#000000\">entropy = 1.99</text>\n<text text-anchor=\"start\" x=\"258.5\" y=\"-260.8\" font-family=\"Helvetica,sans-Serif\" font-size=\"14.00\" fill=\"#000000\">samples = 133</text>\n<text text-anchor=\"start\" x=\"232.5\" y=\"-245.8\" font-family=\"Helvetica,sans-Serif\" font-size=\"14.00\" fill=\"#000000\">value = [48, 45, 57, 60]</text>\n<text text-anchor=\"start\" x=\"277.5\" y=\"-230.8\" font-family=\"Helvetica,sans-Serif\" font-size=\"14.00\" fill=\"#000000\">class = 4</text>\n</g>\n<!-- 1 -->\n<g id=\"node2\" class=\"node\">\n<title>1</title>\n<path fill=\"#f5cef8\" stroke=\"#000000\" d=\"M286,-187C286,-187 163,-187 163,-187 157,-187 151,-181 151,-175 151,-175 151,-116 151,-116 151,-110 157,-104 163,-104 163,-104 286,-104 286,-104 292,-104 298,-110 298,-116 298,-116 298,-175 298,-175 298,-181 292,-187 286,-187\"/>\n<text text-anchor=\"start\" x=\"184\" y=\"-171.8\" font-family=\"Helvetica,sans-Serif\" font-size=\"14.00\" fill=\"#000000\">PC2 ≤ 0.286</text>\n<text text-anchor=\"start\" x=\"173.5\" y=\"-156.8\" font-family=\"Helvetica,sans-Serif\" font-size=\"14.00\" fill=\"#000000\">entropy = 0.985</text>\n<text text-anchor=\"start\" x=\"180.5\" y=\"-141.8\" font-family=\"Helvetica,sans-Serif\" font-size=\"14.00\" fill=\"#000000\">samples = 67</text>\n<text text-anchor=\"start\" x=\"159\" y=\"-126.8\" font-family=\"Helvetica,sans-Serif\" font-size=\"14.00\" fill=\"#000000\">value = [0, 45, 0, 60]</text>\n<text text-anchor=\"start\" x=\"195.5\" y=\"-111.8\" font-family=\"Helvetica,sans-Serif\" font-size=\"14.00\" fill=\"#000000\">class = 4</text>\n</g>\n<!-- 0&#45;&gt;1 -->\n<g id=\"edge1\" class=\"edge\">\n<title>0&#45;&gt;1</title>\n<path fill=\"none\" stroke=\"#000000\" d=\"M277.8204,-222.8796C271.7385,-214.0534 265.2578,-204.6485 258.9859,-195.5466\"/>\n<polygon fill=\"#000000\" stroke=\"#000000\" points=\"261.8582,-193.5465 253.302,-187.2981 256.0941,-197.5184 261.8582,-193.5465\"/>\n<text text-anchor=\"middle\" x=\"248.7761\" y=\"-208.185\" font-family=\"Helvetica,sans-Serif\" font-size=\"14.00\" fill=\"#000000\">True</text>\n</g>\n<!-- 4 -->\n<g id=\"node5\" class=\"node\">\n<title>4</title>\n<path fill=\"#e0f0fb\" stroke=\"#000000\" d=\"M451,-187C451,-187 328,-187 328,-187 322,-187 316,-181 316,-175 316,-175 316,-116 316,-116 316,-110 322,-104 328,-104 328,-104 451,-104 451,-104 457,-104 463,-110 463,-116 463,-116 463,-175 463,-175 463,-181 457,-187 451,-187\"/>\n<text text-anchor=\"start\" x=\"347\" y=\"-171.8\" font-family=\"Helvetica,sans-Serif\" font-size=\"14.00\" fill=\"#000000\">PC2 ≤ &#45;0.144</text>\n<text text-anchor=\"start\" x=\"338.5\" y=\"-156.8\" font-family=\"Helvetica,sans-Serif\" font-size=\"14.00\" fill=\"#000000\">entropy = 0.995</text>\n<text text-anchor=\"start\" x=\"345.5\" y=\"-141.8\" font-family=\"Helvetica,sans-Serif\" font-size=\"14.00\" fill=\"#000000\">samples = 66</text>\n<text text-anchor=\"start\" x=\"324\" y=\"-126.8\" font-family=\"Helvetica,sans-Serif\" font-size=\"14.00\" fill=\"#000000\">value = [48, 0, 57, 0]</text>\n<text text-anchor=\"start\" x=\"360.5\" y=\"-111.8\" font-family=\"Helvetica,sans-Serif\" font-size=\"14.00\" fill=\"#000000\">class = 3</text>\n</g>\n<!-- 0&#45;&gt;4 -->\n<g id=\"edge4\" class=\"edge\">\n<title>0&#45;&gt;4</title>\n<path fill=\"none\" stroke=\"#000000\" d=\"M335.5294,-222.8796C341.6855,-214.0534 348.2451,-204.6485 354.5936,-195.5466\"/>\n<polygon fill=\"#000000\" stroke=\"#000000\" points=\"357.4967,-197.5024 360.3467,-187.2981 351.7552,-193.4978 357.4967,-197.5024\"/>\n<text text-anchor=\"middle\" x=\"364.7331\" y=\"-208.2103\" font-family=\"Helvetica,sans-Serif\" font-size=\"14.00\" fill=\"#000000\">False</text>\n</g>\n<!-- 2 -->\n<g id=\"node3\" class=\"node\">\n<title>2</title>\n<path fill=\"#d739e5\" stroke=\"#000000\" d=\"M127,-68C127,-68 12,-68 12,-68 6,-68 0,-62 0,-56 0,-56 0,-12 0,-12 0,-6 6,0 12,0 12,0 127,0 127,0 133,0 139,-6 139,-12 139,-12 139,-56 139,-56 139,-62 133,-68 127,-68\"/>\n<text text-anchor=\"start\" x=\"27\" y=\"-52.8\" font-family=\"Helvetica,sans-Serif\" font-size=\"14.00\" fill=\"#000000\">entropy = 0.0</text>\n<text text-anchor=\"start\" x=\"25.5\" y=\"-37.8\" font-family=\"Helvetica,sans-Serif\" font-size=\"14.00\" fill=\"#000000\">samples = 37</text>\n<text text-anchor=\"start\" x=\"8\" y=\"-22.8\" font-family=\"Helvetica,sans-Serif\" font-size=\"14.00\" fill=\"#000000\">value = [0, 0, 0, 60]</text>\n<text text-anchor=\"start\" x=\"40.5\" y=\"-7.8\" font-family=\"Helvetica,sans-Serif\" font-size=\"14.00\" fill=\"#000000\">class = 4</text>\n</g>\n<!-- 1&#45;&gt;2 -->\n<g id=\"edge2\" class=\"edge\">\n<title>1&#45;&gt;2</title>\n<path fill=\"none\" stroke=\"#000000\" d=\"M166.7837,-103.9815C153.2409,-94.2394 138.8343,-83.8759 125.3737,-74.193\"/>\n<polygon fill=\"#000000\" stroke=\"#000000\" points=\"127.2928,-71.2621 117.1311,-68.2637 123.2051,-76.9446 127.2928,-71.2621\"/>\n</g>\n<!-- 3 -->\n<g id=\"node4\" class=\"node\">\n<title>3</title>\n<path fill=\"#47e539\" stroke=\"#000000\" d=\"M284,-68C284,-68 169,-68 169,-68 163,-68 157,-62 157,-56 157,-56 157,-12 157,-12 157,-6 163,0 169,0 169,0 284,0 284,0 290,0 296,-6 296,-12 296,-12 296,-56 296,-56 296,-62 290,-68 284,-68\"/>\n<text text-anchor=\"start\" x=\"184\" y=\"-52.8\" font-family=\"Helvetica,sans-Serif\" font-size=\"14.00\" fill=\"#000000\">entropy = 0.0</text>\n<text text-anchor=\"start\" x=\"182.5\" y=\"-37.8\" font-family=\"Helvetica,sans-Serif\" font-size=\"14.00\" fill=\"#000000\">samples = 30</text>\n<text text-anchor=\"start\" x=\"165\" y=\"-22.8\" font-family=\"Helvetica,sans-Serif\" font-size=\"14.00\" fill=\"#000000\">value = [0, 45, 0, 0]</text>\n<text text-anchor=\"start\" x=\"197.5\" y=\"-7.8\" font-family=\"Helvetica,sans-Serif\" font-size=\"14.00\" fill=\"#000000\">class = 2</text>\n</g>\n<!-- 1&#45;&gt;3 -->\n<g id=\"edge3\" class=\"edge\">\n<title>1&#45;&gt;3</title>\n<path fill=\"none\" stroke=\"#000000\" d=\"M225.2447,-103.9815C225.3947,-95.618 225.553,-86.7965 225.7046,-78.3409\"/>\n<polygon fill=\"#000000\" stroke=\"#000000\" points=\"229.2054,-78.3249 225.8854,-68.2637 222.2065,-78.1993 229.2054,-78.3249\"/>\n</g>\n<!-- 5 -->\n<g id=\"node6\" class=\"node\">\n<title>5</title>\n<path fill=\"#399de5\" stroke=\"#000000\" d=\"M445,-68C445,-68 330,-68 330,-68 324,-68 318,-62 318,-56 318,-56 318,-12 318,-12 318,-6 324,0 330,0 330,0 445,0 445,0 451,0 457,-6 457,-12 457,-12 457,-56 457,-56 457,-62 451,-68 445,-68\"/>\n<text text-anchor=\"start\" x=\"345\" y=\"-52.8\" font-family=\"Helvetica,sans-Serif\" font-size=\"14.00\" fill=\"#000000\">entropy = 0.0</text>\n<text text-anchor=\"start\" x=\"343.5\" y=\"-37.8\" font-family=\"Helvetica,sans-Serif\" font-size=\"14.00\" fill=\"#000000\">samples = 36</text>\n<text text-anchor=\"start\" x=\"326\" y=\"-22.8\" font-family=\"Helvetica,sans-Serif\" font-size=\"14.00\" fill=\"#000000\">value = [0, 0, 57, 0]</text>\n<text text-anchor=\"start\" x=\"358.5\" y=\"-7.8\" font-family=\"Helvetica,sans-Serif\" font-size=\"14.00\" fill=\"#000000\">class = 3</text>\n</g>\n<!-- 4&#45;&gt;5 -->\n<g id=\"edge5\" class=\"edge\">\n<title>4&#45;&gt;5</title>\n<path fill=\"none\" stroke=\"#000000\" d=\"M388.7553,-103.9815C388.6053,-95.618 388.447,-86.7965 388.2954,-78.3409\"/>\n<polygon fill=\"#000000\" stroke=\"#000000\" points=\"391.7935,-78.1993 388.1146,-68.2637 384.7946,-78.3249 391.7935,-78.1993\"/>\n</g>\n<!-- 6 -->\n<g id=\"node7\" class=\"node\">\n<title>6</title>\n<path fill=\"#e58139\" stroke=\"#000000\" d=\"M602,-68C602,-68 487,-68 487,-68 481,-68 475,-62 475,-56 475,-56 475,-12 475,-12 475,-6 481,0 487,0 487,0 602,0 602,0 608,0 614,-6 614,-12 614,-12 614,-56 614,-56 614,-62 608,-68 602,-68\"/>\n<text text-anchor=\"start\" x=\"502\" y=\"-52.8\" font-family=\"Helvetica,sans-Serif\" font-size=\"14.00\" fill=\"#000000\">entropy = 0.0</text>\n<text text-anchor=\"start\" x=\"500.5\" y=\"-37.8\" font-family=\"Helvetica,sans-Serif\" font-size=\"14.00\" fill=\"#000000\">samples = 30</text>\n<text text-anchor=\"start\" x=\"483\" y=\"-22.8\" font-family=\"Helvetica,sans-Serif\" font-size=\"14.00\" fill=\"#000000\">value = [48, 0, 0, 0]</text>\n<text text-anchor=\"start\" x=\"515.5\" y=\"-7.8\" font-family=\"Helvetica,sans-Serif\" font-size=\"14.00\" fill=\"#000000\">class = 1</text>\n</g>\n<!-- 4&#45;&gt;6 -->\n<g id=\"edge6\" class=\"edge\">\n<title>4&#45;&gt;6</title>\n<path fill=\"none\" stroke=\"#000000\" d=\"M447.2163,-103.9815C460.7591,-94.2394 475.1657,-83.8759 488.6263,-74.193\"/>\n<polygon fill=\"#000000\" stroke=\"#000000\" points=\"490.7949,-76.9446 496.8689,-68.2637 486.7072,-71.2621 490.7949,-76.9446\"/>\n</g>\n</g>\n</svg>\n"
          },
          "metadata": {},
          "execution_count": 34
        }
      ]
    },
    {
      "cell_type": "code",
      "source": [
        "from sklearn.metrics import confusion_matrix, accuracy_score\n",
        "from sklearn.metrics import classification_report\n",
        "y_pred = classifier.predict(X_test)\n",
        "cm = confusion_matrix(y_test, y_pred)\n",
        "print(cm)\n",
        "print(accuracy_score(y_test, y_pred))\n",
        "\n",
        "y_pred2 = classifier2.predict(X_test)\n",
        "cm2 = confusion_matrix(y_test, y_pred2)\n",
        "print(cm2)\n",
        "print(accuracy_score(y_test, y_pred2))\n",
        "\n",
        "target_names = classes\n",
        "print(classification_report(y_test, y_pred, target_names=target_names))\n",
        "print(classification_report(y_test, y_pred2, target_names=target_names))"
      ],
      "metadata": {
        "colab": {
          "base_uri": "https://localhost:8080/"
        },
        "id": "DBGlSXhYg3h-",
        "outputId": "24eba809-0fda-44cb-c7e7-e9563f1255d9"
      },
      "execution_count": null,
      "outputs": [
        {
          "output_type": "stream",
          "name": "stdout",
          "text": [
            "[[21  0  1  0]\n",
            " [ 0 22  0  0]\n",
            " [ 0  0 25  0]\n",
            " [ 0  0  0 21]]\n",
            "0.9888888888888889\n",
            "[[22  0  0  0]\n",
            " [ 0 22  0  0]\n",
            " [ 0  0 25  0]\n",
            " [ 0  0  0 21]]\n",
            "1.0\n",
            "              precision    recall  f1-score   support\n",
            "\n",
            "           1       1.00      0.95      0.98        22\n",
            "           2       1.00      1.00      1.00        22\n",
            "           3       0.96      1.00      0.98        25\n",
            "           4       1.00      1.00      1.00        21\n",
            "\n",
            "    accuracy                           0.99        90\n",
            "   macro avg       0.99      0.99      0.99        90\n",
            "weighted avg       0.99      0.99      0.99        90\n",
            "\n",
            "              precision    recall  f1-score   support\n",
            "\n",
            "           1       1.00      1.00      1.00        22\n",
            "           2       1.00      1.00      1.00        22\n",
            "           3       1.00      1.00      1.00        25\n",
            "           4       1.00      1.00      1.00        21\n",
            "\n",
            "    accuracy                           1.00        90\n",
            "   macro avg       1.00      1.00      1.00        90\n",
            "weighted avg       1.00      1.00      1.00        90\n",
            "\n"
          ]
        }
      ]
    }
  ]
}