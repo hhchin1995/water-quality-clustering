{
  "nbformat": 4,
  "nbformat_minor": 0,
  "metadata": {
    "colab": {
      "name": "Coastal water.ipynb",
      "provenance": [],
      "collapsed_sections": [],
      "machine_shape": "hm",
      "include_colab_link": true
    },
    "kernelspec": {
      "name": "python3",
      "display_name": "Python 3"
    }
  },
  "cells": [
    {
      "cell_type": "markdown",
      "metadata": {
        "id": "view-in-github",
        "colab_type": "text"
      },
      "source": [
        "<a href=\"https://colab.research.google.com/github/hhchin1995/water-quality-clustering/blob/main/Coastal_water.ipynb\" target=\"_parent\"><img src=\"https://colab.research.google.com/assets/colab-badge.svg\" alt=\"Open In Colab\"/></a>"
      ]
    },
    {
      "cell_type": "markdown",
      "metadata": {
        "id": "0MRC0e0KhQ0S"
      },
      "source": [
        "# Coastal water clustering and decision tree for classification"
      ]
    },
    {
      "cell_type": "markdown",
      "metadata": {
        "id": "LWd1UlMnhT2s"
      },
      "source": [
        "## Importing the libraries"
      ]
    },
    {
      "cell_type": "code",
      "metadata": {
        "id": "YvGPUQaHhXfL"
      },
      "source": [
        "import numpy as np\n",
        "import matplotlib.pyplot as plt\n",
        "import pandas as pd"
      ],
      "execution_count": null,
      "outputs": []
    },
    {
      "cell_type": "markdown",
      "metadata": {
        "id": "K1VMqkGvhc3-"
      },
      "source": [
        "## Importing the dataset"
      ]
    },
    {
      "cell_type": "code",
      "metadata": {
        "id": "M52QDmyzhh9s"
      },
      "source": [
        "from google.colab import files\n",
        "import io\n",
        "uploaded = files.upload()\n",
        "\n",
        "# dataset = pd.read_csv('PRES_plastic4-1.csv')\n",
        "dataset = pd.read_csv('Water Samples.csv')\n",
        "# PET\n",
        "# X = dataset.iloc[:-54, 2:4].values\n",
        "# y = dataset.iloc[:-54, 5].values\n",
        "\n",
        "# PE\n",
        "# X = dataset.iloc[15:-20, 2:5].values\n",
        "# X[:,1]=X[:,2]\n",
        "# X=X[:,:-1]\n",
        "# y = dataset.iloc[15:-20, 5].values\n",
        "\n",
        "\n",
        "\n",
        "# PP\n",
        "# X = dataset.iloc[50:, 2:5].values\n",
        "# X[:,1]=X[:,2]\n",
        "# X=np.delete(X,8,0)\n",
        "# X=X[:,:-1]\n",
        "# y = dataset.iloc[50:, 5].values\n",
        "# y=np.delete(y,8,0)\n",
        "X_c = dataset.iloc[:, 1:].values\n",
        "\n",
        "y_train=dataset.iloc[:, 0].values\n",
        "\n",
        "X_test=np.array([[8.0,112, 3, 12, 1, 30, 0.2, 10, 123, 0.08, 0.05, 1, 0.9],\n",
        "                 [7.0,112, 3, 12, 1, 30, 0.2, 10, 123, 0.08, 0.05, 1, 0.9],\n",
        "                 [6.0,1000, 3, 12, 1, 30, 0.2, 10, 123, 0.08, 0.05, 1, 0.9]])\n",
        "print(X_test.shape)\n"
      ],
      "execution_count": null,
      "outputs": []
    },
    {
      "cell_type": "markdown",
      "metadata": {
        "id": "kW3c7UYih0hT"
      },
      "source": [
        "## Feature Scaling"
      ]
    },
    {
      "cell_type": "code",
      "metadata": {
        "id": "9fQlDPKCh8sc"
      },
      "source": [
        "\n",
        "from sklearn.preprocessing import StandardScaler\n",
        "sc = StandardScaler()\n",
        "\n",
        "# sc.fit(X_c)\n",
        "# X_c=sc.transform(X_c)\n",
        "X_c=sc.fit_transform(X_c)\n",
        "\n",
        "X_test_sc=sc.transform(X_test)\n",
        "\n",
        "print(X_c)\n",
        "print(X_test_sc)"
      ],
      "execution_count": null,
      "outputs": []
    },
    {
      "cell_type": "markdown",
      "metadata": {
        "id": "vWqvfmURuj1e"
      },
      "source": [
        "Custom Sampling (clean data)"
      ]
    },
    {
      "cell_type": "code",
      "metadata": {
        "id": "SpaXViRkujlB"
      },
      "source": [
        "from sklearn.preprocessing import StandardScaler\n",
        "from sklearn.neighbors import KNeighborsClassifier\n",
        "from imblearn.over_sampling import SMOTE\n",
        "\n",
        "# Scale Features\n",
        "scaler = StandardScaler()\n",
        "x_c_scaled = X_c\n",
        "\n",
        "\n",
        "# Fit KNN\n",
        "knn = KNeighborsClassifier(n_neighbors=5)\n",
        "knn.fit(x_c_scaled, y_train)\n",
        "preds = pd.DataFrame(knn.predict_proba(x_c_scaled))\n",
        "\n",
        "preds.columns = ['label_0', 'label_1','label_2','label_3','label_4']\n",
        "\n",
        "# Bind defaulted label proba to train dataset\n",
        "# print(preds.iloc[1,2])\n",
        "\n",
        "y_prob=np.zeros((len(y_train),1))\n",
        "for i in range(0,len(y_train)):\n",
        "  y_prob[i]=preds.iloc[i,int(y_train[i])-1]\n",
        "\n",
        "#print(y_prob)\n",
        "# X_train['knn_minority_class_proba'] = preds['label_1']\n",
        "\n",
        "x_c_filtered=np.zeros(X_c.shape)\n",
        "y_train_filtered=np.zeros(X_c.shape[0])\n",
        "\n",
        "for ii in range(0,len(y_train_filtered)):\n",
        "  if y_prob[ii]>=0.5:\n",
        "    x_c_filtered[ii,:] = X_c[ii,:]\n",
        "    y_train_filtered[ii] = y_train[ii]\n",
        "\n",
        "x_c_filtered=x_c_filtered[np.all(x_c_filtered != 0, axis=1), :]\n",
        "y_train_filtered=y_train_filtered[y_train_filtered >0]\n",
        "\n",
        "\n",
        "# Oversample using SMOTE\n",
        "sm = SMOTE(k_neighbors=1,random_state=40)\n",
        "X_c, y_train = sm.fit_resample(x_c_filtered, y_train_filtered)\n",
        "\n",
        "print(X_c)"
      ],
      "execution_count": null,
      "outputs": []
    },
    {
      "cell_type": "markdown",
      "metadata": {
        "id": "dPxZSlDxV6Em"
      },
      "source": [
        "Clustering"
      ]
    },
    {
      "cell_type": "code",
      "metadata": {
        "colab": {
          "base_uri": "https://localhost:8080/",
          "height": 295
        },
        "id": "oz1icyMFZjtp",
        "outputId": "0ae05f9c-0879-4fae-ba50-8725e5628d1f"
      },
      "source": [
        "# Using the elbow method to find the optimal number of clusters\n",
        "\n",
        "\n",
        "\n",
        "\n",
        "#####X_c=X_train\n",
        "\n",
        "\n",
        "#X_c = sc.fit_transform(X_c)\n",
        "\n",
        "\n",
        "\n",
        "\n",
        "from sklearn.cluster import KMeans\n",
        "wcss = []\n",
        "for i in range(1, 11):\n",
        "    kmeans = KMeans(n_clusters = i, init = 'k-means++', random_state = 42)\n",
        "    kmeans.fit(X_c)\n",
        "    wcss.append(kmeans.inertia_)\n",
        "plt.plot(range(1, 11), wcss)\n",
        "plt.title('The Elbow Method')\n",
        "plt.xlabel('Number of clusters')\n",
        "plt.ylabel('WCSS')\n",
        "plt.show()"
      ],
      "execution_count": null,
      "outputs": [
        {
          "output_type": "display_data",
          "data": {
            "image/png": "[encoded data removed]",
            "text/plain": [
              "<Figure size 432x288 with 1 Axes>"
            ]
          },
          "metadata": {
            "needs_background": "light"
          }
        }
      ]
    },
    {
      "cell_type": "markdown",
      "metadata": {
        "id": "XTwif_avxmwi"
      },
      "source": [
        "**Applying PCA on data**"
      ]
    },
    {
      "cell_type": "code",
      "metadata": {
        "id": "toTNVrklxm9x"
      },
      "source": [
        "# from sklearn.decomposition import PCA\n",
        "\n",
        "# pca = PCA(n_components = 14)\n",
        "# X_c= pca.fit_transform(X_c)\n",
        "# print(pca.explained_variance_ratio_)\n",
        "# print(sum(pca.explained_variance_ratio_))\n",
        "\n",
        "# # loadings = pd.DataFrame(pca.components_.T, columns=['PC1', 'PC2'],\n",
        "# # #                                                    'PC7', 'PC8','PC9', 'PC10','PC11', 'PC12',\n",
        "# # #                                                    'PC13', 'PC14'],\n",
        "# #                          index=dataset.columns[2:])\n",
        "# # print(loadings)\n",
        "\n",
        "# Applying Kernel PCA\n",
        "from sklearn.decomposition import KernelPCA\n",
        "kpca = KernelPCA(n_components = 2, kernel = 'rbf')\n",
        "X_c = kpca.fit_transform(X_c)\n",
        "\n",
        "X_test_kpca=kpca.transform(X_test_sc)\n",
        "\n",
        "kpca_transform = kpca.fit_transform(X_c)\n",
        "explained_variance = np.var(kpca_transform, axis=0)\n",
        "ev = explained_variance / np.sum(explained_variance)\n",
        "print(ev)\n",
        "print(sum(ev))\n",
        "\n",
        "print(X_test_kpca)\n",
        "\n"
      ],
      "execution_count": null,
      "outputs": []
    },
    {
      "cell_type": "code",
      "metadata": {
        "colab": {
          "base_uri": "https://localhost:8080/"
        },
        "id": "Y7SccLzmZ6lZ",
        "outputId": "cdbbce8d-2b01-4f6e-f93c-25bee5b98dbb"
      },
      "source": [
        "# Training the K-Means model on the dataset\n",
        "kmeans = KMeans(n_clusters = 3, init = 'k-means++', random_state = 42)\n",
        "y_kmeans = kmeans.fit_predict(X_c)\n",
        "#X_c = sc.inverse_transform(X_c)\n",
        "# kmeans.cluster_centers_ = sc.inverse_transform(kmeans.cluster_centers_)\n",
        "\n",
        "# Visualising the clusters\n",
        "# plt.scatter(X_c[y_kmeans == 0, 0], X_c[y_kmeans == 0, 1], s = 100, c = 'red', label = 'Cluster 1')\n",
        "# plt.scatter(X_c[y_kmeans == 1, 0], X_c[y_kmeans == 1, 1], s = 100, c = 'blue', label = 'Cluster 2')\n",
        "# plt.scatter(X_c[y_kmeans == 2, 0], X_c[y_kmeans == 2, 1], s = 100, c = 'green', label = 'Cluster 3')\n",
        "# plt.scatter(X_c[y_kmeans == 3, 0], X_c[y_kmeans == 3, 1], s = 100, c = 'cyan', label = 'Cluster 4')\n",
        "# plt.scatter(X_c[y_kmeans == 4, 0], X_c[y_kmeans == 4, 1], s = 100, c = 'magenta', label = 'Cluster 5')\n",
        "# plt.scatter(kmeans.cluster_centers_[:, 0], kmeans.cluster_centers_[:, 1], s = 300, c = 'yellow', label = 'Centroids')\n",
        "# plt.title('Clusters of plastic waste')\n",
        "# plt.xlabel('Metal concentration (ppm)')\n",
        "# plt.ylabel('MFI ')\n",
        "# plt.legend()\n",
        "# plt.show()\n",
        "print(X_c.shape)\n",
        "# Evaluation\n",
        "from sklearn import metrics\n",
        "from sklearn.metrics import pairwise_distances\n",
        "from sklearn.metrics import davies_bouldin_score\n",
        "\n",
        "labels = kmeans.labels_\n",
        "print(metrics.silhouette_score(X_c, labels, metric='euclidean'))\n",
        "print(davies_bouldin_score(X_c, labels))\n",
        "print(metrics.calinski_harabasz_score(X_c, labels))"
      ],
      "execution_count": null,
      "outputs": [
        {
          "output_type": "stream",
          "name": "stdout",
          "text": [
            "(115, 2)\n",
            "0.7230823830245359\n",
            "0.37851214355421026\n",
            "525.2000763041012\n"
          ]
        }
      ]
    },
    {
      "cell_type": "code",
      "metadata": {
        "id": "cKcAzk37V_fw"
      },
      "source": [
        "import scipy.cluster.hierarchy as sch\n",
        "#X_c = sc.fit_transform(X_c)\n",
        "\n",
        "dendrogram = sch.dendrogram(sch.linkage(X_c, method = 'ward'))\n",
        "plt.title('Dendrogram')\n",
        "plt.xlabel('Data')\n",
        "plt.ylabel('Euclidean distances')\n",
        "plt.show()"
      ],
      "execution_count": null,
      "outputs": []
    },
    {
      "cell_type": "code",
      "metadata": {
        "id": "y36oQiqOWMlY",
        "colab": {
          "base_uri": "https://localhost:8080/"
        },
        "outputId": "b1debff6-a6da-491d-b1c7-ec6109957e4c"
      },
      "source": [
        "# Training the Hierarchical Clustering model on the dataset\n",
        "from sklearn.cluster import AgglomerativeClustering\n",
        "\n",
        "hc = AgglomerativeClustering(n_clusters =3, affinity = 'euclidean', linkage = 'ward')\n",
        "y_hc = hc.fit_predict(X_c)\n",
        "#X_c = sc.inverse_transform(X_c)\n",
        "\n",
        "\n",
        "\n",
        "# Evaluation\n",
        "print(metrics.silhouette_score(X_c, y_hc, metric='euclidean'))\n",
        "print(davies_bouldin_score(X_c, y_hc))\n",
        "print(metrics.calinski_harabasz_score(X_c, y_hc))"
      ],
      "execution_count": null,
      "outputs": [
        {
          "output_type": "stream",
          "name": "stdout",
          "text": [
            "0.7283267905750318\n",
            "0.3724414958935633\n",
            "581.3760179908381\n"
          ]
        }
      ]
    },
    {
      "cell_type": "code",
      "metadata": {
        "id": "hErC_fb2fvSd"
      },
      "source": [
        "# Fit KNN\n",
        "knn = KNeighborsClassifier(n_neighbors=5)\n",
        "knn.fit(X_c, y_hc)\n",
        "\n",
        "y_test=knn.predict(X_test_kpca)\n",
        "preds = pd.DataFrame(knn.predict_proba(X_test_kpca))\n",
        "\n",
        "print(y_test)\n",
        "\n",
        "\n",
        "preds.columns = ['label_0', 'label_1','label_2']\n",
        "\n",
        "print(preds)"
      ],
      "execution_count": null,
      "outputs": []
    },
    {
      "cell_type": "code",
      "metadata": {
        "id": "QZlNCFSHWYFI"
      },
      "source": [
        "# Visualising the clusters\n",
        "plt.scatter(X_c[y_hc == 0, 0], X_c[y_hc == 0, 1], s = 100, c = 'red', label = 'Cluster 1')\n",
        "plt.scatter(X_c[y_hc == 1, 0], X_c[y_hc == 1, 1], s = 100, c = 'blue', label = 'Cluster 2')\n",
        "plt.scatter(X_c[y_hc == 2, 0], X_c[y_hc == 2, 1], s = 100, c = 'green', label = 'Cluster 3')\n",
        "plt.scatter(X_c[y_hc == 3, 0], X_c[y_hc == 3, 1], s = 100, c = 'cyan', label = 'Cluster 4')\n",
        "plt.scatter(X_c[y_hc == 4, 0], X_c[y_hc == 4, 1], s = 100, c = 'magenta', label = 'Cluster 5')\n",
        "plt.title('Clusters of plastic waste')\n",
        "plt.xlabel('PC1')\n",
        "plt.ylabel('PC2')\n",
        "plt.legend()\n",
        "plt.show()"
      ],
      "execution_count": null,
      "outputs": []
    },
    {
      "cell_type": "markdown",
      "metadata": {
        "id": "CfwOYFq9QZeD"
      },
      "source": [
        "**DBSCAN**"
      ]
    },
    {
      "cell_type": "code",
      "metadata": {
        "colab": {
          "base_uri": "https://localhost:8080/"
        },
        "id": "3ZuXNtvwL-EW",
        "outputId": "769dbf32-16cc-4dc5-de37-e0d8b32f97eb"
      },
      "source": [
        "i=np.identity(dataset.shape[1]-2)\n",
        "print(pca.transform(i))"
      ],
      "execution_count": null,
      "outputs": [
        {
          "output_type": "stream",
          "name": "stdout",
          "text": [
            "[[ 0.24047763  0.12585364]\n",
            " [ 0.1915152   0.38887186]\n",
            " [ 0.25987549 -0.02594473]\n",
            " [ 0.22735792  0.30938942]\n",
            " [ 0.29270299  0.12400405]\n",
            " [ 0.27455235 -0.11356291]\n",
            " [ 0.18191918 -0.04044776]\n",
            " [ 0.09498813 -0.05360648]\n",
            " [ 0.25988127 -0.04787519]\n",
            " [ 0.26716293 -0.03215638]\n",
            " [ 0.20028072  0.36740759]\n",
            " [ 0.21979492  0.33937065]\n",
            " [ 0.19512607 -0.28386288]\n",
            " [ 0.15585633  0.27225593]\n",
            " [ 0.16509275 -0.11903487]\n",
            " [-0.21263366  0.16336045]\n",
            " [ 0.09070376 -0.19443126]\n",
            " [ 0.19044967 -0.0882263 ]\n",
            " [ 0.21966761 -0.14127231]\n",
            " [ 0.24482695 -0.31879575]\n",
            " [ 0.26121121 -0.29587361]]\n"
          ]
        }
      ]
    },
    {
      "cell_type": "code",
      "metadata": {
        "id": "rS4jW3FRQfWx"
      },
      "source": [
        "from sklearn.cluster import DBSCAN\n",
        "#X_c = sc.fit_transform(X_c)\n",
        "db = DBSCAN(eps=4, min_samples=30).fit(X_c)\n",
        "labels = db.labels_\n",
        "print(labels)\n",
        "print(\"Silhouette Coefficient: %0.3f\" % metrics.silhouette_score(X_c, labels))"
      ],
      "execution_count": null,
      "outputs": []
    },
    {
      "cell_type": "code",
      "metadata": {
        "id": "-qWWC8clW9Cl"
      },
      "source": [
        "from sklearn.cluster import AffinityPropagation\n",
        "# Compute Affinity Propagation\n",
        "af = AffinityPropagation(preference=-400, random_state=10,affinity='euclidean').fit(X_c)\n",
        "cluster_centers_indices = af.cluster_centers_indices_\n",
        "labels = af.labels_\n",
        "\n",
        "n_clusters_ = len(cluster_centers_indices)\n",
        "print(labels)\n",
        "\n",
        "print(\"Estimated number of clusters: %d\" % n_clusters_)\n",
        "print(\n",
        "    \"Silhouette Coefficient: %0.3f\"\n",
        "    % metrics.silhouette_score(X_c, labels, metric=\"sqeuclidean\")\n",
        ")"
      ],
      "execution_count": null,
      "outputs": []
    }
  ]
}