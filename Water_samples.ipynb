{
  "nbformat": 4,
  "nbformat_minor": 0,
  "metadata": {
    "colab": {
      "name": "Water samples.ipynb",
      "provenance": [],
      "collapsed_sections": [],
      "machine_shape": "hm",
      "include_colab_link": true
    },
    "kernelspec": {
      "name": "python3",
      "display_name": "Python 3"
    }
  },
  "cells": [
    {
      "cell_type": "markdown",
      "metadata": {
        "id": "view-in-github",
        "colab_type": "text"
      },
      "source": [
        "<a href=\"https://colab.research.google.com/github/hhchin1995/water-quality-clustering/blob/main/Water_samples.ipynb\" target=\"_parent\"><img src=\"https://colab.research.google.com/assets/colab-badge.svg\" alt=\"Open In Colab\"/></a>"
      ]
    },
    {
      "cell_type": "markdown",
      "metadata": {
        "id": "0MRC0e0KhQ0S"
      },
      "source": [
        "# Water samples clustering with custom sampling"
      ]
    },
    {
      "cell_type": "markdown",
      "metadata": {
        "id": "LWd1UlMnhT2s"
      },
      "source": [
        "## Importing the libraries"
      ]
    },
    {
      "cell_type": "code",
      "metadata": {
        "id": "YvGPUQaHhXfL",
        "colab": {
          "base_uri": "https://localhost:8080/"
        },
        "outputId": "88ac613f-9804-4186-9457-5c71205b4ffa"
      },
      "source": [
        "import numpy as np\n",
        "import matplotlib.pyplot as plt\n",
        "import pandas as pd\n",
        "\n",
        "!pip install bioinfokit\n",
        "\n",
        "import bioinfokit"
      ],
      "execution_count": null,
      "outputs": [
        {
          "output_type": "stream",
          "name": "stdout",
          "text": [
            "Collecting bioinfokit\n",
            "  Downloading bioinfokit-2.0.8.tar.gz (84 kB)\n",
            "\u001b[?25l\r\u001b[K     |███▉                            | 10 kB 19.3 MB/s eta 0:00:01\r\u001b[K     |███████▊                        | 20 kB 24.8 MB/s eta 0:00:01\r\u001b[K     |███████████▋                    | 30 kB 30.4 MB/s eta 0:00:01\r\u001b[K     |███████████████▌                | 40 kB 15.6 MB/s eta 0:00:01\r\u001b[K     |███████████████████▍            | 51 kB 5.5 MB/s eta 0:00:01\r\u001b[K     |███████████████████████▎        | 61 kB 6.0 MB/s eta 0:00:01\r\u001b[K     |███████████████████████████     | 71 kB 5.6 MB/s eta 0:00:01\r\u001b[K     |███████████████████████████████ | 81 kB 6.3 MB/s eta 0:00:01\r\u001b[K     |████████████████████████████████| 84 kB 2.1 MB/s \n",
            "\u001b[?25hRequirement already satisfied: pandas in /usr/local/lib/python3.7/dist-packages (from bioinfokit) (1.1.5)\n",
            "Requirement already satisfied: numpy in /usr/local/lib/python3.7/dist-packages (from bioinfokit) (1.19.5)\n",
            "Requirement already satisfied: matplotlib in /usr/local/lib/python3.7/dist-packages (from bioinfokit) (3.2.2)\n",
            "Requirement already satisfied: scipy in /usr/local/lib/python3.7/dist-packages (from bioinfokit) (1.4.1)\n",
            "Requirement already satisfied: scikit-learn in /usr/local/lib/python3.7/dist-packages (from bioinfokit) (1.0.1)\n",
            "Requirement already satisfied: seaborn in /usr/local/lib/python3.7/dist-packages (from bioinfokit) (0.11.2)\n",
            "Requirement already satisfied: matplotlib-venn in /usr/local/lib/python3.7/dist-packages (from bioinfokit) (0.11.6)\n",
            "Requirement already satisfied: tabulate in /usr/local/lib/python3.7/dist-packages (from bioinfokit) (0.8.9)\n",
            "Requirement already satisfied: statsmodels in /usr/local/lib/python3.7/dist-packages (from bioinfokit) (0.10.2)\n",
            "Collecting textwrap3\n",
            "  Downloading textwrap3-0.9.2-py2.py3-none-any.whl (12 kB)\n",
            "Collecting adjustText\n",
            "  Downloading adjustText-0.7.3.tar.gz (7.5 kB)\n",
            "Requirement already satisfied: pyparsing!=2.0.4,!=2.1.2,!=2.1.6,>=2.0.1 in /usr/local/lib/python3.7/dist-packages (from matplotlib->bioinfokit) (3.0.6)\n",
            "Requirement already satisfied: python-dateutil>=2.1 in /usr/local/lib/python3.7/dist-packages (from matplotlib->bioinfokit) (2.8.2)\n",
            "Requirement already satisfied: cycler>=0.10 in /usr/local/lib/python3.7/dist-packages (from matplotlib->bioinfokit) (0.11.0)\n",
            "Requirement already satisfied: kiwisolver>=1.0.1 in /usr/local/lib/python3.7/dist-packages (from matplotlib->bioinfokit) (1.3.2)\n",
            "Requirement already satisfied: six>=1.5 in /usr/local/lib/python3.7/dist-packages (from python-dateutil>=2.1->matplotlib->bioinfokit) (1.15.0)\n",
            "Requirement already satisfied: pytz>=2017.2 in /usr/local/lib/python3.7/dist-packages (from pandas->bioinfokit) (2018.9)\n",
            "Requirement already satisfied: joblib>=0.11 in /usr/local/lib/python3.7/dist-packages (from scikit-learn->bioinfokit) (1.1.0)\n",
            "Requirement already satisfied: threadpoolctl>=2.0.0 in /usr/local/lib/python3.7/dist-packages (from scikit-learn->bioinfokit) (3.0.0)\n",
            "Requirement already satisfied: patsy>=0.4.0 in /usr/local/lib/python3.7/dist-packages (from statsmodels->bioinfokit) (0.5.2)\n",
            "Building wheels for collected packages: bioinfokit, adjustText\n",
            "  Building wheel for bioinfokit (setup.py) ... \u001b[?25l\u001b[?25hdone\n",
            "  Created wheel for bioinfokit: filename=bioinfokit-2.0.8-py3-none-any.whl size=56749 sha256=5451caa9170624ba2806813cc638425deee84a6331076623bec20a6722897daf\n",
            "  Stored in directory: /root/.cache/pip/wheels/0d/b0/a4/2be59655e33c889f2197d43e99ed077f05a6559e24ce28e21a\n",
            "  Building wheel for adjustText (setup.py) ... \u001b[?25l\u001b[?25hdone\n",
            "  Created wheel for adjustText: filename=adjustText-0.7.3-py3-none-any.whl size=7094 sha256=c27b6f146119f27f14e6b86a9aec68c8bf9a6bff12b97a70579e3c989fe46c10\n",
            "  Stored in directory: /root/.cache/pip/wheels/2f/98/32/afbf902d8f040fadfdf0a44357e4ab750afe165d873bf5893d\n",
            "Successfully built bioinfokit adjustText\n",
            "Installing collected packages: textwrap3, adjustText, bioinfokit\n",
            "Successfully installed adjustText-0.7.3 bioinfokit-2.0.8 textwrap3-0.9.2\n"
          ]
        }
      ]
    },
    {
      "cell_type": "markdown",
      "metadata": {
        "id": "K1VMqkGvhc3-"
      },
      "source": [
        "## Importing the dataset"
      ]
    },
    {
      "cell_type": "code",
      "metadata": {
        "id": "M52QDmyzhh9s",
        "colab": {
          "resources": {
            "http://localhost:8080/nbextensions/google.colab/files.js": {
              "data": "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",
              "ok": true,
              "headers": [
                [
                  "content-type",
                  "application/javascript"
                ]
              ],
              "status": 200,
              "status_text": ""
            }
          },
          "base_uri": "https://localhost:8080/",
          "height": 475
        },
        "outputId": "1c8437c5-36d4-4fd6-ab81-0f327d414608"
      },
      "source": [
        "from google.colab import files\n",
        "import io\n",
        "uploaded = files.upload()\n",
        "\n",
        "# dataset = pd.read_csv('PRES_plastic4-1.csv')\n",
        "dataset = pd.read_csv('Water Samples_2.csv')\n",
        "# PET\n",
        "# X = dataset.iloc[:-54, 2:4].values\n",
        "# y = dataset.iloc[:-54, 5].values\n",
        "\n",
        "# PE\n",
        "# X = dataset.iloc[15:-20, 2:5].values\n",
        "# X[:,1]=X[:,2]\n",
        "# X=X[:,:-1]\n",
        "# y = dataset.iloc[15:-20, 5].values\n",
        "\n",
        "\n",
        "\n",
        "# PP\n",
        "# X = dataset.iloc[50:, 2:5].values\n",
        "# X[:,1]=X[:,2]\n",
        "# X=np.delete(X,8,0)\n",
        "# X=X[:,:-1]\n",
        "# y = dataset.iloc[50:, 5].values\n",
        "# y=np.delete(y,8,0)\n",
        "X_c = dataset.iloc[0:100, 1:14].values\n",
        "\n",
        "Demand=dataset.iloc[100:104,1:14].values\n",
        "Supply=dataset.iloc[104:107,1:14].values\n",
        "\n",
        "print(Demand)\n",
        "\n",
        "\n",
        "y_ori=dataset.iloc[0:100, 0].values\n",
        "print(y_ori.shape)\n",
        "\n",
        "print(Supply)\n",
        "\n",
        "# X_test=np.array([[8.0,112, 3, 12, 1, 30, 0.2, 10, 123, 0.08, 0.05, 1, 0.9],\n",
        "#                  [7.0,112, 3, 12, 1, 30, 0.2, 10, 123, 0.08, 0.05, 1, 0.9],\n",
        "#                  [6.0,1000, 3, 12, 1, 30, 0.2, 10, 123, 0.08, 0.05, 1, 0.9]])\n",
        "\n"
      ],
      "execution_count": null,
      "outputs": [
        {
          "output_type": "display_data",
          "data": {
            "text/html": [
              "\n",
              "     <input type=\"file\" id=\"files-a9a4ca04-5f86-49e5-a6c3-827a22a964c6\" name=\"files[]\" multiple disabled\n",
              "        style=\"border:none\" />\n",
              "     <output id=\"result-a9a4ca04-5f86-49e5-a6c3-827a22a964c6\">\n",
              "      Upload widget is only available when the cell has been executed in the\n",
              "      current browser session. Please rerun this cell to enable.\n",
              "      </output>\n",
              "      <script src=\"/nbextensions/google.colab/files.js\"></script> "
            ],
            "text/plain": [
              "<IPython.core.display.HTML object>"
            ]
          },
          "metadata": {}
        },
        {
          "output_type": "stream",
          "name": "stdout",
          "text": [
            "Saving Water Samples_2.csv to Water Samples_2 (3).csv\n",
            "[[6.3400e+00 1.1387e+02 2.0000e+00 1.8410e+01 1.9600e+00 1.4360e+01\n",
            "  6.0000e-02 9.8800e+00 6.0200e+01 1.1000e-01 7.0000e-02 4.0000e-02\n",
            "  7.4000e-01]\n",
            " [6.3100e+00 1.0218e+02 1.8300e+00 1.9360e+01 2.8300e+00 1.9240e+01\n",
            "  3.0000e-02 1.0400e+00 8.9070e+01 2.6000e-01 1.4000e-01 3.0000e-02\n",
            "  1.8900e+00]\n",
            " [6.5500e+00 9.9040e+01 1.0600e+00 1.6100e+00 1.9400e+00 1.3120e+01\n",
            "  8.0000e-02 2.6600e+00 4.1440e+01 9.0000e-02 3.0000e-02 3.0000e-02\n",
            "  8.0000e-02]\n",
            " [7.6700e+00 8.9350e+01 4.9100e+00 2.1940e+01 3.3500e+00 2.7580e+01\n",
            "  2.7000e-01 7.0100e+00 1.7410e+02 5.7000e-01 2.0000e-02 1.2200e+00\n",
            "  3.7300e+00]]\n",
            "(100,)\n",
            "[[8.9400e+00 1.4665e+02 1.6000e+00 3.9850e+01 7.1700e+00 8.0740e+01\n",
            "  6.8000e-01 9.6200e+00 2.9767e+02 8.9000e-01 2.0000e-01 3.4300e+00\n",
            "  1.2700e+00]\n",
            " [7.6000e+00 1.0914e+02 1.8000e-01 2.2800e+00 2.4800e+00 1.4370e+01\n",
            "  2.0000e-02 3.7200e+00 1.2340e+01 9.0000e-02 0.0000e+00 1.0000e-02\n",
            "  8.0000e-02]\n",
            " [1.2140e+01 3.9312e+02 1.4490e+01 9.4690e+01 1.7230e+01 1.6824e+02\n",
            "  4.5000e-01 7.6770e+01 4.1060e+02 1.4200e+00 5.8000e-01 8.8400e+00\n",
            "  1.7300e+00]]\n"
          ]
        }
      ]
    },
    {
      "cell_type": "markdown",
      "metadata": {
        "id": "kW3c7UYih0hT"
      },
      "source": [
        "## Feature Scaling"
      ]
    },
    {
      "cell_type": "code",
      "metadata": {
        "id": "9fQlDPKCh8sc",
        "colab": {
          "base_uri": "https://localhost:8080/"
        },
        "outputId": "7b2f9723-348b-4cf0-ed04-61f7ddf49ec9"
      },
      "source": [
        "\n",
        "from sklearn.preprocessing import StandardScaler\n",
        "sc = StandardScaler()\n",
        "\n",
        "# sc.fit(X_c)\n",
        "# X_c=sc.transform(X_c)\n",
        "X_c=sc.fit_transform(X_c)\n",
        "\n",
        "Supply=sc.transform(Supply)\n",
        "Demand=sc.transform(Demand)\n",
        "\n",
        "print(X_c)\n"
      ],
      "execution_count": null,
      "outputs": [
        {
          "output_type": "stream",
          "name": "stdout",
          "text": [
            "[[ 0.25133645 -0.07078601 -0.61371552 ... -0.75674966 -0.49926619\n",
            "  -0.6886563 ]\n",
            " [ 0.01233915 -0.1641189  -0.92555599 ... -0.79438969 -0.83492792\n",
            "  -0.97818811]\n",
            " [-0.75074654 -0.31447719  1.65367133 ...  0.97259506  1.05348346\n",
            "   0.38458407]\n",
            " ...\n",
            " [-0.81236779  0.4344222  -0.13926009 ... -0.01235772 -0.1004438\n",
            "   0.22432917]\n",
            " [ 0.30240214 -0.75979236 -0.60926754 ... -0.27636371  0.34056582\n",
            "  -1.13329719]\n",
            " [ 0.13160895 -0.2174256  -0.90597326 ... -0.84695674 -0.84374807\n",
            "  -0.74777832]]\n"
          ]
        }
      ]
    },
    {
      "cell_type": "markdown",
      "metadata": {
        "id": "vWqvfmURuj1e"
      },
      "source": [
        "Custom Sampling (clean data)"
      ]
    },
    {
      "cell_type": "code",
      "metadata": {
        "id": "SpaXViRkujlB",
        "colab": {
          "base_uri": "https://localhost:8080/"
        },
        "outputId": "29d2b042-fc22-4014-a09b-28f37871ceb8"
      },
      "source": [
        "from sklearn.preprocessing import StandardScaler\n",
        "from sklearn.neighbors import KNeighborsClassifier\n",
        "from imblearn.over_sampling import SMOTE\n",
        "\n",
        "# Scale Features\n",
        "scaler = StandardScaler()\n",
        "x_c_scaled = X_c\n",
        "y_train=y_ori\n",
        "\n",
        "# Fit KNN\n",
        "knn = KNeighborsClassifier(n_neighbors=5)\n",
        "knn.fit(x_c_scaled, y_train)\n",
        "preds = pd.DataFrame(knn.predict_proba(x_c_scaled))\n",
        "\n",
        "preds.columns = ['label_0', 'label_1','label_2','label_3','label_4']\n",
        "\n",
        "# Bind defaulted label proba to train dataset\n",
        "# print(preds.iloc[1,2])\n",
        "\n",
        "y_prob=np.zeros((len(y_train),1))\n",
        "for i in range(0,len(y_train)):\n",
        "  y_prob[i]=preds.iloc[i,int(y_train[i])-1]\n",
        "\n",
        "#print(y_prob)\n",
        "# X_train['knn_minority_class_proba'] = preds['label_1']\n",
        "\n",
        "x_c_filtered=np.zeros(X_c.shape)\n",
        "y_train_filtered=np.zeros(X_c.shape[0])\n",
        "\n",
        "for ii in range(0,len(y_train_filtered)):\n",
        "  if y_prob[ii]>=0.5:\n",
        "    x_c_filtered[ii,:] = X_c[ii,:]\n",
        "    y_train_filtered[ii] = y_train[ii]\n",
        "\n",
        "x_c_filtered=x_c_filtered[np.all(x_c_filtered != 0, axis=1), :]\n",
        "y_train_filtered=y_train_filtered[y_train_filtered >0]\n",
        "\n",
        "\n",
        "# Oversample using SMOTE\n",
        "sm = SMOTE(k_neighbors=1,random_state=40)\n",
        "X_c, y_ori = sm.fit_resample(x_c_filtered, y_train_filtered)\n",
        "\n",
        "print(X_c)"
      ],
      "execution_count": null,
      "outputs": [
        {
          "output_type": "stream",
          "name": "stdout",
          "text": [
            "[[ 0.25133645 -0.07078601 -0.61371552 ... -0.75674966 -0.49926619\n",
            "  -0.6886563 ]\n",
            " [ 0.01233915 -0.1641189  -0.92555599 ... -0.79438969 -0.83492792\n",
            "  -0.97818811]\n",
            " [-0.75074654 -0.31447719  1.65367133 ...  0.97259506  1.05348346\n",
            "   0.38458407]\n",
            " ...\n",
            " [ 1.88125182  2.98444725  1.34149065 ...  2.61962305  1.1744567\n",
            "   2.34073095]\n",
            " [-1.74834306  0.1324145   1.89644547 ...  2.0478157   1.85077791\n",
            "   1.31710007]\n",
            " [ 1.4497218   3.29764776  1.43454993 ...  0.10471928  0.26151483\n",
            "  -0.07410136]]\n"
          ]
        }
      ]
    },
    {
      "cell_type": "markdown",
      "metadata": {
        "id": "dPxZSlDxV6Em"
      },
      "source": [
        "Clustering"
      ]
    },
    {
      "cell_type": "code",
      "metadata": {
        "colab": {
          "base_uri": "https://localhost:8080/",
          "height": 295
        },
        "id": "oz1icyMFZjtp",
        "outputId": "337ba50a-b406-4797-e10d-2f7148e2fe86"
      },
      "source": [
        "# Using the elbow method to find the optimal number of clusters\n",
        "\n",
        "\n",
        "\n",
        "\n",
        "#####X_c=X_train\n",
        "\n",
        "\n",
        "#X_c = sc.fit_transform(X_c)\n",
        "\n",
        "\n",
        "\n",
        "\n",
        "from sklearn.cluster import KMeans\n",
        "wcss = []\n",
        "for i in range(1, 11):\n",
        "    kmeans = KMeans(n_clusters = i, init = 'k-means++', random_state = 42)\n",
        "    kmeans.fit(X_c)\n",
        "    wcss.append(kmeans.inertia_)\n",
        "plt.plot(range(1, 11), wcss)\n",
        "plt.title('The Elbow Method')\n",
        "plt.xlabel('Number of clusters')\n",
        "plt.ylabel('WCSS')\n",
        "plt.show()"
      ],
      "execution_count": null,
      "outputs": [
        {
          "output_type": "display_data",
          "data": {
            "image/png": "[encoded data removed]",
            "text/plain": [
              "<Figure size 432x288 with 1 Axes>"
            ]
          },
          "metadata": {
            "needs_background": "light"
          }
        }
      ]
    },
    {
      "cell_type": "markdown",
      "metadata": {
        "id": "XTwif_avxmwi"
      },
      "source": [
        "**Applying PCA on data**"
      ]
    },
    {
      "cell_type": "code",
      "metadata": {
        "colab": {
          "base_uri": "https://localhost:8080/"
        },
        "id": "toTNVrklxm9x",
        "outputId": "f8109ec7-7ed9-4562-a140-a9f4fb62d07e"
      },
      "source": [
        "from sklearn.decomposition import PCA\n",
        "X=X_c\n",
        "pca = PCA(n_components = 7)    # Set to 7 for 90% variance\n",
        "X_c= pca.fit_transform(X_c)\n",
        "Supply=pca.transform(Supply)\n",
        "Demand=pca.transform(Demand)\n",
        "\n",
        "\n",
        "print(pca.explained_variance_ratio_)\n",
        "print(sum(pca.explained_variance_ratio_))\n",
        "loadings=pca.components_\n",
        "\n",
        "\n",
        "\n",
        "\n",
        "# # loadings = pd.DataFrame(pca.components_.T, columns=['PC1', 'PC2'],\n",
        "# # #                                                    'PC7', 'PC8','PC9', 'PC10','PC11', 'PC12',\n",
        "# # #                                                    'PC13', 'PC14'],\n",
        "# #                          index=dataset.columns[2:])\n",
        "# # print(loadings)\n",
        "\n",
        "# Applying Kernel PCA\n",
        "# from sklearn.decomposition import KernelPCA\n",
        "# kpca = KernelPCA(n_components = 7, kernel = 'linear',fit_inverse_transform=True)\n",
        "# X_c = kpca.fit_transform(X_c)\n",
        "\n",
        "# loadings=np.matmul(np.linalg.pinv(X),X_c)\n",
        "# print(loadings)\n",
        "\n",
        "# Supply=kpca.transform(Supply)\n",
        "# Demand=kpca.transform(Demand)\n",
        "\n",
        "# kpca_transform = kpca.fit_transform(X_c)\n",
        "# explained_variance = np.var(kpca_transform, axis=0)\n",
        "# ev = explained_variance / np.sum(explained_variance)\n",
        "# print(ev)\n",
        "# for i in range(1,len(ev)):\n",
        "#   ev[i]=ev[i]+ev[i-1]\n",
        "\n",
        "# cum_ev=ev\n",
        "# print(cum_ev)\n",
        "\n",
        "\n"
      ],
      "execution_count": null,
      "outputs": [
        {
          "output_type": "stream",
          "name": "stdout",
          "text": [
            "[0.57873728 0.09282266 0.08193184 0.05413182 0.03963643 0.0352507\n",
            " 0.02764542]\n",
            "0.9101561536816464\n"
          ]
        }
      ]
    },
    {
      "cell_type": "code",
      "source": [
        "ev=pca.explained_variance_ratio_\n",
        "print(ev)\n",
        "plt.bar([1,2,3,4,5,6,7,8,9,10,11,12,13],list(ev*100),label='Principal Components',color='b')\n",
        "plt.legend()\n",
        "plt.xlabel('Principal Components ')\n",
        "n=list(ev*100)\n",
        "pc=[]\n",
        "for i in range(len(n)):\n",
        "  n[i]=round(n[i],2)\n",
        "  pc.append('PC-'+str(i+1)+'('+str(n[i])+')')\n",
        "plt.xticks([1,2,3,4,5,6,7,8,9,10,11,12,13],pc, fontsize=7, rotation=30)\n",
        "plt.ylabel('Variance Ratio')\n",
        "\n",
        "for i in range(1,len(ev)):\n",
        "  ev[i]=ev[i]+ev[i-1]\n",
        "\n",
        "cum_ev=ev\n",
        "\n",
        "plt.plot([1,2,3,4,5,6,7,8,9,10,11,12,13],list(cum_ev*100),label='Principal Components',color='r',marker='o')\n",
        "\n",
        "plt.show()"
      ],
      "metadata": {
        "colab": {
          "base_uri": "https://localhost:8080/",
          "height": 351
        },
        "id": "LifDjxEIlTrB",
        "outputId": "e772c4f7-e272-4eaa-ea75-e2bfd97ed20c"
      },
      "execution_count": null,
      "outputs": [
        {
          "output_type": "stream",
          "name": "stdout",
          "text": [
            "[0.57873728 0.09282266 0.08193184 0.05413182 0.03963643 0.0352507\n",
            " 0.02764542 0.02501658 0.01980723 0.01575352 0.01285831 0.01073441\n",
            " 0.00567379]\n"
          ]
        },
        {
          "output_type": "display_data",
          "data": {
            "image/png": "[encoded data removed]",
            "text/plain": [
              "<Figure size 432x288 with 1 Axes>"
            ]
          },
          "metadata": {
            "needs_background": "light"
          }
        }
      ]
    },
    {
      "cell_type": "code",
      "metadata": {
        "colab": {
          "base_uri": "https://localhost:8080/",
          "height": 352
        },
        "id": "Y7SccLzmZ6lZ",
        "outputId": "cb95e969-ddd3-4f5e-e203-5c24a2e1fc44"
      },
      "source": [
        "\n",
        "# Training the K-Means model on the dataset\n",
        "kmeans = KMeans(n_clusters = 2, init = 'k-means++', random_state = 42)\n",
        "y_kmeans = kmeans.fit_predict(X_c)\n",
        "\n",
        "Supply_kmeans=kmeans.predict(Supply)\n",
        "Demand_kmeans=kmeans.predict(Demand)\n",
        "\n",
        "#X_c = sc.inverse_transform(X_c)\n",
        "# kmeans.cluster_centers_ = sc.inverse_transform(kmeans.cluster_centers_)\n",
        "\n",
        "# Visualising the clusters\n",
        "from matplotlib.colors import ListedColormap\n",
        "# X1, X2 = np.meshgrid(np.arange(start = X_c[:, 0].min()-0.01, stop = X_c[:, 0].max()+0.2, step = 0.05),\n",
        "#                      np.arange(start = X_c[:, 1].min()-0.01, stop = X_c[:, 1].max()+0.2, step = 0.05))\n",
        "# plt.contourf(X1, X2, kmeans.predict(np.array([X1.ravel(), X2.ravel()]).T).reshape(X1.shape),\n",
        "#              alpha = 0.25, cmap = ListedColormap(('red', 'blue','green')))\n",
        "\n",
        "plt.scatter(X_c[y_kmeans == 0, 0], X_c[y_kmeans == 0, 1], s = 100, c = 'red', label = 'Cluster 1')\n",
        "plt.scatter(X_c[y_kmeans == 1, 0], X_c[y_kmeans == 1, 1], s = 100, c = 'blue', label = 'Cluster 2')\n",
        "plt.scatter(X_c[y_kmeans == 2, 0], X_c[y_kmeans == 2, 1], s = 100, c = 'green', label = 'Cluster 3')\n",
        "\n",
        "plt.scatter(Supply[Supply_kmeans == 0, 0], Supply[Supply_kmeans == 0, 1], s = 100, c = 'cyan', label = 'Source')\n",
        "plt.scatter(Supply[Supply_kmeans == 1, 0], Supply[Supply_kmeans == 1, 1], s = 100, c = 'cyan', label = 'Source')\n",
        "plt.scatter(Supply[Supply_kmeans == 2, 0], Supply[Supply_kmeans == 2, 1], s = 100, c = 'cyan', label = 'Source')\n",
        "plt.scatter(Demand[Demand_kmeans == 0, 0], Demand[Demand_kmeans == 0, 1], s = 100, c = 'black', label = 'Sink')\n",
        "plt.scatter(Demand[Demand_kmeans == 1, 0], Demand[Demand_kmeans == 1, 1], s = 100, c = 'black', label = 'Sink')\n",
        "plt.scatter(Demand[Demand_kmeans == 2, 0], Demand[Demand_kmeans == 2, 1], s = 100, c = 'black', label = 'Sink')\n",
        "\n",
        "# plt.scatter(X_c[y_kmeans == 3, 0], X_c[y_kmeans == 3, 1], s = 100, c = 'cyan', label = 'Cluster 4')\n",
        "# plt.scatter(X_c[y_kmeans == 4, 0], X_c[y_kmeans == 4, 1], s = 100, c = 'magenta', label = 'Cluster 5')\n",
        "plt.scatter(kmeans.cluster_centers_[:, 0], kmeans.cluster_centers_[:, 1], s = 300, c = 'yellow', label = 'Centroids')\n",
        "# plt.title('Clusters of plastic waste')\n",
        "plt.xlabel('PC1')\n",
        "plt.ylabel('PC2')\n",
        "# plt.legend()\n",
        "# plt.show()\n",
        "print(X_c.shape)\n",
        "# Evaluation\n",
        "from sklearn import metrics\n",
        "from sklearn.metrics import pairwise_distances\n",
        "from sklearn.metrics import davies_bouldin_score\n",
        "\n",
        "labels = kmeans.labels_\n",
        "print(metrics.silhouette_score(X_c, labels, metric='euclidean'))\n",
        "print(davies_bouldin_score(X_c, labels))\n",
        "print(metrics.calinski_harabasz_score(X_c, labels))"
      ],
      "execution_count": null,
      "outputs": [
        {
          "output_type": "stream",
          "name": "stdout",
          "text": [
            "(100, 7)\n",
            "0.5761990630508591\n",
            "0.8187539422307362\n",
            "125.94466569188441\n"
          ]
        },
        {
          "output_type": "display_data",
          "data": {
            "image/png": "[encoded data removed]",
            "text/plain": [
              "<Figure size 432x288 with 1 Axes>"
            ]
          },
          "metadata": {
            "needs_background": "light"
          }
        }
      ]
    },
    {
      "cell_type": "code",
      "metadata": {
        "colab": {
          "base_uri": "https://localhost:8080/",
          "height": 292
        },
        "id": "cKcAzk37V_fw",
        "outputId": "67742007-ed5a-4163-f9f6-ddce9769d2cf"
      },
      "source": [
        "import scipy.cluster.hierarchy as sch\n",
        "#X_c = sc.fit_transform(X_c)\n",
        "\n",
        "dendrogram = sch.dendrogram(sch.linkage(X_c, method = 'ward'))\n",
        "plt.title('Dendrogram')\n",
        "plt.xlabel('Data')\n",
        "plt.ylabel('Euclidean distances')\n",
        "plt.show()"
      ],
      "execution_count": null,
      "outputs": [
        {
          "output_type": "display_data",
          "data": {
            "image/png": "[encoded data removed]",
            "text/plain": [
              "<Figure size 432x288 with 1 Axes>"
            ]
          },
          "metadata": {
            "needs_background": "light"
          }
        }
      ]
    },
    {
      "cell_type": "code",
      "metadata": {
        "id": "y36oQiqOWMlY",
        "colab": {
          "base_uri": "https://localhost:8080/"
        },
        "outputId": "327840e0-91ee-417e-fde7-1a1453b15189"
      },
      "source": [
        "# Training the Hierarchical Clustering model on the dataset\n",
        "from sklearn.cluster import AgglomerativeClustering\n",
        "\n",
        "hc = AgglomerativeClustering(n_clusters =2, affinity = 'euclidean', linkage = 'ward')\n",
        "y_hc = hc.fit_predict(X_c)\n",
        "#X_c = sc.inverse_transform(X_c)\n",
        "\n",
        "\n",
        "\n",
        "# Evaluation\n",
        "print(metrics.silhouette_score(X_c, y_hc, metric='euclidean'))\n",
        "print(davies_bouldin_score(X_c, y_hc))\n",
        "print(metrics.calinski_harabasz_score(X_c, y_hc))"
      ],
      "execution_count": null,
      "outputs": [
        {
          "output_type": "stream",
          "name": "stdout",
          "text": [
            "0.5761990630508591\n",
            "0.8187539422307362\n",
            "125.94466569188441\n"
          ]
        }
      ]
    },
    {
      "cell_type": "code",
      "metadata": {
        "colab": {
          "base_uri": "https://localhost:8080/"
        },
        "id": "hErC_fb2fvSd",
        "outputId": "915249be-fcd3-45e1-df7b-381d7f5705c1"
      },
      "source": [
        "# Fit KNN\n",
        "from sklearn.neighbors import KNeighborsClassifier\n",
        "knn = KNeighborsClassifier(n_neighbors=3)\n",
        "knn.fit(X_c, y_hc)\n",
        "\n",
        "y_supply=knn.predict(Supply)\n",
        "y_demand=knn.predict(Demand)\n",
        "preds_supply = pd.DataFrame(knn.predict_proba(Supply))\n",
        "preds_demand = pd.DataFrame(knn.predict_proba(Demand))\n",
        "\n",
        "\n",
        "preds_supply.columns = ['label_0', 'label_1']\n",
        "preds_demand.columns=preds_supply.columns \n",
        "\n",
        "print(preds_supply)\n",
        "print(preds_demand)"
      ],
      "execution_count": null,
      "outputs": [
        {
          "output_type": "stream",
          "name": "stdout",
          "text": [
            "   label_0  label_1\n",
            "0      0.0      1.0\n",
            "1      0.0      1.0\n",
            "2      1.0      0.0\n",
            "   label_0  label_1\n",
            "0      0.0      1.0\n",
            "1      0.0      1.0\n",
            "2      0.0      1.0\n",
            "3      0.0      1.0\n"
          ]
        }
      ]
    },
    {
      "cell_type": "code",
      "metadata": {
        "colab": {
          "base_uri": "https://localhost:8080/",
          "height": 279
        },
        "id": "QZlNCFSHWYFI",
        "outputId": "2927e86f-ccce-4bba-9bef-affa6c1f7070"
      },
      "source": [
        "# Visualising the clusters\n",
        "from sklearn.neighbors import KNeighborsClassifier\n",
        "knn = KNeighborsClassifier(n_neighbors=2)\n",
        "knn.fit(X_c, y_hc)\n",
        "\n",
        "# X1, X2 = np.meshgrid(np.arange(start = X_c[:, 0].min()-0.01, stop = X_c[:, 0].max()+0.2, step = 0.05),\n",
        "#                      np.arange(start = X_c[:, 1].min()-0.01, stop = X_c[:, 1].max()+0.2, step = 0.05))\n",
        "# plt.contourf(X1, X2, knn.predict(np.array([X1.ravel(), X2.ravel()]).T).reshape(X1.shape),\n",
        "#              alpha = 0.25, cmap = ListedColormap(('red', 'blue','green')))\n",
        "\n",
        "plt.scatter(X_c[y_hc == 0, 0], X_c[y_hc == 0, 1], s = 100, c = 'red', label = 'Cluster 1')\n",
        "plt.scatter(X_c[y_hc == 1, 0], X_c[y_hc == 1, 1], s = 100, c = 'blue', label = 'Cluster 2')\n",
        "plt.scatter(X_c[y_hc == 2, 0], X_c[y_hc == 2, 1], s = 100, c = 'green', label = 'Cluster 3')\n",
        "\n",
        "plt.scatter(Supply[y_supply == 0, 0], Supply[y_supply == 0, 1], s = 100, c = 'cyan', label = 'Source')\n",
        "plt.scatter(Supply[y_supply == 1, 0], Supply[y_supply == 1, 1], s = 100, c = 'cyan', label = 'Source')\n",
        "plt.scatter(Supply[y_supply == 2, 0], Supply[y_supply == 2, 1], s = 100, c = 'cyan', label = 'Source')\n",
        "plt.scatter(Demand[y_demand == 0, 0], Demand[y_demand == 0, 1], s = 100, c = 'black', label = 'Sink')\n",
        "plt.scatter(Demand[y_demand == 1, 0], Demand[y_demand == 1, 1], s = 100, c = 'black', label = 'Sink')\n",
        "plt.scatter(Demand[y_demand == 2, 0], Demand[y_demand == 2, 1], s = 100, c = 'black', label = 'Sink')\n",
        "# plt.scatter(X_c[y_hc == 3, 0], X_c[y_hc == 3, 1], s = 100, c = 'cyan', label = 'Cluster 4')\n",
        "# plt.scatter(X_c[y_hc == 4, 0], X_c[y_hc == 4, 1], s = 100, c = 'magenta', label = 'Cluster 5')\n",
        "# plt.title('Clusters of plastic waste')\n",
        "plt.xlabel('PC1')\n",
        "plt.ylabel('PC2')\n",
        "# plt.legend()\n",
        "plt.show()"
      ],
      "execution_count": null,
      "outputs": [
        {
          "output_type": "display_data",
          "data": {
            "image/png": "[encoded data removed]",
            "text/plain": [
              "<Figure size 432x288 with 1 Axes>"
            ]
          },
          "metadata": {
            "needs_background": "light"
          }
        }
      ]
    },
    {
      "cell_type": "markdown",
      "metadata": {
        "id": "CfwOYFq9QZeD"
      },
      "source": [
        "**DBSCAN**"
      ]
    },
    {
      "cell_type": "code",
      "metadata": {
        "colab": {
          "base_uri": "https://localhost:8080/"
        },
        "id": "3ZuXNtvwL-EW",
        "outputId": "769dbf32-16cc-4dc5-de37-e0d8b32f97eb"
      },
      "source": [
        "i=np.identity(dataset.shape[1]-2)\n",
        "print(pca.transform(i))"
      ],
      "execution_count": null,
      "outputs": [
        {
          "output_type": "stream",
          "name": "stdout",
          "text": [
            "[[ 0.24047763  0.12585364]\n",
            " [ 0.1915152   0.38887186]\n",
            " [ 0.25987549 -0.02594473]\n",
            " [ 0.22735792  0.30938942]\n",
            " [ 0.29270299  0.12400405]\n",
            " [ 0.27455235 -0.11356291]\n",
            " [ 0.18191918 -0.04044776]\n",
            " [ 0.09498813 -0.05360648]\n",
            " [ 0.25988127 -0.04787519]\n",
            " [ 0.26716293 -0.03215638]\n",
            " [ 0.20028072  0.36740759]\n",
            " [ 0.21979492  0.33937065]\n",
            " [ 0.19512607 -0.28386288]\n",
            " [ 0.15585633  0.27225593]\n",
            " [ 0.16509275 -0.11903487]\n",
            " [-0.21263366  0.16336045]\n",
            " [ 0.09070376 -0.19443126]\n",
            " [ 0.19044967 -0.0882263 ]\n",
            " [ 0.21966761 -0.14127231]\n",
            " [ 0.24482695 -0.31879575]\n",
            " [ 0.26121121 -0.29587361]]\n"
          ]
        }
      ]
    },
    {
      "cell_type": "code",
      "metadata": {
        "colab": {
          "base_uri": "https://localhost:8080/",
          "height": 450
        },
        "id": "rS4jW3FRQfWx",
        "outputId": "b48a475b-6e22-4c88-924b-993ecb6c67a4"
      },
      "source": [
        "from sklearn.cluster import DBSCAN\n",
        "#X_c = sc.fit_transform(X_c)\n",
        "db = DBSCAN(eps=0.35, min_samples=30).fit(X_c)\n",
        "labels = db.labels_\n",
        "print(labels)\n",
        "print(\"Silhouette Coefficient: %0.3f\" % metrics.silhouette_score(X_c, labels))"
      ],
      "execution_count": null,
      "outputs": [
        {
          "output_type": "stream",
          "name": "stdout",
          "text": [
            "[-1 -1 -1 -1 -1 -1 -1 -1 -1 -1 -1 -1 -1 -1 -1 -1 -1 -1 -1 -1 -1 -1 -1 -1\n",
            " -1 -1 -1 -1 -1 -1 -1 -1 -1 -1 -1 -1 -1 -1 -1 -1 -1 -1 -1 -1 -1 -1 -1 -1\n",
            " -1 -1 -1 -1 -1 -1 -1 -1 -1 -1 -1 -1 -1 -1 -1 -1 -1 -1 -1 -1 -1 -1 -1 -1\n",
            " -1 -1 -1 -1 -1 -1 -1 -1 -1 -1 -1 -1 -1 -1 -1 -1 -1 -1 -1 -1 -1 -1 -1 -1\n",
            " -1 -1 -1 -1 -1 -1 -1 -1 -1 -1 -1 -1 -1 -1 -1 -1 -1 -1 -1]\n"
          ]
        },
        {
          "output_type": "error",
          "ename": "ValueError",
          "evalue": "ignored",
          "traceback": [
            "\u001b[0;31m---------------------------------------------------------------------------\u001b[0m",
            "\u001b[0;31mValueError\u001b[0m                                Traceback (most recent call last)",
            "\u001b[0;32m<ipython-input-118-3d21eb0737ba>\u001b[0m in \u001b[0;36m<module>\u001b[0;34m()\u001b[0m\n\u001b[1;32m      4\u001b[0m \u001b[0mlabels\u001b[0m \u001b[0;34m=\u001b[0m \u001b[0mdb\u001b[0m\u001b[0;34m.\u001b[0m\u001b[0mlabels_\u001b[0m\u001b[0;34m\u001b[0m\u001b[0;34m\u001b[0m\u001b[0m\n\u001b[1;32m      5\u001b[0m \u001b[0mprint\u001b[0m\u001b[0;34m(\u001b[0m\u001b[0mlabels\u001b[0m\u001b[0;34m)\u001b[0m\u001b[0;34m\u001b[0m\u001b[0;34m\u001b[0m\u001b[0m\n\u001b[0;32m----> 6\u001b[0;31m \u001b[0mprint\u001b[0m\u001b[0;34m(\u001b[0m\u001b[0;34m\"Silhouette Coefficient: %0.3f\"\u001b[0m \u001b[0;34m%\u001b[0m \u001b[0mmetrics\u001b[0m\u001b[0;34m.\u001b[0m\u001b[0msilhouette_score\u001b[0m\u001b[0;34m(\u001b[0m\u001b[0mX_c\u001b[0m\u001b[0;34m,\u001b[0m \u001b[0mlabels\u001b[0m\u001b[0;34m)\u001b[0m\u001b[0;34m)\u001b[0m\u001b[0;34m\u001b[0m\u001b[0;34m\u001b[0m\u001b[0m\n\u001b[0m",
            "\u001b[0;32m/usr/local/lib/python3.7/dist-packages/sklearn/metrics/cluster/_unsupervised.py\u001b[0m in \u001b[0;36msilhouette_score\u001b[0;34m(X, labels, metric, sample_size, random_state, **kwds)\u001b[0m\n\u001b[1;32m    116\u001b[0m         \u001b[0;32melse\u001b[0m\u001b[0;34m:\u001b[0m\u001b[0;34m\u001b[0m\u001b[0;34m\u001b[0m\u001b[0m\n\u001b[1;32m    117\u001b[0m             \u001b[0mX\u001b[0m\u001b[0;34m,\u001b[0m \u001b[0mlabels\u001b[0m \u001b[0;34m=\u001b[0m \u001b[0mX\u001b[0m\u001b[0;34m[\u001b[0m\u001b[0mindices\u001b[0m\u001b[0;34m]\u001b[0m\u001b[0;34m,\u001b[0m \u001b[0mlabels\u001b[0m\u001b[0;34m[\u001b[0m\u001b[0mindices\u001b[0m\u001b[0;34m]\u001b[0m\u001b[0;34m\u001b[0m\u001b[0;34m\u001b[0m\u001b[0m\n\u001b[0;32m--> 118\u001b[0;31m     \u001b[0;32mreturn\u001b[0m \u001b[0mnp\u001b[0m\u001b[0;34m.\u001b[0m\u001b[0mmean\u001b[0m\u001b[0;34m(\u001b[0m\u001b[0msilhouette_samples\u001b[0m\u001b[0;34m(\u001b[0m\u001b[0mX\u001b[0m\u001b[0;34m,\u001b[0m \u001b[0mlabels\u001b[0m\u001b[0;34m,\u001b[0m \u001b[0mmetric\u001b[0m\u001b[0;34m=\u001b[0m\u001b[0mmetric\u001b[0m\u001b[0;34m,\u001b[0m \u001b[0;34m**\u001b[0m\u001b[0mkwds\u001b[0m\u001b[0;34m)\u001b[0m\u001b[0;34m)\u001b[0m\u001b[0;34m\u001b[0m\u001b[0;34m\u001b[0m\u001b[0m\n\u001b[0m\u001b[1;32m    119\u001b[0m \u001b[0;34m\u001b[0m\u001b[0m\n\u001b[1;32m    120\u001b[0m \u001b[0;34m\u001b[0m\u001b[0m\n",
            "\u001b[0;32m/usr/local/lib/python3.7/dist-packages/sklearn/metrics/cluster/_unsupervised.py\u001b[0m in \u001b[0;36msilhouette_samples\u001b[0;34m(X, labels, metric, **kwds)\u001b[0m\n\u001b[1;32m    227\u001b[0m     \u001b[0mn_samples\u001b[0m \u001b[0;34m=\u001b[0m \u001b[0mlen\u001b[0m\u001b[0;34m(\u001b[0m\u001b[0mlabels\u001b[0m\u001b[0;34m)\u001b[0m\u001b[0;34m\u001b[0m\u001b[0;34m\u001b[0m\u001b[0m\n\u001b[1;32m    228\u001b[0m     \u001b[0mlabel_freqs\u001b[0m \u001b[0;34m=\u001b[0m \u001b[0mnp\u001b[0m\u001b[0;34m.\u001b[0m\u001b[0mbincount\u001b[0m\u001b[0;34m(\u001b[0m\u001b[0mlabels\u001b[0m\u001b[0;34m)\u001b[0m\u001b[0;34m\u001b[0m\u001b[0;34m\u001b[0m\u001b[0m\n\u001b[0;32m--> 229\u001b[0;31m     \u001b[0mcheck_number_of_labels\u001b[0m\u001b[0;34m(\u001b[0m\u001b[0mlen\u001b[0m\u001b[0;34m(\u001b[0m\u001b[0mle\u001b[0m\u001b[0;34m.\u001b[0m\u001b[0mclasses_\u001b[0m\u001b[0;34m)\u001b[0m\u001b[0;34m,\u001b[0m \u001b[0mn_samples\u001b[0m\u001b[0;34m)\u001b[0m\u001b[0;34m\u001b[0m\u001b[0;34m\u001b[0m\u001b[0m\n\u001b[0m\u001b[1;32m    230\u001b[0m \u001b[0;34m\u001b[0m\u001b[0m\n\u001b[1;32m    231\u001b[0m     \u001b[0mkwds\u001b[0m\u001b[0;34m[\u001b[0m\u001b[0;34m\"metric\"\u001b[0m\u001b[0;34m]\u001b[0m \u001b[0;34m=\u001b[0m \u001b[0mmetric\u001b[0m\u001b[0;34m\u001b[0m\u001b[0;34m\u001b[0m\u001b[0m\n",
            "\u001b[0;32m/usr/local/lib/python3.7/dist-packages/sklearn/metrics/cluster/_unsupervised.py\u001b[0m in \u001b[0;36mcheck_number_of_labels\u001b[0;34m(n_labels, n_samples)\u001b[0m\n\u001b[1;32m     33\u001b[0m         raise ValueError(\n\u001b[1;32m     34\u001b[0m             \u001b[0;34m\"Number of labels is %d. Valid values are 2 to n_samples - 1 (inclusive)\"\u001b[0m\u001b[0;34m\u001b[0m\u001b[0;34m\u001b[0m\u001b[0m\n\u001b[0;32m---> 35\u001b[0;31m             \u001b[0;34m%\u001b[0m \u001b[0mn_labels\u001b[0m\u001b[0;34m\u001b[0m\u001b[0;34m\u001b[0m\u001b[0m\n\u001b[0m\u001b[1;32m     36\u001b[0m         )\n\u001b[1;32m     37\u001b[0m \u001b[0;34m\u001b[0m\u001b[0m\n",
            "\u001b[0;31mValueError\u001b[0m: Number of labels is 1. Valid values are 2 to n_samples - 1 (inclusive)"
          ]
        }
      ]
    },
    {
      "cell_type": "code",
      "metadata": {
        "colab": {
          "base_uri": "https://localhost:8080/"
        },
        "id": "-qWWC8clW9Cl",
        "outputId": "685e8528-5b94-4505-852f-1f23cd367185"
      },
      "source": [
        "from sklearn.cluster import AffinityPropagation\n",
        "# Compute Affinity Propagation\n",
        "af = AffinityPropagation(preference=-0.69, random_state=10,affinity='euclidean').fit(X_c)\n",
        "cluster_centers_indices = af.cluster_centers_indices_\n",
        "labels = af.labels_\n",
        "\n",
        "n_clusters_ = len(cluster_centers_indices)\n",
        "print(labels)\n",
        "\n",
        "print(\"Estimated number of clusters: %d\" % n_clusters_)\n",
        "print(\n",
        "    \"Silhouette Coefficient: %0.3f\"\n",
        "    % metrics.silhouette_score(X_c, labels, metric=\"sqeuclidean\")\n",
        ")"
      ],
      "execution_count": null,
      "outputs": [
        {
          "output_type": "stream",
          "name": "stdout",
          "text": [
            "[2 2 1 0 2 2 0 2 3 3 2 1 1 0 0 2 2 2 3 0 1 2 1 2 3 3 0 1 2 0 0 3 2 1 2 2 2\n",
            " 3 0 1 0 2 1 3 2 0 0 3 2 3 3 3 2 0 2 2 2 2 2 0 3 3 0 2 3 3 2 3 2 2 1 2 3 0\n",
            " 1 3 2 3 1 2 3 0 3 3 2 0 2 0 0 2 2 2 0 1 2 2 2 3 3 2]\n",
            "Estimated number of clusters: 4\n",
            "Silhouette Coefficient: 0.840\n"
          ]
        }
      ]
    },
    {
      "cell_type": "markdown",
      "source": [
        "Decision Tree"
      ],
      "metadata": {
        "id": "ayoKIiLff52P"
      }
    },
    {
      "cell_type": "code",
      "source": [
        "y_ori=y_kmeans\n",
        "# X_c=sc.inverse_transform(X_c)"
      ],
      "metadata": {
        "id": "od2dBEq8EJK7"
      },
      "execution_count": null,
      "outputs": []
    },
    {
      "cell_type": "code",
      "source": [
        "#graph.render(\"iris\") \n",
        "features=['PC1','PC2','PC3','PC4','PC5','PC6','PC7']\n",
        "# features=['pH','DO','BOD','COD','KMnO4','SS','NH3','NO4','Cl','Fe','Mn','AB','CCL']\n",
        "classes=['1','2']\n",
        "\n",
        "\n",
        "\n",
        "from sklearn.model_selection import train_test_split\n",
        "X_train, X_test, y_train, y_test = train_test_split(X_c, y_ori, test_size = 0.35, random_state = 10) \n",
        "# X_train, X_test, y_train, y_test = train_test_split(X_c, y_hc, test_size = 0.3, random_state = 10) \n",
        "\n",
        "from sklearn.tree import DecisionTreeClassifier\n",
        "from sklearn.tree import export_text\n",
        "from sklearn import tree\n",
        "classifier = DecisionTreeClassifier(criterion = 'entropy', random_state = 25,max_features=2,max_depth=2) #PE Random_state = 25,  #PP Random_state = 0. #PET Random_state=25\n",
        "classifier.fit(X_train, y_train)\n",
        "# classifier.fit(X_c, y_kmeans)\n",
        "#tree.plot_tree(classifier)\n",
        "\n",
        "r=export_text(classifier,feature_names=features)\n",
        "print(r)\n",
        "\n",
        "\n",
        "\n",
        "\n",
        "import graphviz \n",
        "dot_data = tree.export_graphviz(classifier, out_file=None, \n",
        "                     feature_names=features,  \n",
        "                      class_names=classes,  \n",
        "                      filled=True, rounded=True,  \n",
        "                     special_characters=True)  \n",
        "graph = graphviz.Source(dot_data) \n",
        "graph"
      ],
      "metadata": {
        "colab": {
          "base_uri": "https://localhost:8080/",
          "height": 586
        },
        "id": "ptuYmI3rf5Rw",
        "outputId": "9929d340-2ac6-4f94-b570-b9316509653d"
      },
      "execution_count": null,
      "outputs": [
        {
          "output_type": "stream",
          "name": "stdout",
          "text": [
            "|--- PC3 <= -0.78\n",
            "|   |--- class: 1\n",
            "|--- PC3 >  -0.78\n",
            "|   |--- PC1 <= 1.04\n",
            "|   |   |--- class: 0\n",
            "|   |--- PC1 >  1.04\n",
            "|   |   |--- class: 1\n",
            "\n"
          ]
        },
        {
          "output_type": "execute_result",
          "data": {
            "text/plain": [
              "<graphviz.files.Source at 0x7f4263023f90>"
            ],
            "image/svg+xml": "<?xml version=\"1.0\" encoding=\"UTF-8\" standalone=\"no\"?>\n<!DOCTYPE svg PUBLIC \"-//W3C//DTD SVG 1.1//EN\"\n \"http://www.w3.org/Graphics/SVG/1.1/DTD/svg11.dtd\">\n<!-- Generated by graphviz version 2.40.1 (20161225.0304)\n -->\n<!-- Title: Tree Pages: 1 -->\n<svg width=\"300pt\" height=\"314pt\"\n viewBox=\"0.00 0.00 300.00 314.00\" xmlns=\"http://www.w3.org/2000/svg\" xmlns:xlink=\"http://www.w3.org/1999/xlink\">\n<g id=\"graph0\" class=\"graph\" transform=\"scale(1 1) rotate(0) translate(4 310)\">\n<title>Tree</title>\n<polygon fill=\"#ffffff\" stroke=\"transparent\" points=\"-4,4 -4,-310 296,-310 296,4 -4,4\"/>\n<!-- 0 -->\n<g id=\"node1\" class=\"node\">\n<title>0</title>\n<path fill=\"#f1b991\" stroke=\"#000000\" d=\"M162.5,-306C162.5,-306 70.5,-306 70.5,-306 64.5,-306 58.5,-300 58.5,-294 58.5,-294 58.5,-235 58.5,-235 58.5,-229 64.5,-223 70.5,-223 70.5,-223 162.5,-223 162.5,-223 168.5,-223 174.5,-229 174.5,-235 174.5,-235 174.5,-294 174.5,-294 174.5,-300 168.5,-306 162.5,-306\"/>\n<text text-anchor=\"start\" x=\"74\" y=\"-290.8\" font-family=\"Helvetica,sans-Serif\" font-size=\"14.00\" fill=\"#000000\">PC3 ≤ &#45;0.783</text>\n<text text-anchor=\"start\" x=\"69.5\" y=\"-275.8\" font-family=\"Helvetica,sans-Serif\" font-size=\"14.00\" fill=\"#000000\">entropy = 0.89</text>\n<text text-anchor=\"start\" x=\"72.5\" y=\"-260.8\" font-family=\"Helvetica,sans-Serif\" font-size=\"14.00\" fill=\"#000000\">samples = 65</text>\n<text text-anchor=\"start\" x=\"66.5\" y=\"-245.8\" font-family=\"Helvetica,sans-Serif\" font-size=\"14.00\" fill=\"#000000\">value = [45, 20]</text>\n<text text-anchor=\"start\" x=\"87.5\" y=\"-230.8\" font-family=\"Helvetica,sans-Serif\" font-size=\"14.00\" fill=\"#000000\">class = 1</text>\n</g>\n<!-- 1 -->\n<g id=\"node2\" class=\"node\">\n<title>1</title>\n<path fill=\"#399de5\" stroke=\"#000000\" d=\"M95,-179.5C95,-179.5 12,-179.5 12,-179.5 6,-179.5 0,-173.5 0,-167.5 0,-167.5 0,-123.5 0,-123.5 0,-117.5 6,-111.5 12,-111.5 12,-111.5 95,-111.5 95,-111.5 101,-111.5 107,-117.5 107,-123.5 107,-123.5 107,-167.5 107,-167.5 107,-173.5 101,-179.5 95,-179.5\"/>\n<text text-anchor=\"start\" x=\"11\" y=\"-164.3\" font-family=\"Helvetica,sans-Serif\" font-size=\"14.00\" fill=\"#000000\">entropy = 0.0</text>\n<text text-anchor=\"start\" x=\"9.5\" y=\"-149.3\" font-family=\"Helvetica,sans-Serif\" font-size=\"14.00\" fill=\"#000000\">samples = 11</text>\n<text text-anchor=\"start\" x=\"8\" y=\"-134.3\" font-family=\"Helvetica,sans-Serif\" font-size=\"14.00\" fill=\"#000000\">value = [0, 11]</text>\n<text text-anchor=\"start\" x=\"24.5\" y=\"-119.3\" font-family=\"Helvetica,sans-Serif\" font-size=\"14.00\" fill=\"#000000\">class = 2</text>\n</g>\n<!-- 0&#45;&gt;1 -->\n<g id=\"edge1\" class=\"edge\">\n<title>0&#45;&gt;1</title>\n<path fill=\"none\" stroke=\"#000000\" d=\"M94.4657,-222.8796C88.6442,-211.8835 82.3473,-199.9893 76.4773,-188.9015\"/>\n<polygon fill=\"#000000\" stroke=\"#000000\" points=\"79.4389,-187.0152 71.6667,-179.8149 73.2524,-190.2905 79.4389,-187.0152\"/>\n<text text-anchor=\"middle\" x=\"64.3146\" y=\"-200.0094\" font-family=\"Helvetica,sans-Serif\" font-size=\"14.00\" fill=\"#000000\">True</text>\n</g>\n<!-- 2 -->\n<g id=\"node3\" class=\"node\">\n<title>2</title>\n<path fill=\"#ea9a61\" stroke=\"#000000\" d=\"M223.5,-187C223.5,-187 137.5,-187 137.5,-187 131.5,-187 125.5,-181 125.5,-175 125.5,-175 125.5,-116 125.5,-116 125.5,-110 131.5,-104 137.5,-104 137.5,-104 223.5,-104 223.5,-104 229.5,-104 235.5,-110 235.5,-116 235.5,-116 235.5,-175 235.5,-175 235.5,-181 229.5,-187 223.5,-187\"/>\n<text text-anchor=\"start\" x=\"140\" y=\"-171.8\" font-family=\"Helvetica,sans-Serif\" font-size=\"14.00\" fill=\"#000000\">PC1 ≤ 1.035</text>\n<text text-anchor=\"start\" x=\"133.5\" y=\"-156.8\" font-family=\"Helvetica,sans-Serif\" font-size=\"14.00\" fill=\"#000000\">entropy = 0.65</text>\n<text text-anchor=\"start\" x=\"136.5\" y=\"-141.8\" font-family=\"Helvetica,sans-Serif\" font-size=\"14.00\" fill=\"#000000\">samples = 54</text>\n<text text-anchor=\"start\" x=\"135\" y=\"-126.8\" font-family=\"Helvetica,sans-Serif\" font-size=\"14.00\" fill=\"#000000\">value = [45, 9]</text>\n<text text-anchor=\"start\" x=\"151.5\" y=\"-111.8\" font-family=\"Helvetica,sans-Serif\" font-size=\"14.00\" fill=\"#000000\">class = 1</text>\n</g>\n<!-- 0&#45;&gt;2 -->\n<g id=\"edge2\" class=\"edge\">\n<title>0&#45;&gt;2</title>\n<path fill=\"none\" stroke=\"#000000\" d=\"M138.8841,-222.8796C143.4856,-214.3236 148.3796,-205.2238 153.1342,-196.3833\"/>\n<polygon fill=\"#000000\" stroke=\"#000000\" points=\"156.3662,-197.763 158.0204,-187.2981 150.2012,-194.4473 156.3662,-197.763\"/>\n<text text-anchor=\"middle\" x=\"165.2161\" y=\"-207.5401\" font-family=\"Helvetica,sans-Serif\" font-size=\"14.00\" fill=\"#000000\">False</text>\n</g>\n<!-- 3 -->\n<g id=\"node4\" class=\"node\">\n<title>3</title>\n<path fill=\"#e58139\" stroke=\"#000000\" d=\"M161,-68C161,-68 78,-68 78,-68 72,-68 66,-62 66,-56 66,-56 66,-12 66,-12 66,-6 72,0 78,0 78,0 161,0 161,0 167,0 173,-6 173,-12 173,-12 173,-56 173,-56 173,-62 167,-68 161,-68\"/>\n<text text-anchor=\"start\" x=\"77\" y=\"-52.8\" font-family=\"Helvetica,sans-Serif\" font-size=\"14.00\" fill=\"#000000\">entropy = 0.0</text>\n<text text-anchor=\"start\" x=\"75.5\" y=\"-37.8\" font-family=\"Helvetica,sans-Serif\" font-size=\"14.00\" fill=\"#000000\">samples = 45</text>\n<text text-anchor=\"start\" x=\"74\" y=\"-22.8\" font-family=\"Helvetica,sans-Serif\" font-size=\"14.00\" fill=\"#000000\">value = [45, 0]</text>\n<text text-anchor=\"start\" x=\"90.5\" y=\"-7.8\" font-family=\"Helvetica,sans-Serif\" font-size=\"14.00\" fill=\"#000000\">class = 1</text>\n</g>\n<!-- 2&#45;&gt;3 -->\n<g id=\"edge3\" class=\"edge\">\n<title>2&#45;&gt;3</title>\n<path fill=\"none\" stroke=\"#000000\" d=\"M157.7859,-103.9815C153.0092,-95.2504 147.9595,-86.0202 143.1494,-77.2281\"/>\n<polygon fill=\"#000000\" stroke=\"#000000\" points=\"146.1153,-75.3568 138.2451,-68.2637 139.9742,-78.7165 146.1153,-75.3568\"/>\n</g>\n<!-- 4 -->\n<g id=\"node5\" class=\"node\">\n<title>4</title>\n<path fill=\"#399de5\" stroke=\"#000000\" d=\"M280,-68C280,-68 203,-68 203,-68 197,-68 191,-62 191,-56 191,-56 191,-12 191,-12 191,-6 197,0 203,0 203,0 280,0 280,0 286,0 292,-6 292,-12 292,-12 292,-56 292,-56 292,-62 286,-68 280,-68\"/>\n<text text-anchor=\"start\" x=\"199\" y=\"-52.8\" font-family=\"Helvetica,sans-Serif\" font-size=\"14.00\" fill=\"#000000\">entropy = 0.0</text>\n<text text-anchor=\"start\" x=\"202\" y=\"-37.8\" font-family=\"Helvetica,sans-Serif\" font-size=\"14.00\" fill=\"#000000\">samples = 9</text>\n<text text-anchor=\"start\" x=\"200\" y=\"-22.8\" font-family=\"Helvetica,sans-Serif\" font-size=\"14.00\" fill=\"#000000\">value = [0, 9]</text>\n<text text-anchor=\"start\" x=\"212.5\" y=\"-7.8\" font-family=\"Helvetica,sans-Serif\" font-size=\"14.00\" fill=\"#000000\">class = 2</text>\n</g>\n<!-- 2&#45;&gt;4 -->\n<g id=\"edge4\" class=\"edge\">\n<title>2&#45;&gt;4</title>\n<path fill=\"none\" stroke=\"#000000\" d=\"M203.2141,-103.9815C207.9908,-95.2504 213.0405,-86.0202 217.8506,-77.2281\"/>\n<polygon fill=\"#000000\" stroke=\"#000000\" points=\"221.0258,-78.7165 222.7549,-68.2637 214.8847,-75.3568 221.0258,-78.7165\"/>\n</g>\n</g>\n</svg>\n"
          },
          "metadata": {},
          "execution_count": 67
        }
      ]
    },
    {
      "cell_type": "code",
      "source": [
        "# Training the Random Forest Classification model on the Training set\n",
        "from sklearn.ensemble import RandomForestClassifier\n",
        "classifier2 = RandomForestClassifier(n_estimators = 20, criterion = 'entropy', random_state = 0,max_features=2,max_depth=2)\n",
        "classifier2.fit(X_train, y_train)\n",
        "estimator=classifier2.estimators_[5]\n",
        "\n",
        "dot_data2 = tree.export_graphviz(estimator, out_file=None, \n",
        "                     feature_names=features,  \n",
        "                      class_names=classes,  \n",
        "                      filled=True, rounded=True,  \n",
        "                     special_characters=True)  \n",
        "graph2 = graphviz.Source(dot_data2) \n",
        "graph2"
      ],
      "metadata": {
        "colab": {
          "base_uri": "https://localhost:8080/",
          "height": 440
        },
        "id": "dnVCOOM2gsZ-",
        "outputId": "072eefdd-2cd2-48be-bc54-3f628921d944"
      },
      "execution_count": null,
      "outputs": [
        {
          "output_type": "execute_result",
          "data": {
            "text/plain": [
              "<graphviz.files.Source at 0x7f426301e5d0>"
            ],
            "image/svg+xml": "<?xml version=\"1.0\" encoding=\"UTF-8\" standalone=\"no\"?>\n<!DOCTYPE svg PUBLIC \"-//W3C//DTD SVG 1.1//EN\"\n \"http://www.w3.org/Graphics/SVG/1.1/DTD/svg11.dtd\">\n<!-- Generated by graphviz version 2.40.1 (20161225.0304)\n -->\n<!-- Title: Tree Pages: 1 -->\n<svg width=\"310pt\" height=\"314pt\"\n viewBox=\"0.00 0.00 309.50 314.00\" xmlns=\"http://www.w3.org/2000/svg\" xmlns:xlink=\"http://www.w3.org/1999/xlink\">\n<g id=\"graph0\" class=\"graph\" transform=\"scale(1 1) rotate(0) translate(4 310)\">\n<title>Tree</title>\n<polygon fill=\"#ffffff\" stroke=\"transparent\" points=\"-4,4 -4,-310 305.5,-310 305.5,4 -4,4\"/>\n<!-- 0 -->\n<g id=\"node1\" class=\"node\">\n<title>0</title>\n<path fill=\"#f2c19e\" stroke=\"#000000\" d=\"M161.5,-306C161.5,-306 67.5,-306 67.5,-306 61.5,-306 55.5,-300 55.5,-294 55.5,-294 55.5,-235 55.5,-235 55.5,-229 61.5,-223 67.5,-223 67.5,-223 161.5,-223 161.5,-223 167.5,-223 173.5,-229 173.5,-235 173.5,-235 173.5,-294 173.5,-294 173.5,-300 167.5,-306 161.5,-306\"/>\n<text text-anchor=\"start\" x=\"72\" y=\"-290.8\" font-family=\"Helvetica,sans-Serif\" font-size=\"14.00\" fill=\"#000000\">PC2 ≤ &#45;1.288</text>\n<text text-anchor=\"start\" x=\"63.5\" y=\"-275.8\" font-family=\"Helvetica,sans-Serif\" font-size=\"14.00\" fill=\"#000000\">entropy = 0.923</text>\n<text text-anchor=\"start\" x=\"70.5\" y=\"-260.8\" font-family=\"Helvetica,sans-Serif\" font-size=\"14.00\" fill=\"#000000\">samples = 39</text>\n<text text-anchor=\"start\" x=\"64.5\" y=\"-245.8\" font-family=\"Helvetica,sans-Serif\" font-size=\"14.00\" fill=\"#000000\">value = [43, 22]</text>\n<text text-anchor=\"start\" x=\"85.5\" y=\"-230.8\" font-family=\"Helvetica,sans-Serif\" font-size=\"14.00\" fill=\"#000000\">class = 1</text>\n</g>\n<!-- 1 -->\n<g id=\"node2\" class=\"node\">\n<title>1</title>\n<path fill=\"#399de5\" stroke=\"#000000\" d=\"M89,-179.5C89,-179.5 12,-179.5 12,-179.5 6,-179.5 0,-173.5 0,-167.5 0,-167.5 0,-123.5 0,-123.5 0,-117.5 6,-111.5 12,-111.5 12,-111.5 89,-111.5 89,-111.5 95,-111.5 101,-117.5 101,-123.5 101,-123.5 101,-167.5 101,-167.5 101,-173.5 95,-179.5 89,-179.5\"/>\n<text text-anchor=\"start\" x=\"8\" y=\"-164.3\" font-family=\"Helvetica,sans-Serif\" font-size=\"14.00\" fill=\"#000000\">entropy = 0.0</text>\n<text text-anchor=\"start\" x=\"11\" y=\"-149.3\" font-family=\"Helvetica,sans-Serif\" font-size=\"14.00\" fill=\"#000000\">samples = 4</text>\n<text text-anchor=\"start\" x=\"9\" y=\"-134.3\" font-family=\"Helvetica,sans-Serif\" font-size=\"14.00\" fill=\"#000000\">value = [0, 8]</text>\n<text text-anchor=\"start\" x=\"21.5\" y=\"-119.3\" font-family=\"Helvetica,sans-Serif\" font-size=\"14.00\" fill=\"#000000\">class = 2</text>\n</g>\n<!-- 0&#45;&gt;1 -->\n<g id=\"edge1\" class=\"edge\">\n<title>0&#45;&gt;1</title>\n<path fill=\"none\" stroke=\"#000000\" d=\"M92.1159,-222.8796C86.202,-211.8835 79.8051,-199.9893 73.842,-188.9015\"/>\n<polygon fill=\"#000000\" stroke=\"#000000\" points=\"76.7742,-186.9642 68.9551,-179.8149 70.6092,-190.2799 76.7742,-186.9642\"/>\n<text text-anchor=\"middle\" x=\"61.7594\" y=\"-200.057\" font-family=\"Helvetica,sans-Serif\" font-size=\"14.00\" fill=\"#000000\">True</text>\n</g>\n<!-- 2 -->\n<g id=\"node3\" class=\"node\">\n<title>2</title>\n<path fill=\"#edaa79\" stroke=\"#000000\" d=\"M225.5,-187C225.5,-187 131.5,-187 131.5,-187 125.5,-187 119.5,-181 119.5,-175 119.5,-175 119.5,-116 119.5,-116 119.5,-110 125.5,-104 131.5,-104 131.5,-104 225.5,-104 225.5,-104 231.5,-104 237.5,-110 237.5,-116 237.5,-116 237.5,-175 237.5,-175 237.5,-181 231.5,-187 225.5,-187\"/>\n<text text-anchor=\"start\" x=\"136\" y=\"-171.8\" font-family=\"Helvetica,sans-Serif\" font-size=\"14.00\" fill=\"#000000\">PC6 ≤ &#45;0.842</text>\n<text text-anchor=\"start\" x=\"127.5\" y=\"-156.8\" font-family=\"Helvetica,sans-Serif\" font-size=\"14.00\" fill=\"#000000\">entropy = 0.804</text>\n<text text-anchor=\"start\" x=\"134.5\" y=\"-141.8\" font-family=\"Helvetica,sans-Serif\" font-size=\"14.00\" fill=\"#000000\">samples = 35</text>\n<text text-anchor=\"start\" x=\"128.5\" y=\"-126.8\" font-family=\"Helvetica,sans-Serif\" font-size=\"14.00\" fill=\"#000000\">value = [43, 14]</text>\n<text text-anchor=\"start\" x=\"149.5\" y=\"-111.8\" font-family=\"Helvetica,sans-Serif\" font-size=\"14.00\" fill=\"#000000\">class = 1</text>\n</g>\n<!-- 0&#45;&gt;2 -->\n<g id=\"edge2\" class=\"edge\">\n<title>0&#45;&gt;2</title>\n<path fill=\"none\" stroke=\"#000000\" d=\"M136.8841,-222.8796C141.4856,-214.3236 146.3796,-205.2238 151.1342,-196.3833\"/>\n<polygon fill=\"#000000\" stroke=\"#000000\" points=\"154.3662,-197.763 156.0204,-187.2981 148.2012,-194.4473 154.3662,-197.763\"/>\n<text text-anchor=\"middle\" x=\"163.2161\" y=\"-207.5401\" font-family=\"Helvetica,sans-Serif\" font-size=\"14.00\" fill=\"#000000\">False</text>\n</g>\n<!-- 3 -->\n<g id=\"node4\" class=\"node\">\n<title>3</title>\n<path fill=\"#399de5\" stroke=\"#000000\" d=\"M153,-68C153,-68 76,-68 76,-68 70,-68 64,-62 64,-56 64,-56 64,-12 64,-12 64,-6 70,0 76,0 76,0 153,0 153,0 159,0 165,-6 165,-12 165,-12 165,-56 165,-56 165,-62 159,-68 153,-68\"/>\n<text text-anchor=\"start\" x=\"72\" y=\"-52.8\" font-family=\"Helvetica,sans-Serif\" font-size=\"14.00\" fill=\"#000000\">entropy = 0.0</text>\n<text text-anchor=\"start\" x=\"75\" y=\"-37.8\" font-family=\"Helvetica,sans-Serif\" font-size=\"14.00\" fill=\"#000000\">samples = 4</text>\n<text text-anchor=\"start\" x=\"73\" y=\"-22.8\" font-family=\"Helvetica,sans-Serif\" font-size=\"14.00\" fill=\"#000000\">value = [0, 8]</text>\n<text text-anchor=\"start\" x=\"85.5\" y=\"-7.8\" font-family=\"Helvetica,sans-Serif\" font-size=\"14.00\" fill=\"#000000\">class = 2</text>\n</g>\n<!-- 2&#45;&gt;3 -->\n<g id=\"edge3\" class=\"edge\">\n<title>2&#45;&gt;3</title>\n<path fill=\"none\" stroke=\"#000000\" d=\"M154.6688,-103.9815C149.6044,-95.1585 144.2475,-85.8258 139.1532,-76.9506\"/>\n<polygon fill=\"#000000\" stroke=\"#000000\" points=\"142.1807,-75.1942 134.167,-68.2637 136.1097,-78.6789 142.1807,-75.1942\"/>\n</g>\n<!-- 4 -->\n<g id=\"node5\" class=\"node\">\n<title>4</title>\n<path fill=\"#e99355\" stroke=\"#000000\" d=\"M289.5,-68C289.5,-68 195.5,-68 195.5,-68 189.5,-68 183.5,-62 183.5,-56 183.5,-56 183.5,-12 183.5,-12 183.5,-6 189.5,0 195.5,0 195.5,0 289.5,0 289.5,0 295.5,0 301.5,-6 301.5,-12 301.5,-12 301.5,-56 301.5,-56 301.5,-62 295.5,-68 289.5,-68\"/>\n<text text-anchor=\"start\" x=\"191.5\" y=\"-52.8\" font-family=\"Helvetica,sans-Serif\" font-size=\"14.00\" fill=\"#000000\">entropy = 0.536</text>\n<text text-anchor=\"start\" x=\"198.5\" y=\"-37.8\" font-family=\"Helvetica,sans-Serif\" font-size=\"14.00\" fill=\"#000000\">samples = 31</text>\n<text text-anchor=\"start\" x=\"197\" y=\"-22.8\" font-family=\"Helvetica,sans-Serif\" font-size=\"14.00\" fill=\"#000000\">value = [43, 6]</text>\n<text text-anchor=\"start\" x=\"213.5\" y=\"-7.8\" font-family=\"Helvetica,sans-Serif\" font-size=\"14.00\" fill=\"#000000\">class = 1</text>\n</g>\n<!-- 2&#45;&gt;4 -->\n<g id=\"edge4\" class=\"edge\">\n<title>2&#45;&gt;4</title>\n<path fill=\"none\" stroke=\"#000000\" d=\"M202.3312,-103.9815C207.3956,-95.1585 212.7525,-85.8258 217.8468,-76.9506\"/>\n<polygon fill=\"#000000\" stroke=\"#000000\" points=\"220.8903,-78.6789 222.833,-68.2637 214.8193,-75.1942 220.8903,-78.6789\"/>\n</g>\n</g>\n</svg>\n"
          },
          "metadata": {},
          "execution_count": 76
        }
      ]
    },
    {
      "cell_type": "code",
      "source": [
        "from sklearn.metrics import confusion_matrix, accuracy_score\n",
        "from sklearn.metrics import classification_report\n",
        "y_pred = classifier.predict(X_test)\n",
        "cm = confusion_matrix(y_test, y_pred)\n",
        "print(cm)\n",
        "print(accuracy_score(y_test, y_pred))\n",
        "\n",
        "y_pred2 = classifier2.predict(X_test)\n",
        "cm2 = confusion_matrix(y_test, y_pred2)\n",
        "print(cm2)\n",
        "print(accuracy_score(y_test, y_pred2))\n",
        "\n",
        "target_names = classes\n",
        "print(classification_report(y_test, y_pred, target_names=target_names))\n",
        "print(classification_report(y_test, y_pred2, target_names=target_names))"
      ],
      "metadata": {
        "colab": {
          "base_uri": "https://localhost:8080/"
        },
        "id": "DBGlSXhYg3h-",
        "outputId": "796caf2c-3f2a-4e96-8b4f-74bcd30d67ee"
      },
      "execution_count": null,
      "outputs": [
        {
          "output_type": "stream",
          "name": "stdout",
          "text": [
            "[[19  2]\n",
            " [ 0 14]]\n",
            "0.9428571428571428\n",
            "[[21  0]\n",
            " [ 0 14]]\n",
            "1.0\n",
            "              precision    recall  f1-score   support\n",
            "\n",
            "           1       1.00      0.90      0.95        21\n",
            "           2       0.88      1.00      0.93        14\n",
            "\n",
            "    accuracy                           0.94        35\n",
            "   macro avg       0.94      0.95      0.94        35\n",
            "weighted avg       0.95      0.94      0.94        35\n",
            "\n",
            "              precision    recall  f1-score   support\n",
            "\n",
            "           1       1.00      1.00      1.00        21\n",
            "           2       1.00      1.00      1.00        14\n",
            "\n",
            "    accuracy                           1.00        35\n",
            "   macro avg       1.00      1.00      1.00        35\n",
            "weighted avg       1.00      1.00      1.00        35\n",
            "\n"
          ]
        }
      ]
    },
    {
      "cell_type": "code",
      "source": [
        "from bioinfokit.visuz import cluster\n",
        "\n",
        "# i=np.identity(dataset.shape[1])\n",
        "# loadings=kpca.transform(i)\n",
        "# print(loadings)\n",
        "# print(columns)\n",
        "print(loadings.T)\n",
        "X_c_p=X_c\n",
        "X_c_p[:,1]=X_c[:,2]\n",
        "print(X_c)\n",
        "\n",
        "cluster.biplot(cscore=X_c_p[:,0:2], loadings=[loadings.T[:,0],loadings.T[:,2]], labels=columns, var1=round(pca.explained_variance_ratio_[0]*100, 2),\n",
        "    var2=round(pca.explained_variance_ratio_[2]*100, 2),colorlist=y_kmeans,show=True)\n",
        "\n",
        "import seaborn as sns\n",
        "# import matplotlib.pyplot as plt\n",
        "x_axis_labels=['PC1','PC2','PC3','PC4','PC5','PC6','PC7']\n",
        "y_axis_labels=columns\n",
        "ax = sns.heatmap(loadings.T, annot=True,xticklabels=x_axis_labels, yticklabels=y_axis_labels)\n",
        "plt.xlabel('PC')\n",
        "plt.ylabel('Parameters')\n",
        "plt.show()\n"
      ],
      "metadata": {
        "colab": {
          "base_uri": "https://localhost:8080/",
          "height": 1000
        },
        "id": "1AT6K-m_Kiar",
        "outputId": "f02b95bf-badc-411e-89e1-d4299819d571"
      },
      "execution_count": null,
      "outputs": [
        {
          "output_type": "stream",
          "name": "stdout",
          "text": [
            "[[ 0.00502277  0.86314144  0.06039885  0.06325517  0.19315947  0.268118\n",
            "  -0.13189197]\n",
            " [ 0.16900303 -0.11935678  0.80662504 -0.11735115  0.00244711  0.06522924\n",
            "   0.14218692]\n",
            " [ 0.3380722   0.0241874  -0.03109191  0.0463535  -0.01290483 -0.00629011\n",
            "  -0.03960303]\n",
            " [ 0.34355486  0.02522744  0.0347226   0.06944311 -0.02188691  0.13517324\n",
            "  -0.00743983]\n",
            " [ 0.27257764  0.28517181  0.20884394 -0.01474467 -0.55483216 -0.28736523\n",
            "   0.03649787]\n",
            " [ 0.28072003  0.16020634  0.06399008  0.08018263  0.44016525 -0.70898385\n",
            "   0.1335312 ]\n",
            " [ 0.30473438  0.09046244 -0.29431328  0.2710115   0.04183782 -0.04522417\n",
            "  -0.08506302]\n",
            " [ 0.29869484 -0.17327396  0.07531586  0.11261498 -0.0373172   0.10308783\n",
            "  -0.83028615]\n",
            " [ 0.28249357 -0.07305513 -0.32431256  0.23420137 -0.43102681 -0.00392642\n",
            "   0.30360392]\n",
            " [ 0.30325409 -0.01106204  0.01317912 -0.45449988 -0.17543469  0.02891551\n",
            "  -0.02109774]\n",
            " [ 0.3070564   0.01744986  0.03505502  0.1141148   0.14100927  0.54872895\n",
            "   0.38389118]\n",
            " [ 0.28311589 -0.29727644  0.02030834  0.21806678  0.42621075  0.0654678\n",
            "   0.07022826]\n",
            " [ 0.24021267  0.01363142 -0.31070685 -0.74865529  0.19801528  0.03736708\n",
            "   0.00807779]]\n",
            "[[-2.03638965e+00  1.39826728e-01  1.39826728e-01  2.92533402e-01\n",
            "   1.26935336e-01  6.23449930e-02 -4.33982305e-02]\n",
            " [-2.79906692e+00  3.49880330e-01  3.49880330e-01  1.89289278e-01\n",
            "  -1.07111697e-02  4.96447180e-02 -5.59884034e-02]\n",
            " [ 3.05160124e+00 -1.27708107e-01 -1.27708107e-01  4.89057035e-01\n",
            "  -2.07172959e-01 -7.71234178e-01 -3.51573133e-01]\n",
            " [ 4.66610466e+00  2.41178037e+00  2.41178037e+00 -2.20877659e+00\n",
            "  -7.25916603e-01  2.34282066e+00  1.12728945e+00]\n",
            " [-2.81496399e+00  2.60276207e-01  2.60276207e-01  5.74162201e-02\n",
            "  -8.92661026e-02  1.49130733e-01 -2.06976604e-02]\n",
            " [-2.85309890e+00  2.35915954e-01  2.35915954e-01  5.36937911e-02\n",
            "  -8.74003926e-02  6.42170347e-02  3.35836106e-02]\n",
            " [ 4.45012613e+00  3.05832071e+00  3.05832071e+00 -2.15971856e+00\n",
            "   1.80793272e+00  1.07045011e+00  6.92949230e-02]\n",
            " [-2.72401710e+00  2.42834776e-01  2.42834776e-01  4.98727586e-02\n",
            "  -6.53099880e-02  6.71740533e-02 -1.24551376e-02]\n",
            " [-5.70296274e-01 -6.89860093e-02 -6.89860093e-02 -5.51636759e-01\n",
            "  -4.79893363e-01 -4.86759161e-01 -2.43312638e-01]\n",
            " [-8.16318125e-01 -3.02492488e-01 -3.02492488e-01 -8.69330754e-01\n",
            "   4.27206909e-01  5.17016333e-01  1.32804293e-01]\n",
            " [-2.74216961e+00  2.55876882e-01  2.55876882e-01  8.91523432e-02\n",
            "  -8.08815672e-02 -1.05308282e-01 -6.82905457e-03]\n",
            " [ 1.50683222e+00 -8.25124599e-01 -8.25124599e-01  3.83128579e-01\n",
            "   2.09529439e-01 -2.07267708e+00  1.41028115e+00]\n",
            " [ 3.14090757e+00 -2.37647864e+00 -2.37647864e+00 -1.27865461e+00\n",
            "   9.39888072e-01 -2.76988301e-01  9.58832780e-02]\n",
            " [ 5.59218929e+00  2.90926756e+00  2.90926756e+00 -1.15493028e-01\n",
            "  -1.57349640e+00 -1.35803648e+00 -1.09136266e+00]\n",
            " [ 3.03597629e+00 -1.24589199e+00 -1.24589199e+00  9.28834149e-01\n",
            "  -2.40575714e+00 -1.55857043e+00 -2.50627090e-01]\n",
            " [-2.21648585e+00  6.68985096e-01  6.68985096e-01  2.66145085e-01\n",
            "  -9.83997239e-02 -1.02900636e-01  2.00034100e-01]\n",
            " [-2.93338135e+00  2.09000498e-01  2.09000498e-01  1.20462723e-01\n",
            "   5.05844103e-02  1.36371102e-01 -1.12569605e-01]\n",
            " [-2.73325558e+00  4.27774363e-01  4.27774363e-01  2.11491930e-01\n",
            "  -1.05045498e-01 -7.79129358e-02  4.35853257e-02]\n",
            " [-1.19230738e+00  5.17919086e-01  5.17919086e-01 -6.77268309e-01\n",
            "   2.22055053e-01 -3.41807640e-01  1.19720426e-01]\n",
            " [ 4.24547853e+00  2.32063519e+00  2.32063519e+00  2.21048187e+00\n",
            "   6.23907477e-01  1.32404845e+00 -5.29008361e-01]\n",
            " [ 2.27478370e+00 -4.39008785e-02 -4.39008785e-02  1.70869991e+00\n",
            "   1.19873720e+00  8.28365064e-01 -4.52533496e-01]\n",
            " [-1.92290148e+00  4.16704345e-01  4.16704345e-01 -1.07218689e-01\n",
            "   1.34501477e-01 -2.22305963e-02  1.52091007e-01]\n",
            " [ 3.10696968e+00 -1.46883819e+00 -1.46883819e+00 -1.70973405e+00\n",
            "   8.88941750e-01 -3.76277757e-01 -1.58299349e+00]\n",
            " [-2.47360959e+00 -4.88662892e-02 -4.88662892e-02  1.86245775e-01\n",
            "  -1.39786040e-01  2.42609020e-01 -2.94544772e-01]\n",
            " [-9.96868857e-01  3.24649727e-01  3.24649727e-01  6.00106423e-01\n",
            "  -3.26441789e-01  3.28218274e-01  2.68969740e-01]\n",
            " [-5.32424280e-01 -5.65327674e-01 -5.65327674e-01 -3.62811164e-01\n",
            "  -2.46980839e-02 -6.58157291e-01 -4.00524653e-01]\n",
            " [ 4.94815610e+00  3.49311074e+00  3.49311074e+00 -1.28043334e+00\n",
            "  -2.31968579e-01 -1.63705133e+00  5.50789083e-02]\n",
            " [ 2.59817991e+00  8.29213895e-01  8.29213895e-01  2.14909655e-01\n",
            "   3.73266545e-01  2.26347882e-01 -4.87673878e-01]\n",
            " [-2.77608340e+00  4.20665663e-01  4.20665663e-01  1.66036579e-01\n",
            "   1.60088711e-02  1.54794037e-02 -1.11633199e-01]\n",
            " [ 3.17574107e+00 -2.25834189e+00 -2.25834189e+00 -6.42105040e-01\n",
            "  -7.41667819e-01  1.18232949e+00 -5.44822887e-01]\n",
            " [ 4.76646940e+00 -3.82400894e-01 -3.82400894e-01 -1.28753263e+00\n",
            "  -1.24905910e+00  1.45777774e+00 -7.26825492e-01]\n",
            " [-1.21815452e+00  8.31038980e-02  8.31038980e-02  9.04138380e-01\n",
            "   4.64263338e-01 -2.31382504e-01  2.42455627e-01]\n",
            " [-2.36505511e+00 -2.25550661e-01 -2.25550661e-01 -3.57115403e-01\n",
            "  -1.96199091e-01  6.95890977e-02 -2.79238576e-01]\n",
            " [ 1.93970983e+00 -1.44438681e+00 -1.44438681e+00 -8.40903100e-01\n",
            "   3.97341444e-01 -1.69526509e+00 -1.97848991e+00]\n",
            " [-2.08607157e+00 -8.52493825e-02 -8.52493825e-02 -3.04039923e-01\n",
            "   1.50480998e-01  1.21710199e-01  1.62569682e-01]\n",
            " [-2.08493077e+00  3.77833963e-01  3.77833963e-01  1.38134653e-03\n",
            "  -1.41930392e-01 -1.75987035e-01  1.14143668e-01]\n",
            " [-2.25331720e+00 -1.66260919e-01 -1.66260919e-01  5.33939117e-02\n",
            "   1.06457575e-01  2.34052373e-01  4.26134711e-02]\n",
            " [-1.16081900e+00 -3.91167559e-01 -3.91167559e-01  3.07492338e-01\n",
            "   3.83235351e-01  5.78827499e-01 -2.56892189e-01]\n",
            " [ 2.85157320e+00 -1.05594168e+00 -1.05594168e+00  1.83901156e+00\n",
            "  -8.22437416e-01  1.51949024e+00  4.44114468e-01]\n",
            " [ 2.30842802e+00 -9.04337708e-01 -9.04337708e-01  1.54240610e+00\n",
            "   2.14350889e+00 -8.47360960e-01  4.92681330e-01]\n",
            " [ 3.76815725e+00 -1.15476790e+00 -1.15476790e+00  2.45865433e-01\n",
            "   2.23603030e-01 -9.29454492e-01 -6.63658212e-01]\n",
            " [-2.79186832e+00  2.88014167e-01  2.88014167e-01  2.95385881e-01\n",
            "  -1.27584190e-01  1.32815060e-01 -1.14197211e-01]\n",
            " [ 2.58547990e+00 -4.43094110e-01 -4.43094110e-01 -1.01910686e-02\n",
            "   4.48988718e-01  1.94244618e-01  8.86114845e-01]\n",
            " [-5.74396799e-01 -1.01824058e+00 -1.01824058e+00  4.57147236e-01\n",
            "   4.25412668e-01 -2.05190836e-01  6.59999599e-01]\n",
            " [-2.61689925e+00  3.36395532e-01  3.36395532e-01 -6.59703264e-02\n",
            "  -3.15396256e-02  4.18320379e-03 -4.44913508e-02]\n",
            " [ 4.78619223e+00  2.19674266e+00  2.19674266e+00 -7.04423366e-01\n",
            "  -3.93184509e-01 -9.53756000e-01  9.04801252e-01]\n",
            " [ 5.05572538e+00 -2.60396425e+00 -2.60396425e+00 -9.64836919e-01\n",
            "  -1.04940516e+00  8.03454818e-01  2.34708520e-01]\n",
            " [-1.19900399e+00 -4.48173714e-01 -4.48173714e-01 -4.85638660e-01\n",
            "  -2.47510759e-02 -1.62968080e-01 -3.14207523e-02]\n",
            " [-2.70196894e+00  2.57582323e-01  2.57582323e-01  7.76620675e-02\n",
            "   1.00586610e-03  4.32299494e-02 -4.13422591e-02]\n",
            " [-6.59437896e-01  3.53550526e-01  3.53550526e-01 -3.30991481e-01\n",
            "   1.75534544e-02 -6.27930093e-01  6.57982089e-01]\n",
            " [-9.32529546e-01 -2.44536309e-01 -2.44536309e-01  7.74465584e-01\n",
            "   3.60039839e-01  9.37263514e-02  9.28796037e-01]\n",
            " [-1.19579786e+00  1.50249233e-01  1.50249233e-01 -9.01318301e-02\n",
            "  -8.31938025e-01 -1.87867319e-01  2.16834300e-01]\n",
            " [-2.41094306e+00  1.78125271e-01  1.78125271e-01  8.25824995e-02\n",
            "  -1.03886927e-01  1.34709498e-01 -3.13947868e-01]\n",
            " [ 4.28117472e+00 -1.51720634e+00 -1.51720634e+00  7.52286541e-01\n",
            "  -3.11307122e-01  1.10375723e+00 -3.37646153e-02]\n",
            " [-2.30157499e+00 -3.08492354e-01 -3.08492354e-01 -1.51581388e-01\n",
            "   3.18397006e-01  1.76650693e-01 -2.72881625e-01]\n",
            " [-2.20739559e+00  4.40444500e-02  4.40444500e-02  8.00754014e-02\n",
            "  -1.22696527e-01 -2.78816041e-01  8.76233506e-02]\n",
            " [-2.96026309e+00  3.02359194e-01  3.02359194e-01  1.99736485e-01\n",
            "  -1.04184432e-01  6.26552152e-02 -4.00935524e-02]\n",
            " [-2.23670989e+00  1.00292129e-01  1.00292129e-01  4.10118064e-01\n",
            "  -3.04135415e-01 -1.23671973e-01  1.73227187e-01]\n",
            " [-2.82407558e+00  2.46235262e-01  2.46235262e-01  1.26496747e-01\n",
            "   2.68587813e-02 -3.99890348e-02 -5.93348175e-02]\n",
            " [ 5.40351457e+00  3.15607385e+00  3.15607385e+00  1.53501025e+00\n",
            "  -7.16372999e-01 -1.10026581e-01 -1.51178710e-01]\n",
            " [-3.25988892e-01 -8.24739806e-01 -8.24739806e-01 -3.16274384e-01\n",
            "   2.25613944e-01 -3.79564606e-01  2.87297365e-01]\n",
            " [-1.52774211e+00 -1.43208334e-01 -1.43208334e-01 -2.85021712e-02\n",
            "   4.07207098e-01  3.29118687e-01 -2.71792028e-01]\n",
            " [ 3.46898567e+00 -9.89087848e-01 -9.89087848e-01  6.80666291e-01\n",
            "  -2.23891278e+00  2.96178726e-01  3.60955720e-02]\n",
            " [-2.86890907e+00  1.94021786e-01  1.94021786e-01  1.80610269e-01\n",
            "   2.55127263e-02  1.47147886e-01 -1.11664076e-01]\n",
            " [-1.48118259e+00  4.72955738e-01  4.72955738e-01  1.44523239e-01\n",
            "  -6.25966832e-01 -1.14771054e-01  1.97870962e-01]\n",
            " [-9.35614173e-01  2.37886341e-01  2.37886341e-01 -2.41344710e-01\n",
            "   6.44437135e-01  1.23514783e-01 -2.52345685e-01]\n",
            " [-2.18006990e+00 -2.57130165e-02 -2.57130165e-02 -1.82661314e-01\n",
            "   2.51685762e-01 -7.97788375e-02 -1.88358352e-01]\n",
            " [-2.45355874e-01 -7.40222627e-01 -7.40222627e-01 -7.04583830e-01\n",
            "  -1.61567832e-01  4.33440610e-01  5.71538219e-01]\n",
            " [-2.89698691e+00  1.54886309e-01  1.54886309e-01  1.54117613e-01\n",
            "   7.32586385e-02  3.74383135e-02 -1.04675078e-01]\n",
            " [-2.21166723e+00 -2.60079476e-01 -2.60079476e-01 -9.99146322e-03\n",
            "  -3.37448181e-01 -3.41889546e-01  1.87434185e-01]\n",
            " [ 2.16421467e+00 -9.17481064e-01 -9.17481064e-01 -2.16894703e+00\n",
            "  -6.40205249e-01  1.32552461e+00 -4.49520101e-01]\n",
            " [-2.21326662e+00  4.17627754e-01  4.17627754e-01 -6.16941116e-02\n",
            "  -8.34908033e-02  2.37055472e-01  1.14960772e-02]\n",
            " [-3.72770212e-01 -8.86163040e-02 -8.86163040e-02  1.78929535e-01\n",
            "   3.70161465e-01 -4.87724533e-01 -3.80648542e-01]\n",
            " [ 4.82590269e+00 -1.55498835e+00 -1.55498835e+00 -5.82759835e-01\n",
            "   1.41424487e+00 -5.36336304e-01  2.88793849e+00]\n",
            " [ 2.28177798e+00  8.05235600e-01  8.05235600e-01  7.10587845e-01\n",
            "  -2.45800933e-01 -5.70433892e-01  3.83059621e-01]\n",
            " [-1.06667998e+00  4.38601773e-02  4.38601773e-02 -8.04205987e-01\n",
            "   6.47466225e-01  9.85725554e-01  2.38948011e-01]\n",
            " [-2.34662513e+00  1.98311166e-01  1.98311166e-01  2.92197535e-01\n",
            "  -4.32635787e-01 -1.56958274e-01  8.96965033e-02]\n",
            " [-9.03327326e-01  3.00582230e-01  3.00582230e-01 -1.01481278e+00\n",
            "   4.20030428e-01  1.95532099e-01 -3.33714971e-01]\n",
            " [ 2.89871698e+00 -2.07436163e+00 -2.07436163e+00 -9.08640894e-01\n",
            "  -4.63301276e-01 -5.36620805e-01  7.01248654e-01]\n",
            " [-2.22992145e+00 -5.22284910e-02 -5.22284910e-02 -1.21941885e-01\n",
            "  -4.87304548e-01 -1.03071461e-01  2.37531917e-02]\n",
            " [-7.49914599e-01 -6.77240989e-01 -6.77240989e-01 -9.24075878e-02\n",
            "  -3.64320827e-01  1.32244412e-01 -2.15066496e-01]\n",
            " [ 3.97439082e+00  3.18674202e-01  3.18674202e-01 -4.78249828e-01\n",
            "   3.44484905e+00 -4.10712176e-01 -1.02632382e+00]\n",
            " [-7.34777440e-01 -5.34992987e-02 -5.34992987e-02 -3.01851641e-01\n",
            "  -1.83222535e-01 -8.36011012e-01 -1.96727267e-01]\n",
            " [-2.29001450e-01 -3.65744020e-01 -3.65744020e-01 -5.79801509e-01\n",
            "  -1.12520079e-01  2.92857430e-01  2.07850611e-01]\n",
            " [-2.24235905e+00  1.12436996e-01  1.12436996e-01 -2.65899175e-01\n",
            "  -1.08705259e-02 -2.34861699e-03 -1.69332240e-01]\n",
            " [ 4.28319426e+00 -4.44008044e-01 -4.44008044e-01  9.14693668e-01\n",
            "  -2.64034170e-01 -5.49016770e-01 -1.54548002e+00]\n",
            " [-2.91307908e+00  6.75017551e-02  6.75017551e-02  3.98409896e-02\n",
            "  -4.94769379e-02  1.00350817e-01 -5.29285901e-02]\n",
            " [ 4.20267131e+00 -3.06953122e-01 -3.06953122e-01  9.06432115e-01\n",
            "  -2.39069929e-01 -8.39967584e-01  1.57232862e+00]\n",
            " [ 4.24507530e+00 -1.16180688e+00 -1.16180688e+00  3.30917967e+00\n",
            "   8.57026113e-01  1.31750537e+00 -5.51314087e-01]\n",
            " [-2.20197218e+00  2.74936615e-01  2.74936615e-01 -2.26218143e-01\n",
            "   2.19518244e-01 -9.97706431e-02  1.87668004e-02]\n",
            " [-2.50782723e+00 -2.61611069e-01 -2.61611069e-01 -2.72230376e-02\n",
            "   2.75971091e-01  3.34610394e-01 -8.05871650e-02]\n",
            " [-1.93741154e+00 -7.63440113e-03 -7.63440113e-03 -1.94032873e-01\n",
            "  -1.52101491e-01  3.88283530e-02  1.66248947e-01]\n",
            " [ 3.62201742e+00  9.45220613e-01  9.45220613e-01  1.63009808e+00\n",
            "   2.28617123e-01  5.19022377e-01  4.22446837e-01]\n",
            " [ 2.56813375e+00 -5.86825923e-01 -5.86825923e-01 -6.64359538e-01\n",
            "   2.22630351e-01 -3.03205896e-01 -6.37588552e-01]\n",
            " [-2.26689195e+00 -6.89734032e-04 -6.89734032e-04 -6.98215913e-02\n",
            "  -1.26270981e-01 -5.76972483e-02 -8.35931885e-02]\n",
            " [-1.82941109e+00  2.03669158e-01  2.03669158e-01 -2.88753680e-01\n",
            "  -2.97605256e-01 -2.91030087e-02  1.83621041e-01]\n",
            " [-2.53533598e+00  4.80981652e-01  4.80981652e-01  2.53711555e-01\n",
            "  -2.46676903e-01  1.36735097e-01  1.36113726e-01]\n",
            " [-2.04658799e-01  1.46985054e-01  1.46985054e-01 -4.76056988e-01\n",
            "  -4.77001089e-01  1.29615787e-01  6.44325495e-01]\n",
            " [-1.19033457e+00  2.04443992e-02  2.04443992e-02  1.10888925e+00\n",
            "  -6.30907731e-02  3.12814540e-01 -5.68946790e-01]\n",
            " [-2.81061795e+00  3.03010217e-01  3.03010217e-01 -3.91180223e-02\n",
            "   1.24484653e-02  8.78579969e-02 -1.04448032e-01]]\n"
          ]
        },
        {
          "output_type": "display_data",
          "data": {
            "image/png": "[encoded data removed]",
            "text/plain": [
              "<Figure size 432x288 with 1 Axes>"
            ]
          },
          "metadata": {
            "needs_background": "light"
          }
        },
        {
          "output_type": "display_data",
          "data": {
            "image/png": "[encoded data removed]",
            "text/plain": [
              "<Figure size 432x288 with 2 Axes>"
            ]
          },
          "metadata": {
            "needs_background": "light"
          }
        }
      ]
    }
  ]
}