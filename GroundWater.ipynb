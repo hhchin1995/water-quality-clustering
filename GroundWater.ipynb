{
  "nbformat": 4,
  "nbformat_minor": 0,
  "metadata": {
    "colab": {
      "name": "GroundWater.ipynb",
      "provenance": [],
      "collapsed_sections": [],
      "machine_shape": "hm",
      "include_colab_link": true
    },
    "kernelspec": {
      "name": "python3",
      "display_name": "Python 3"
    }
  },
  "cells": [
    {
      "cell_type": "markdown",
      "metadata": {
        "id": "view-in-github",
        "colab_type": "text"
      },
      "source": [
        "<a href=\"https://colab.research.google.com/github/hhchin1995/water-quality-clustering/blob/main/GroundWater.ipynb\" target=\"_parent\"><img src=\"https://colab.research.google.com/assets/colab-badge.svg\" alt=\"Open In Colab\"/></a>"
      ]
    },
    {
      "cell_type": "markdown",
      "metadata": {
        "id": "0MRC0e0KhQ0S"
      },
      "source": [
        "# Ground water clustering and decision tree for classification"
      ]
    },
    {
      "cell_type": "markdown",
      "metadata": {
        "id": "LWd1UlMnhT2s"
      },
      "source": [
        "## Importing the libraries"
      ]
    },
    {
      "cell_type": "code",
      "metadata": {
        "id": "YvGPUQaHhXfL",
        "colab": {
          "base_uri": "https://localhost:8080/"
        },
        "outputId": "c95b8787-f86c-4c37-9d58-944eff558b78"
      },
      "source": [
        "import numpy as np\n",
        "import matplotlib.pyplot as plt\n",
        "import pandas as pd\n",
        "\n",
        "!pip install bioinfokit\n",
        "import bioinfokit"
      ],
      "execution_count": null,
      "outputs": [
        {
          "output_type": "stream",
          "name": "stdout",
          "text": [
            "Collecting bioinfokit\n",
            "  Downloading bioinfokit-2.0.8.tar.gz (84 kB)\n",
            "\u001b[?25l\r\u001b[K     |███▉                            | 10 kB 25.0 MB/s eta 0:00:01\r\u001b[K     |███████▊                        | 20 kB 31.7 MB/s eta 0:00:01\r\u001b[K     |███████████▋                    | 30 kB 27.7 MB/s eta 0:00:01\r\u001b[K     |███████████████▌                | 40 kB 20.5 MB/s eta 0:00:01\r\u001b[K     |███████████████████▍            | 51 kB 17.8 MB/s eta 0:00:01\r\u001b[K     |███████████████████████▎        | 61 kB 15.2 MB/s eta 0:00:01\r\u001b[K     |███████████████████████████     | 71 kB 14.0 MB/s eta 0:00:01\r\u001b[K     |███████████████████████████████ | 81 kB 15.4 MB/s eta 0:00:01\r\u001b[K     |████████████████████████████████| 84 kB 2.9 MB/s \n",
            "\u001b[?25hRequirement already satisfied: pandas in /usr/local/lib/python3.7/dist-packages (from bioinfokit) (1.1.5)\n",
            "Requirement already satisfied: numpy in /usr/local/lib/python3.7/dist-packages (from bioinfokit) (1.19.5)\n",
            "Requirement already satisfied: matplotlib in /usr/local/lib/python3.7/dist-packages (from bioinfokit) (3.2.2)\n",
            "Requirement already satisfied: scipy in /usr/local/lib/python3.7/dist-packages (from bioinfokit) (1.4.1)\n",
            "Requirement already satisfied: scikit-learn in /usr/local/lib/python3.7/dist-packages (from bioinfokit) (1.0.1)\n",
            "Requirement already satisfied: seaborn in /usr/local/lib/python3.7/dist-packages (from bioinfokit) (0.11.2)\n",
            "Requirement already satisfied: matplotlib-venn in /usr/local/lib/python3.7/dist-packages (from bioinfokit) (0.11.6)\n",
            "Requirement already satisfied: tabulate in /usr/local/lib/python3.7/dist-packages (from bioinfokit) (0.8.9)\n",
            "Requirement already satisfied: statsmodels in /usr/local/lib/python3.7/dist-packages (from bioinfokit) (0.10.2)\n",
            "Collecting textwrap3\n",
            "  Downloading textwrap3-0.9.2-py2.py3-none-any.whl (12 kB)\n",
            "Collecting adjustText\n",
            "  Downloading adjustText-0.7.3.tar.gz (7.5 kB)\n",
            "Requirement already satisfied: kiwisolver>=1.0.1 in /usr/local/lib/python3.7/dist-packages (from matplotlib->bioinfokit) (1.3.2)\n",
            "Requirement already satisfied: pyparsing!=2.0.4,!=2.1.2,!=2.1.6,>=2.0.1 in /usr/local/lib/python3.7/dist-packages (from matplotlib->bioinfokit) (3.0.6)\n",
            "Requirement already satisfied: python-dateutil>=2.1 in /usr/local/lib/python3.7/dist-packages (from matplotlib->bioinfokit) (2.8.2)\n",
            "Requirement already satisfied: cycler>=0.10 in /usr/local/lib/python3.7/dist-packages (from matplotlib->bioinfokit) (0.11.0)\n",
            "Requirement already satisfied: six>=1.5 in /usr/local/lib/python3.7/dist-packages (from python-dateutil>=2.1->matplotlib->bioinfokit) (1.15.0)\n",
            "Requirement already satisfied: pytz>=2017.2 in /usr/local/lib/python3.7/dist-packages (from pandas->bioinfokit) (2018.9)\n",
            "Requirement already satisfied: joblib>=0.11 in /usr/local/lib/python3.7/dist-packages (from scikit-learn->bioinfokit) (1.1.0)\n",
            "Requirement already satisfied: threadpoolctl>=2.0.0 in /usr/local/lib/python3.7/dist-packages (from scikit-learn->bioinfokit) (3.0.0)\n",
            "Requirement already satisfied: patsy>=0.4.0 in /usr/local/lib/python3.7/dist-packages (from statsmodels->bioinfokit) (0.5.2)\n",
            "Building wheels for collected packages: bioinfokit, adjustText\n",
            "  Building wheel for bioinfokit (setup.py) ... \u001b[?25l\u001b[?25hdone\n",
            "  Created wheel for bioinfokit: filename=bioinfokit-2.0.8-py3-none-any.whl size=56749 sha256=cc194031efe4aa97969ffff7b7d0ce21deefc976e090666650ace7f0acedba88\n",
            "  Stored in directory: /root/.cache/pip/wheels/0d/b0/a4/2be59655e33c889f2197d43e99ed077f05a6559e24ce28e21a\n",
            "  Building wheel for adjustText (setup.py) ... \u001b[?25l\u001b[?25hdone\n",
            "  Created wheel for adjustText: filename=adjustText-0.7.3-py3-none-any.whl size=7094 sha256=bbef6287b35e540ae7184e9109dec85d158074d7401795bfe64aec5172a55122\n",
            "  Stored in directory: /root/.cache/pip/wheels/2f/98/32/afbf902d8f040fadfdf0a44357e4ab750afe165d873bf5893d\n",
            "Successfully built bioinfokit adjustText\n",
            "Installing collected packages: textwrap3, adjustText, bioinfokit\n",
            "Successfully installed adjustText-0.7.3 bioinfokit-2.0.8 textwrap3-0.9.2\n"
          ]
        }
      ]
    },
    {
      "cell_type": "markdown",
      "metadata": {
        "id": "K1VMqkGvhc3-"
      },
      "source": [
        "## Importing the dataset"
      ]
    },
    {
      "cell_type": "code",
      "metadata": {
        "id": "M52QDmyzhh9s",
        "colab": {
          "resources": {
            "http://localhost:8080/nbextensions/google.colab/files.js": {
              "data": "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",
              "ok": true,
              "headers": [
                [
                  "content-type",
                  "application/javascript"
                ]
              ],
              "status": 200,
              "status_text": ""
            }
          },
          "base_uri": "https://localhost:8080/",
          "height": 511
        },
        "outputId": "683fe137-eda8-4862-96bc-4789f9fa0f44"
      },
      "source": [
        "from google.colab import files\n",
        "import io\n",
        "uploaded = files.upload()\n",
        "\n",
        "# dataset = pd.read_csv('PRES_plastic4-1.csv')\n",
        "dataset = pd.read_csv('Groundwater_3.csv')\n",
        "# PET\n",
        "# X = dataset.iloc[:-54, 2:4].values\n",
        "# y = dataset.iloc[:-54, 5].values\n",
        "\n",
        "# PE\n",
        "# X = dataset.iloc[15:-20, 2:5].values\n",
        "# X[:,1]=X[:,2]\n",
        "# X=X[:,:-1]\n",
        "# y = dataset.iloc[15:-20, 5].values\n",
        "\n",
        "\n",
        "\n",
        "# PP\n",
        "# X = dataset.iloc[50:, 2:5].values\n",
        "# X[:,1]=X[:,2]\n",
        "# X=np.delete(X,8,0)\n",
        "# X=X[:,:-1]\n",
        "# y = dataset.iloc[50:, 5].values\n",
        "# y=np.delete(y,8,0)\n",
        "X_c = dataset.iloc[0:300, 0:12].values\n",
        "\n",
        "# Demand=dataset.iloc[300:303,0:12].values\n",
        "Supply=dataset.iloc[300:305,0:12].values\n",
        "Demand=dataset.iloc[305:308,0:12].values\n",
        "print(Supply)\n",
        "print(Demand)\n",
        "\n",
        "# y_ori=dataset.iloc[:, 0].values\n",
        "\n",
        "\n",
        "# print(X_c)\n"
      ],
      "execution_count": null,
      "outputs": [
        {
          "output_type": "display_data",
          "data": {
            "text/html": [
              "\n",
              "     <input type=\"file\" id=\"files-bc982507-5fba-4545-a74f-8d05f2141a33\" name=\"files[]\" multiple disabled\n",
              "        style=\"border:none\" />\n",
              "     <output id=\"result-bc982507-5fba-4545-a74f-8d05f2141a33\">\n",
              "      Upload widget is only available when the cell has been executed in the\n",
              "      current browser session. Please rerun this cell to enable.\n",
              "      </output>\n",
              "      <script src=\"/nbextensions/google.colab/files.js\"></script> "
            ],
            "text/plain": [
              "<IPython.core.display.HTML object>"
            ]
          },
          "metadata": {}
        },
        {
          "output_type": "stream",
          "name": "stdout",
          "text": [
            "Saving Groundwater_3.csv to Groundwater_3.csv\n",
            "[[1.90305917e+03 3.11980487e+02 1.78997491e+02 1.01635286e+04\n",
            "  4.91059418e+02 7.03809241e+01 1.48788362e+02 8.15407588e+00\n",
            "  1.56285450e+02 1.62896995e+03 1.31141082e+01 7.77544550e+00]\n",
            " [1.28456189e+03 1.28299978e+02 8.12381676e+01 4.03921375e+03\n",
            "  2.64308986e+02 5.68135457e+01 8.25085721e+01 8.06032844e+00\n",
            "  1.38674051e+02 1.21632928e+03 1.10535944e+01 5.86874423e+00]\n",
            " [1.89518187e+03 2.54637068e+02 2.32458804e+02 6.97676816e+03\n",
            "  5.01585407e+02 6.88704723e+01 1.47802292e+02 8.11440709e+00\n",
            "  1.52467635e+02 2.80342265e+03 1.40112085e+01 7.56095448e+00]\n",
            " [2.15336716e+03 3.96216198e+02 5.71011932e+02 3.60806880e+03\n",
            "  9.69214775e+02 9.57725623e+01 1.54938902e+02 8.37771941e+00\n",
            "  2.46789939e+02 3.74895209e+03 1.72617436e+01 9.39704608e+00]\n",
            " [5.84493652e+02 2.78577154e+01 1.29661144e+01 8.89041667e+02\n",
            "  4.77443944e+01 2.53799993e+01 5.35722995e+01 7.52042816e+00\n",
            "  1.14854443e+02 7.00393335e+02 8.45096570e-01 8.72751628e-01]]\n",
            "[[5.66199553e+02 9.63182409e+00 5.90916956e+00 8.75788103e+02\n",
            "  5.59088821e+01 1.78660126e+01 3.96764177e+01 7.81694415e+00\n",
            "  1.27303587e+02 3.86843299e+02 1.75029977e-01 2.36587482e+00]\n",
            " [1.54294202e+03 1.10689165e+02 1.31032255e+02 1.35400058e+03\n",
            "  2.96901356e+02 3.70506975e+01 1.17273854e+02 8.11026127e+00\n",
            "  1.38183311e+02 1.40991631e+03 9.84819479e+00 3.68814453e+00]\n",
            " [2.34568173e+03 4.24489836e+02 5.45375662e+02 6.96978376e+03\n",
            "  1.08345700e+03 9.43153341e+01 1.51392442e+02 8.41761911e+00\n",
            "  2.11522779e+02 2.99919255e+03 1.78236961e+01 1.01108989e+01]]\n"
          ]
        }
      ]
    },
    {
      "cell_type": "markdown",
      "metadata": {
        "id": "kW3c7UYih0hT"
      },
      "source": [
        "## Feature Scaling"
      ]
    },
    {
      "cell_type": "code",
      "metadata": {
        "id": "9fQlDPKCh8sc",
        "colab": {
          "base_uri": "https://localhost:8080/"
        },
        "outputId": "a6d929a0-2572-4060-b2da-5ca6785db4a8"
      },
      "source": [
        "\n",
        "from sklearn.preprocessing import StandardScaler\n",
        "sc = StandardScaler()\n",
        "\n",
        "# sc.fit(X_c)\n",
        "# X_c=sc.transform(X_c)\n",
        "X_c=sc.fit_transform(X_c)\n",
        "Supply=sc.transform(Supply)\n",
        "Demand=sc.transform(Demand)\n",
        "\n",
        "# X_test_sc=sc.transform(X_test)\n",
        "\n",
        "print(X_c)\n",
        "# print(X_test_sc)"
      ],
      "execution_count": null,
      "outputs": [
        {
          "output_type": "stream",
          "name": "stdout",
          "text": [
            "[[ 0.91121869  1.46343753  0.8652601  ...  1.66841545  0.87174504\n",
            "   0.855433  ]\n",
            " [ 0.37048502 -0.79591918 -0.5957418  ... -0.49989962 -0.93273105\n",
            "  -1.06685552]\n",
            " [-1.39836614 -1.1346681  -0.96789098 ... -1.0262029  -1.32268235\n",
            "  -1.45452245]\n",
            " ...\n",
            " [ 1.05343957  1.59217518  1.25156603 ...  1.10950851  0.87358843\n",
            "   0.97780256]\n",
            " [ 0.9183777   1.53075027  1.620054   ...  1.32694032  0.97180036\n",
            "   0.91132638]\n",
            " [-1.80766118 -1.25125702 -0.98726203 ... -1.26130376 -1.33820428\n",
            "  -1.34586692]]\n"
          ]
        }
      ]
    },
    {
      "cell_type": "markdown",
      "metadata": {
        "id": "vWqvfmURuj1e"
      },
      "source": [
        "Custom Sampling (clean data)"
      ]
    },
    {
      "cell_type": "code",
      "metadata": {
        "id": "SpaXViRkujlB"
      },
      "source": [
        "from sklearn.preprocessing import StandardScaler\n",
        "from sklearn.neighbors import KNeighborsClassifier\n",
        "from imblearn.over_sampling import SMOTE\n",
        "\n",
        "# Scale Features\n",
        "scaler = StandardScaler()\n",
        "x_c_scaled = X_c\n",
        "\n",
        "\n",
        "# Fit KNN\n",
        "knn = KNeighborsClassifier(n_neighbors=5)\n",
        "knn.fit(x_c_scaled, y_train)\n",
        "preds = pd.DataFrame(knn.predict_proba(x_c_scaled))\n",
        "\n",
        "preds.columns = ['label_0', 'label_1','label_2','label_3','label_4']\n",
        "\n",
        "# Bind defaulted label proba to train dataset\n",
        "# print(preds.iloc[1,2])\n",
        "\n",
        "y_prob=np.zeros((len(y_train),1))\n",
        "for i in range(0,len(y_train)):\n",
        "  y_prob[i]=preds.iloc[i,int(y_train[i])-1]\n",
        "\n",
        "#print(y_prob)\n",
        "# X_train['knn_minority_class_proba'] = preds['label_1']\n",
        "\n",
        "x_c_filtered=np.zeros(X_c.shape)\n",
        "y_train_filtered=np.zeros(X_c.shape[0])\n",
        "\n",
        "for ii in range(0,len(y_train_filtered)):\n",
        "  if y_prob[ii]>=0.5:\n",
        "    x_c_filtered[ii,:] = X_c[ii,:]\n",
        "    y_train_filtered[ii] = y_train[ii]\n",
        "\n",
        "x_c_filtered=x_c_filtered[np.all(x_c_filtered != 0, axis=1), :]\n",
        "y_train_filtered=y_train_filtered[y_train_filtered >0]\n",
        "\n",
        "\n",
        "# Oversample using SMOTE\n",
        "sm = SMOTE(k_neighbors=1,random_state=40)\n",
        "X_c, y_train = sm.fit_resample(x_c_filtered, y_train_filtered)\n",
        "\n",
        "print(X_c)"
      ],
      "execution_count": null,
      "outputs": []
    },
    {
      "cell_type": "markdown",
      "metadata": {
        "id": "dPxZSlDxV6Em"
      },
      "source": [
        "Clustering"
      ]
    },
    {
      "cell_type": "code",
      "metadata": {
        "colab": {
          "base_uri": "https://localhost:8080/",
          "height": 295
        },
        "id": "oz1icyMFZjtp",
        "outputId": "38f89046-e54d-4c10-fe3d-30e07033d5e5"
      },
      "source": [
        "# Using the elbow method to find the optimal number of clusters\n",
        "\n",
        "\n",
        "\n",
        "\n",
        "#####X_c=X_train\n",
        "\n",
        "\n",
        "#X_c = sc.fit_transform(X_c)\n",
        "\n",
        "\n",
        "\n",
        "\n",
        "from sklearn.cluster import KMeans\n",
        "wcss = []\n",
        "for i in range(1, 11):\n",
        "    kmeans = KMeans(n_clusters = i, init = 'k-means++', random_state = 42)\n",
        "    kmeans.fit(X_c)\n",
        "    wcss.append(kmeans.inertia_)\n",
        "plt.plot(range(1, 11), wcss)\n",
        "plt.title('The Elbow Method')\n",
        "plt.xlabel('Number of clusters')\n",
        "plt.ylabel('WCSS')\n",
        "plt.show()"
      ],
      "execution_count": null,
      "outputs": [
        {
          "output_type": "display_data",
          "data": {
            "image/png": "[encoded data removed]",
            "text/plain": [
              "<Figure size 432x288 with 1 Axes>"
            ]
          },
          "metadata": {
            "needs_background": "light"
          }
        }
      ]
    },
    {
      "cell_type": "markdown",
      "metadata": {
        "id": "XTwif_avxmwi"
      },
      "source": [
        "**Applying PCA on data**"
      ]
    },
    {
      "cell_type": "code",
      "metadata": {
        "colab": {
          "base_uri": "https://localhost:8080/"
        },
        "id": "toTNVrklxm9x",
        "outputId": "22e4a1fe-8b16-4e52-de6c-b24604070582"
      },
      "source": [
        "from sklearn.decomposition import PCA\n",
        "\n",
        "pca = PCA(n_components = 2)    # Set to 7 for 90% variance\n",
        "X_c= pca.fit_transform(X_c)\n",
        "Supply=pca.transform(Supply)\n",
        "Demand=pca.transform(Demand)\n",
        "print(pca.explained_variance_ratio_)\n",
        "print(sum(pca.explained_variance_ratio_))\n",
        "\n",
        "\n",
        "\n",
        "# # loadings = pd.DataFrame(pca.components_.T, columns=['PC1', 'PC2'],\n",
        "# # #                                                    'PC7', 'PC8','PC9', 'PC10','PC11', 'PC12',\n",
        "# # #                                                    'PC13', 'PC14'],\n",
        "# #                          index=dataset.columns[2:])\n",
        "# # print(loadings)\n",
        "\n",
        "# Applying Kernel PCA\n",
        "# from sklearn.decomposition import KernelPCA\n",
        "# kpca = KernelPCA(n_components = 2, kernel = 'rbf')\n",
        "# X_c = kpca.fit_transform(X_c)\n",
        "\n",
        "# Supply=kpca.transform(Supply)\n",
        "# Demand=kpca.transform(Demand)\n",
        "\n",
        "# # X_test_kpca=kpca.transform(X_test_sc)\n",
        "\n",
        "# kpca_transform = kpca.fit_transform(X_c)\n",
        "# explained_variance = np.var(kpca_transform, axis=0)\n",
        "# ev = explained_variance / np.sum(explained_variance)\n",
        "# print(ev)\n",
        "# print(sum(ev))\n",
        "\n",
        "# print(X_test_kpca)\n",
        "\n"
      ],
      "execution_count": null,
      "outputs": [
        {
          "output_type": "stream",
          "name": "stdout",
          "text": [
            "[0.8553842  0.05830736]\n",
            "0.9136915593758765\n"
          ]
        }
      ]
    },
    {
      "cell_type": "code",
      "metadata": {
        "colab": {
          "base_uri": "https://localhost:8080/",
          "height": 353
        },
        "id": "Y7SccLzmZ6lZ",
        "outputId": "c2097d22-b4c6-4346-f49c-927b6aa0ae78"
      },
      "source": [
        "\n",
        "# Training the K-Means model on the dataset\n",
        "kmeans = KMeans(n_clusters = 4, init = 'k-means++', random_state = 42)\n",
        "y_kmeans = kmeans.fit_predict(X_c)\n",
        "Supply_kmeans=kmeans.predict(Supply)\n",
        "Demand_kmeans=kmeans.predict(Demand)\n",
        "#X_c = sc.inverse_transform(X_c)\n",
        "# kmeans.cluster_centers_ = sc.inverse_transform(kmeans.cluster_centers_)\n",
        "\n",
        "# Visualising the clusters\n",
        "from matplotlib.colors import ListedColormap\n",
        "X1, X2 = np.meshgrid(np.arange(start = X_c[:, 0].min()-0.01, stop = X_c[:, 0].max()+0.2, step = 0.05),\n",
        "                     np.arange(start = X_c[:, 1].min()-0.01, stop = X_c[:, 1].max()+0.2, step = 0.05))\n",
        "plt.contourf(X1, X2, kmeans.predict(np.array([X1.ravel(), X2.ravel()]).T).reshape(X1.shape),\n",
        "             alpha = 0.25, cmap = ListedColormap(('red', 'blue','green','magenta')))\n",
        "\n",
        "plt.scatter(X_c[y_kmeans == 0, 0], X_c[y_kmeans == 0, 1], s = 100, c = 'red', label = 'Cluster 1')\n",
        "plt.scatter(X_c[y_kmeans == 1, 0], X_c[y_kmeans == 1, 1], s = 100, c = 'blue', label = 'Cluster 2')\n",
        "plt.scatter(X_c[y_kmeans == 2, 0], X_c[y_kmeans == 2, 1], s = 100, c = 'green', label = 'Cluster 3')\n",
        "plt.scatter(X_c[y_kmeans == 3, 0], X_c[y_kmeans == 3, 1], s = 100, c = 'magenta', label = 'Cluster 4')\n",
        "# plt.scatter(X_c[y_kmeans == 4, 0], X_c[y_kmeans == 4, 1], s = 100, c = 'magenta', label = 'Cluster 5')\n",
        "\n",
        "plt.scatter(Supply[Supply_kmeans == 0, 0], Supply[Supply_kmeans == 0, 1], s = 100, c = 'cyan', label = 'Source')\n",
        "plt.scatter(Supply[Supply_kmeans == 1, 0], Supply[Supply_kmeans == 1, 1], s = 100, c = 'cyan', label = 'Source')\n",
        "plt.scatter(Supply[Supply_kmeans == 2, 0], Supply[Supply_kmeans == 2, 1], s = 100, c = 'cyan', label = 'Source')\n",
        "plt.scatter(Supply[Supply_kmeans == 3, 0], Supply[Supply_kmeans == 3, 1], s = 100, c = 'cyan', label = 'Source')\n",
        "plt.scatter(Demand[Demand_kmeans == 0, 0], Demand[Demand_kmeans == 0, 1], s = 100, c = 'brown', label = 'Demand')\n",
        "plt.scatter(Demand[Demand_kmeans == 1, 0], Demand[Demand_kmeans == 1, 1], s = 100, c = 'brown', label = 'Demand')\n",
        "plt.scatter(Demand[Demand_kmeans == 2, 0], Demand[Demand_kmeans == 2, 1], s = 100, c = 'brown', label = 'Demand')\n",
        "plt.scatter(Demand[Demand_kmeans == 3, 0], Demand[Demand_kmeans == 3, 1], s = 100, c = 'brown', label = 'Demand')\n",
        "# plt.scatter(kmeans.cluster_centers_[:, 0], kmeans.cluster_centers_[:, 1], s = 300, c = 'yellow', label = 'Centroids')\n",
        "# plt.title('Clusters of plastic waste')\n",
        "plt.xlabel('PC1')\n",
        "plt.ylabel('PC2 ')\n",
        "# plt.legend()\n",
        "# plt.show()\n",
        "print(X_c.shape)\n",
        "# Evaluation\n",
        "from sklearn import metrics\n",
        "from sklearn.metrics import pairwise_distances\n",
        "from sklearn.metrics import davies_bouldin_score\n",
        "\n",
        "labels = kmeans.labels_\n",
        "print(metrics.silhouette_score(X_c, labels, metric='euclidean'))\n",
        "print(davies_bouldin_score(X_c, labels))\n",
        "print(metrics.calinski_harabasz_score(X_c, labels))"
      ],
      "execution_count": null,
      "outputs": [
        {
          "output_type": "stream",
          "name": "stdout",
          "text": [
            "(300, 2)\n",
            "0.7758395297282114\n",
            "0.3173482616532517\n",
            "3301.943488370387\n"
          ]
        },
        {
          "output_type": "display_data",
          "data": {
            "image/png": "[encoded data removed]",
            "text/plain": [
              "<Figure size 432x288 with 1 Axes>"
            ]
          },
          "metadata": {
            "needs_background": "light"
          }
        }
      ]
    },
    {
      "cell_type": "code",
      "metadata": {
        "colab": {
          "base_uri": "https://localhost:8080/",
          "height": 295
        },
        "id": "cKcAzk37V_fw",
        "outputId": "1106b420-e05e-4534-d530-cf2430768c5b"
      },
      "source": [
        "import scipy.cluster.hierarchy as sch\n",
        "#X_c = sc.fit_transform(X_c)\n",
        "\n",
        "dendrogram = sch.dendrogram(sch.linkage(X_c, method = 'ward'))\n",
        "plt.title('Dendrogram')\n",
        "plt.xlabel('Data')\n",
        "plt.ylabel('Euclidean distances')\n",
        "plt.show()"
      ],
      "execution_count": null,
      "outputs": [
        {
          "output_type": "display_data",
          "data": {
            "image/png": "[encoded data removed]",
            "text/plain": [
              "<Figure size 432x288 with 1 Axes>"
            ]
          },
          "metadata": {
            "needs_background": "light"
          }
        }
      ]
    },
    {
      "cell_type": "code",
      "metadata": {
        "id": "y36oQiqOWMlY",
        "colab": {
          "base_uri": "https://localhost:8080/"
        },
        "outputId": "ed1ec86f-7d35-4bd5-efd1-128183a926c5"
      },
      "source": [
        "# Training the Hierarchical Clustering model on the dataset\n",
        "from sklearn.cluster import AgglomerativeClustering\n",
        "\n",
        "hc = AgglomerativeClustering(n_clusters =4, affinity = 'euclidean', linkage = 'ward')\n",
        "y_hc = hc.fit_predict(X_c)\n",
        "#X_c = sc.inverse_transform(X_c)\n",
        "\n",
        "\n",
        "\n",
        "# Evaluation\n",
        "print(metrics.silhouette_score(X_c, y_hc, metric='euclidean'))\n",
        "print(davies_bouldin_score(X_c, y_hc))\n",
        "print(metrics.calinski_harabasz_score(X_c, y_hc))"
      ],
      "execution_count": null,
      "outputs": [
        {
          "output_type": "stream",
          "name": "stdout",
          "text": [
            "0.7758395297282114\n",
            "0.3173482616532517\n",
            "3301.943488370387\n"
          ]
        }
      ]
    },
    {
      "cell_type": "code",
      "metadata": {
        "colab": {
          "base_uri": "https://localhost:8080/"
        },
        "id": "hErC_fb2fvSd",
        "outputId": "c67b6496-d77f-4160-be16-c34d71fd435f"
      },
      "source": [
        "# Fit KNN\n",
        "from sklearn.neighbors import KNeighborsClassifier\n",
        "knn = KNeighborsClassifier(n_neighbors=3)\n",
        "knn.fit(X_c, y_hc)\n",
        "\n",
        "y_supply=knn.predict(Supply)\n",
        "y_demand=knn.predict(Demand)\n",
        "\n",
        "preds_supply = pd.DataFrame(knn.predict_proba(Supply))\n",
        "\n",
        "preds_demand = pd.DataFrame(knn.predict_proba(Demand))\n",
        "\n",
        "preds_supply.columns = ['label_0', 'label_1','label_2','label_3']\n",
        "preds_demand.columns = ['label_0', 'label_1','label_2','label_3']\n",
        "\n",
        "print(preds_supply)\n",
        "print(preds_demand)"
      ],
      "execution_count": null,
      "outputs": [
        {
          "output_type": "stream",
          "name": "stdout",
          "text": [
            "   label_0  label_1  label_2  label_3\n",
            "0      0.0      0.0      1.0      0.0\n",
            "1      0.0      1.0      0.0      0.0\n",
            "2      0.0      0.0      1.0      0.0\n",
            "3      1.0      0.0      0.0      0.0\n",
            "4      0.0      0.0      0.0      1.0\n",
            "   label_0  label_1  label_2  label_3\n",
            "0      0.0      0.0      0.0      1.0\n",
            "1      0.0      1.0      0.0      0.0\n",
            "2      1.0      0.0      0.0      0.0\n"
          ]
        }
      ]
    },
    {
      "cell_type": "code",
      "metadata": {
        "colab": {
          "base_uri": "https://localhost:8080/",
          "height": 280
        },
        "id": "QZlNCFSHWYFI",
        "outputId": "ffddb117-9657-4535-cc2d-bf4a235400ee"
      },
      "source": [
        "# Visualising the clusters\n",
        "from sklearn.neighbors import KNeighborsClassifier\n",
        "knn = KNeighborsClassifier(n_neighbors=3)\n",
        "knn.fit(X_c, y_hc)\n",
        "\n",
        "X1, X2 = np.meshgrid(np.arange(start = X_c[:, 0].min()-0.01, stop = X_c[:, 0].max()+0.2, step = 0.05),\n",
        "                     np.arange(start = X_c[:, 1].min()-0.01, stop = X_c[:, 1].max()+0.2, step = 0.05))\n",
        "plt.contourf(X1, X2, knn.predict(np.array([X1.ravel(), X2.ravel()]).T).reshape(X1.shape),\n",
        "             alpha = 0.25, cmap = ListedColormap(('red', 'blue','green','magenta')))\n",
        "\n",
        "plt.scatter(X_c[y_hc == 0, 0], X_c[y_hc == 0, 1], s = 100, c = 'red', label = 'Cluster 1')\n",
        "plt.scatter(X_c[y_hc == 1, 0], X_c[y_hc == 1, 1], s = 100, c = 'blue', label = 'Cluster 2')\n",
        "plt.scatter(X_c[y_hc == 2, 0], X_c[y_hc == 2, 1], s = 100, c = 'green', label = 'Cluster 3')\n",
        "plt.scatter(X_c[y_hc == 3, 0], X_c[y_hc == 3, 1], s = 100, c = 'magenta', label = 'Cluster 4')\n",
        "# plt.scatter(X_c[y_hc == 4, 0], X_c[y_hc == 4, 1], s = 100, c = 'magenta', label = 'Cluster 5')\n",
        "\n",
        "plt.scatter(Supply[y_supply == 0, 0], Supply[y_supply == 0, 1], s = 100, c = 'cyan', label = 'Source')\n",
        "plt.scatter(Supply[y_supply == 1, 0], Supply[y_supply == 1, 1], s = 100, c = 'cyan', label = 'Source')\n",
        "plt.scatter(Supply[y_supply == 2, 0], Supply[y_supply == 2, 1], s = 100, c = 'cyan', label = 'Source')\n",
        "plt.scatter(Supply[y_supply == 3, 0], Supply[y_supply == 3, 1], s = 100, c = 'cyan', label = 'Source')\n",
        "plt.scatter(Demand[y_demand == 0, 0], Demand[y_demand == 0, 1], s = 100, c = 'brown', label = 'Demand')\n",
        "plt.scatter(Demand[y_demand == 1, 0], Demand[y_demand == 1, 1], s = 100, c = 'brown', label = 'Demand')\n",
        "plt.scatter(Demand[y_demand == 2, 0], Demand[y_demand== 2, 1], s = 100, c = 'brown', label = 'Demand')\n",
        "plt.scatter(Demand[y_demand == 3, 0], Demand[y_demand== 3, 1], s = 100, c = 'brown', label = 'Demand')\n",
        "plt.scatter(X_c[y_hc == 4, 0], X_c[y_hc == 4, 1], s = 100, c = 'magenta', label = 'Cluster 5')\n",
        "# plt.title('Clusters of plastic waste')\n",
        "plt.xlabel('PC1')\n",
        "plt.ylabel('PC2')\n",
        "# plt.legend()\n",
        "plt.show()"
      ],
      "execution_count": null,
      "outputs": [
        {
          "output_type": "display_data",
          "data": {
            "image/png": "[encoded data removed]",
            "text/plain": [
              "<Figure size 432x288 with 1 Axes>"
            ]
          },
          "metadata": {
            "needs_background": "light"
          }
        }
      ]
    },
    {
      "cell_type": "markdown",
      "metadata": {
        "id": "CfwOYFq9QZeD"
      },
      "source": [
        "**DBSCAN**"
      ]
    },
    {
      "cell_type": "code",
      "metadata": {
        "colab": {
          "base_uri": "https://localhost:8080/"
        },
        "id": "3ZuXNtvwL-EW",
        "outputId": "769dbf32-16cc-4dc5-de37-e0d8b32f97eb"
      },
      "source": [
        "i=np.identity(dataset.shape[1]-2)\n",
        "print(pca.transform(i))"
      ],
      "execution_count": null,
      "outputs": [
        {
          "output_type": "stream",
          "name": "stdout",
          "text": [
            "[[ 0.24047763  0.12585364]\n",
            " [ 0.1915152   0.38887186]\n",
            " [ 0.25987549 -0.02594473]\n",
            " [ 0.22735792  0.30938942]\n",
            " [ 0.29270299  0.12400405]\n",
            " [ 0.27455235 -0.11356291]\n",
            " [ 0.18191918 -0.04044776]\n",
            " [ 0.09498813 -0.05360648]\n",
            " [ 0.25988127 -0.04787519]\n",
            " [ 0.26716293 -0.03215638]\n",
            " [ 0.20028072  0.36740759]\n",
            " [ 0.21979492  0.33937065]\n",
            " [ 0.19512607 -0.28386288]\n",
            " [ 0.15585633  0.27225593]\n",
            " [ 0.16509275 -0.11903487]\n",
            " [-0.21263366  0.16336045]\n",
            " [ 0.09070376 -0.19443126]\n",
            " [ 0.19044967 -0.0882263 ]\n",
            " [ 0.21966761 -0.14127231]\n",
            " [ 0.24482695 -0.31879575]\n",
            " [ 0.26121121 -0.29587361]]\n"
          ]
        }
      ]
    },
    {
      "cell_type": "code",
      "metadata": {
        "colab": {
          "base_uri": "https://localhost:8080/"
        },
        "id": "rS4jW3FRQfWx",
        "outputId": "d5e09ba8-c01d-4ead-afb8-e041167848e5"
      },
      "source": [
        "from sklearn.cluster import DBSCAN\n",
        "#X_c = sc.fit_transform(X_c)\n",
        "db = DBSCAN(eps=0.17, min_samples=30).fit(X_c)\n",
        "labels = db.labels_\n",
        "print(labels)\n",
        "print(\"Silhouette Coefficient: %0.3f\" % metrics.silhouette_score(X_c, labels))"
      ],
      "execution_count": null,
      "outputs": [
        {
          "output_type": "stream",
          "name": "stdout",
          "text": [
            "[ 0  0  0  0  0  0  0  0  0 -1  0  0  0  0  0  0  0  0 -1  0  0  0  0  0\n",
            "  0  0  0  0 -1  0  0  0  0  0  0  0  0  0  0  0  0  0  0  0  0  0  0  0\n",
            "  0  0  0  0  0  0  0  0  0  0  0  0  0  0  0  0  0  0  0  0  0  0  0  0\n",
            "  0  0  0  0  0  0  0  0  0  0  0  0  0  0  0  0  0  0  0  0  0  0  0  0\n",
            "  0  0  0  0  0  0  0  0  0  0  0  0  0  0  0  0  0  0  0  0  0  0  0  0\n",
            "  0  0  0  0  0  0  0  0  0  0  0 -1  0  0  0  0  0  0  0  0  0  0  0  0\n",
            "  0  0  0  0  0  0  0  0  0  0  0  0  0  0  0  0  0  0  0  0  0  0  0  0\n",
            "  0  0  0  0  0  0  0  0  0  0  0  0  0  0  0  0  0  0  0  0  0  0  0  0\n",
            "  0  0  0  0  0  0  0  0  0  0  0  0  0  0  0  0  0  0  0  0  0  0  0  0\n",
            "  0  0  0  0  0  0  0  0  0  0  0  0  0  0  0  0  0  0  0  0  0  0  0  0\n",
            "  0  0  0  0  0  0  0  0  0  0  0  0  0  0  0 -1  0  0  0  0  0  0  0  0\n",
            "  0  0  0  0  0  0  0  0  0  0  0  0  0  0  0  0  0  0  0  0  0  0  0  0\n",
            "  0 -1  0  0  0  0  0  0  0  0  0]\n",
            "Silhouette Coefficient: 0.361\n"
          ]
        }
      ]
    },
    {
      "cell_type": "code",
      "metadata": {
        "colab": {
          "base_uri": "https://localhost:8080/"
        },
        "id": "-qWWC8clW9Cl",
        "outputId": "bf6c5d90-ae92-4d8e-e27f-56e234d02bbd"
      },
      "source": [
        "from sklearn.cluster import AffinityPropagation\n",
        "# Compute Affinity Propagation\n",
        "af = AffinityPropagation(preference=-0.375, random_state=30,affinity='euclidean').fit(X_c)\n",
        "cluster_centers_indices = af.cluster_centers_indices_\n",
        "labels = af.labels_\n",
        "\n",
        "n_clusters_ = len(cluster_centers_indices)\n",
        "print(labels)\n",
        "\n",
        "print(\"Estimated number of clusters: %d\" % n_clusters_)\n",
        "print(\n",
        "    \"Silhouette Coefficient: %0.3f\"\n",
        "    % metrics.silhouette_score(X_c, labels, metric=\"sqeuclidean\")\n",
        ")"
      ],
      "execution_count": null,
      "outputs": [
        {
          "output_type": "stream",
          "name": "stdout",
          "text": [
            "[8 8 1 6 5 7 0 8 3 5 0 0 9 3 0 3 5 9 4 1 3 8 5 3 9 2 6 6 3 6 0 3 9 0 2 8 8\n",
            " 3 1 4 8 8 3 5 6 7 1 5 7 9 9 6 0 9 9 0 2 1 0 3 5 4 3 6 0 9 5 1 1 6 2 5 1 0\n",
            " 1 7 7 8 8 8 9 9 9 2 2 8 8 1 2 8 8 8 7 5 3 5 7 0 4 2 3 3 3 2 9 7 8 6 2 2 2\n",
            " 0 7 8 9 8 8 8 2 3 5 5 1 1 7 8 7 1 0 7 3 4 2 5 2 2 6 2 4 7 8 0 0 9 0 6 8 5\n",
            " 2 2 2 3 9 0 8 5 0 9 0 7 7 9 9 0 3 8 2 9 5 3 9 9 7 2 8 0 0 8 1 2 0 6 9 6 0\n",
            " 2 8 6 0 3 1 0 4 6 6 2 2 2 2 8 6 2 1 3 6 9 8 0 5 2 0 2 6 9 3 6 9 2 3 0 7 4\n",
            " 6 1 9 3 9 9 8 1 0 3 5 1 8 1 9 9 9 2 4 9 0 8 8 0 5 7 8 6 0 8 5 9 0 4 4 8 8\n",
            " 6 9 4 9 8 8 2 4 7 5 8 9 8 8 6 0 9 2 2 2 1 7 0 7 5 0 2 1 0 9 4 2 8 9 9 7 8\n",
            " 9 6 9]\n",
            "Estimated number of clusters: 10\n",
            "Silhouette Coefficient: 0.460\n"
          ]
        }
      ]
    },
    {
      "cell_type": "markdown",
      "source": [
        "Decision Tree"
      ],
      "metadata": {
        "id": "ayoKIiLff52P"
      }
    },
    {
      "cell_type": "code",
      "source": [
        "#graph.render(\"iris\") \n",
        "features=['PC1','PC2']\n",
        "# features=['pH','DO','BOD','COD','Perm','SS','NH3','Nitrates','Chlorides','Fe','Mang','AB','CCL']\n",
        "classes=['1','2','3','4']\n",
        "\n",
        "from sklearn.model_selection import train_test_split\n",
        "# X_train, X_test, y_train, y_test = train_test_split(X_c, y_ori, test_size = 0.3, random_state = 10) \n",
        "X_train, X_test, y_train, y_test = train_test_split(X_c, y_hc, test_size = 0.3, random_state = 10) \n",
        "\n",
        "from sklearn.tree import DecisionTreeClassifier\n",
        "from sklearn.tree import export_text\n",
        "from sklearn import tree\n",
        "classifier = DecisionTreeClassifier(criterion = 'entropy', random_state = 25,max_features=2,max_depth=2) #PE Random_state = 25,  #PP Random_state = 0. #PET Random_state=25\n",
        "classifier.fit(X_train, y_train)\n",
        "# classifier.fit(X_c, y_kmeans)\n",
        "#tree.plot_tree(classifier)\n",
        "\n",
        "r=export_text(classifier,feature_names=features)\n",
        "print(r)\n",
        "\n",
        "\n",
        "\n",
        "\n",
        "import graphviz \n",
        "dot_data = tree.export_graphviz(classifier, out_file=None, \n",
        "                     feature_names=features,  \n",
        "                      class_names=classes,  \n",
        "                      filled=True, rounded=True,  \n",
        "                     special_characters=True)  \n",
        "graph = graphviz.Source(dot_data) \n",
        "graph"
      ],
      "metadata": {
        "colab": {
          "base_uri": "https://localhost:8080/",
          "height": 640
        },
        "id": "ptuYmI3rf5Rw",
        "outputId": "661d5a71-496d-4353-a124-bb9d60558109"
      },
      "execution_count": null,
      "outputs": [
        {
          "output_type": "stream",
          "name": "stdout",
          "text": [
            "|--- PC1 <= 0.12\n",
            "|   |--- PC1 <= -3.09\n",
            "|   |   |--- class: 3\n",
            "|   |--- PC1 >  -3.09\n",
            "|   |   |--- class: 1\n",
            "|--- PC1 >  0.12\n",
            "|   |--- PC1 <= 2.52\n",
            "|   |   |--- class: 2\n",
            "|   |--- PC1 >  2.52\n",
            "|   |   |--- class: 0\n",
            "\n"
          ]
        },
        {
          "output_type": "execute_result",
          "data": {
            "text/plain": [
              "<graphviz.files.Source at 0x7f14e7d2cf10>"
            ],
            "image/svg+xml": "<?xml version=\"1.0\" encoding=\"UTF-8\" standalone=\"no\"?>\n<!DOCTYPE svg PUBLIC \"-//W3C//DTD SVG 1.1//EN\"\n \"http://www.w3.org/Graphics/SVG/1.1/DTD/svg11.dtd\">\n<!-- Generated by graphviz version 2.40.1 (20161225.0304)\n -->\n<!-- Title: Tree Pages: 1 -->\n<svg width=\"622pt\" height=\"314pt\"\n viewBox=\"0.00 0.00 622.00 314.00\" xmlns=\"http://www.w3.org/2000/svg\" xmlns:xlink=\"http://www.w3.org/1999/xlink\">\n<g id=\"graph0\" class=\"graph\" transform=\"scale(1 1) rotate(0) translate(4 310)\">\n<title>Tree</title>\n<polygon fill=\"#ffffff\" stroke=\"transparent\" points=\"-4,4 -4,-310 618,-310 618,4 -4,4\"/>\n<!-- 0 -->\n<g id=\"node1\" class=\"node\">\n<title>0</title>\n<path fill=\"#fdf5f0\" stroke=\"#000000\" d=\"M376.5,-306C376.5,-306 236.5,-306 236.5,-306 230.5,-306 224.5,-300 224.5,-294 224.5,-294 224.5,-235 224.5,-235 224.5,-229 230.5,-223 236.5,-223 236.5,-223 376.5,-223 376.5,-223 382.5,-223 388.5,-229 388.5,-235 388.5,-235 388.5,-294 388.5,-294 388.5,-300 382.5,-306 376.5,-306\"/>\n<text text-anchor=\"start\" x=\"266\" y=\"-290.8\" font-family=\"Helvetica,sans-Serif\" font-size=\"14.00\" fill=\"#000000\">PC1 ≤ 0.118</text>\n<text text-anchor=\"start\" x=\"255.5\" y=\"-275.8\" font-family=\"Helvetica,sans-Serif\" font-size=\"14.00\" fill=\"#000000\">entropy = 1.988</text>\n<text text-anchor=\"start\" x=\"258.5\" y=\"-260.8\" font-family=\"Helvetica,sans-Serif\" font-size=\"14.00\" fill=\"#000000\">samples = 210</text>\n<text text-anchor=\"start\" x=\"232.5\" y=\"-245.8\" font-family=\"Helvetica,sans-Serif\" font-size=\"14.00\" fill=\"#000000\">value = [64, 47, 47, 52]</text>\n<text text-anchor=\"start\" x=\"277.5\" y=\"-230.8\" font-family=\"Helvetica,sans-Serif\" font-size=\"14.00\" fill=\"#000000\">class = 1</text>\n</g>\n<!-- 1 -->\n<g id=\"node2\" class=\"node\">\n<title>1</title>\n<path fill=\"#fbecfc\" stroke=\"#000000\" d=\"M286,-187C286,-187 163,-187 163,-187 157,-187 151,-181 151,-175 151,-175 151,-116 151,-116 151,-110 157,-104 163,-104 163,-104 286,-104 286,-104 292,-104 298,-110 298,-116 298,-116 298,-175 298,-175 298,-181 292,-187 286,-187\"/>\n<text text-anchor=\"start\" x=\"182\" y=\"-171.8\" font-family=\"Helvetica,sans-Serif\" font-size=\"14.00\" fill=\"#000000\">PC1 ≤ &#45;3.094</text>\n<text text-anchor=\"start\" x=\"173.5\" y=\"-156.8\" font-family=\"Helvetica,sans-Serif\" font-size=\"14.00\" fill=\"#000000\">entropy = 0.998</text>\n<text text-anchor=\"start\" x=\"180.5\" y=\"-141.8\" font-family=\"Helvetica,sans-Serif\" font-size=\"14.00\" fill=\"#000000\">samples = 99</text>\n<text text-anchor=\"start\" x=\"159\" y=\"-126.8\" font-family=\"Helvetica,sans-Serif\" font-size=\"14.00\" fill=\"#000000\">value = [0, 47, 0, 52]</text>\n<text text-anchor=\"start\" x=\"195.5\" y=\"-111.8\" font-family=\"Helvetica,sans-Serif\" font-size=\"14.00\" fill=\"#000000\">class = 4</text>\n</g>\n<!-- 0&#45;&gt;1 -->\n<g id=\"edge1\" class=\"edge\">\n<title>0&#45;&gt;1</title>\n<path fill=\"none\" stroke=\"#000000\" d=\"M277.8204,-222.8796C271.7385,-214.0534 265.2578,-204.6485 258.9859,-195.5466\"/>\n<polygon fill=\"#000000\" stroke=\"#000000\" points=\"261.8582,-193.5465 253.302,-187.2981 256.0941,-197.5184 261.8582,-193.5465\"/>\n<text text-anchor=\"middle\" x=\"248.7761\" y=\"-208.185\" font-family=\"Helvetica,sans-Serif\" font-size=\"14.00\" fill=\"#000000\">True</text>\n</g>\n<!-- 4 -->\n<g id=\"node5\" class=\"node\">\n<title>4</title>\n<path fill=\"#f8deca\" stroke=\"#000000\" d=\"M451,-187C451,-187 328,-187 328,-187 322,-187 316,-181 316,-175 316,-175 316,-116 316,-116 316,-110 322,-104 328,-104 328,-104 451,-104 451,-104 457,-104 463,-110 463,-116 463,-116 463,-175 463,-175 463,-181 457,-187 451,-187\"/>\n<text text-anchor=\"start\" x=\"349\" y=\"-171.8\" font-family=\"Helvetica,sans-Serif\" font-size=\"14.00\" fill=\"#000000\">PC1 ≤ 2.521</text>\n<text text-anchor=\"start\" x=\"338.5\" y=\"-156.8\" font-family=\"Helvetica,sans-Serif\" font-size=\"14.00\" fill=\"#000000\">entropy = 0.983</text>\n<text text-anchor=\"start\" x=\"341.5\" y=\"-141.8\" font-family=\"Helvetica,sans-Serif\" font-size=\"14.00\" fill=\"#000000\">samples = 111</text>\n<text text-anchor=\"start\" x=\"324\" y=\"-126.8\" font-family=\"Helvetica,sans-Serif\" font-size=\"14.00\" fill=\"#000000\">value = [64, 0, 47, 0]</text>\n<text text-anchor=\"start\" x=\"360.5\" y=\"-111.8\" font-family=\"Helvetica,sans-Serif\" font-size=\"14.00\" fill=\"#000000\">class = 1</text>\n</g>\n<!-- 0&#45;&gt;4 -->\n<g id=\"edge4\" class=\"edge\">\n<title>0&#45;&gt;4</title>\n<path fill=\"none\" stroke=\"#000000\" d=\"M335.5294,-222.8796C341.6855,-214.0534 348.2451,-204.6485 354.5936,-195.5466\"/>\n<polygon fill=\"#000000\" stroke=\"#000000\" points=\"357.4967,-197.5024 360.3467,-187.2981 351.7552,-193.4978 357.4967,-197.5024\"/>\n<text text-anchor=\"middle\" x=\"364.7331\" y=\"-208.2103\" font-family=\"Helvetica,sans-Serif\" font-size=\"14.00\" fill=\"#000000\">False</text>\n</g>\n<!-- 2 -->\n<g id=\"node3\" class=\"node\">\n<title>2</title>\n<path fill=\"#d739e5\" stroke=\"#000000\" d=\"M127,-68C127,-68 12,-68 12,-68 6,-68 0,-62 0,-56 0,-56 0,-12 0,-12 0,-6 6,0 12,0 12,0 127,0 127,0 133,0 139,-6 139,-12 139,-12 139,-56 139,-56 139,-62 133,-68 127,-68\"/>\n<text text-anchor=\"start\" x=\"27\" y=\"-52.8\" font-family=\"Helvetica,sans-Serif\" font-size=\"14.00\" fill=\"#000000\">entropy = 0.0</text>\n<text text-anchor=\"start\" x=\"25.5\" y=\"-37.8\" font-family=\"Helvetica,sans-Serif\" font-size=\"14.00\" fill=\"#000000\">samples = 52</text>\n<text text-anchor=\"start\" x=\"8\" y=\"-22.8\" font-family=\"Helvetica,sans-Serif\" font-size=\"14.00\" fill=\"#000000\">value = [0, 0, 0, 52]</text>\n<text text-anchor=\"start\" x=\"40.5\" y=\"-7.8\" font-family=\"Helvetica,sans-Serif\" font-size=\"14.00\" fill=\"#000000\">class = 4</text>\n</g>\n<!-- 1&#45;&gt;2 -->\n<g id=\"edge2\" class=\"edge\">\n<title>1&#45;&gt;2</title>\n<path fill=\"none\" stroke=\"#000000\" d=\"M166.7837,-103.9815C153.2409,-94.2394 138.8343,-83.8759 125.3737,-74.193\"/>\n<polygon fill=\"#000000\" stroke=\"#000000\" points=\"127.2928,-71.2621 117.1311,-68.2637 123.2051,-76.9446 127.2928,-71.2621\"/>\n</g>\n<!-- 3 -->\n<g id=\"node4\" class=\"node\">\n<title>3</title>\n<path fill=\"#47e539\" stroke=\"#000000\" d=\"M284,-68C284,-68 169,-68 169,-68 163,-68 157,-62 157,-56 157,-56 157,-12 157,-12 157,-6 163,0 169,0 169,0 284,0 284,0 290,0 296,-6 296,-12 296,-12 296,-56 296,-56 296,-62 290,-68 284,-68\"/>\n<text text-anchor=\"start\" x=\"184\" y=\"-52.8\" font-family=\"Helvetica,sans-Serif\" font-size=\"14.00\" fill=\"#000000\">entropy = 0.0</text>\n<text text-anchor=\"start\" x=\"182.5\" y=\"-37.8\" font-family=\"Helvetica,sans-Serif\" font-size=\"14.00\" fill=\"#000000\">samples = 47</text>\n<text text-anchor=\"start\" x=\"165\" y=\"-22.8\" font-family=\"Helvetica,sans-Serif\" font-size=\"14.00\" fill=\"#000000\">value = [0, 47, 0, 0]</text>\n<text text-anchor=\"start\" x=\"197.5\" y=\"-7.8\" font-family=\"Helvetica,sans-Serif\" font-size=\"14.00\" fill=\"#000000\">class = 2</text>\n</g>\n<!-- 1&#45;&gt;3 -->\n<g id=\"edge3\" class=\"edge\">\n<title>1&#45;&gt;3</title>\n<path fill=\"none\" stroke=\"#000000\" d=\"M225.2447,-103.9815C225.3947,-95.618 225.553,-86.7965 225.7046,-78.3409\"/>\n<polygon fill=\"#000000\" stroke=\"#000000\" points=\"229.2054,-78.3249 225.8854,-68.2637 222.2065,-78.1993 229.2054,-78.3249\"/>\n</g>\n<!-- 5 -->\n<g id=\"node6\" class=\"node\">\n<title>5</title>\n<path fill=\"#399de5\" stroke=\"#000000\" d=\"M445,-68C445,-68 330,-68 330,-68 324,-68 318,-62 318,-56 318,-56 318,-12 318,-12 318,-6 324,0 330,0 330,0 445,0 445,0 451,0 457,-6 457,-12 457,-12 457,-56 457,-56 457,-62 451,-68 445,-68\"/>\n<text text-anchor=\"start\" x=\"345\" y=\"-52.8\" font-family=\"Helvetica,sans-Serif\" font-size=\"14.00\" fill=\"#000000\">entropy = 0.0</text>\n<text text-anchor=\"start\" x=\"343.5\" y=\"-37.8\" font-family=\"Helvetica,sans-Serif\" font-size=\"14.00\" fill=\"#000000\">samples = 47</text>\n<text text-anchor=\"start\" x=\"326\" y=\"-22.8\" font-family=\"Helvetica,sans-Serif\" font-size=\"14.00\" fill=\"#000000\">value = [0, 0, 47, 0]</text>\n<text text-anchor=\"start\" x=\"358.5\" y=\"-7.8\" font-family=\"Helvetica,sans-Serif\" font-size=\"14.00\" fill=\"#000000\">class = 3</text>\n</g>\n<!-- 4&#45;&gt;5 -->\n<g id=\"edge5\" class=\"edge\">\n<title>4&#45;&gt;5</title>\n<path fill=\"none\" stroke=\"#000000\" d=\"M388.7553,-103.9815C388.6053,-95.618 388.447,-86.7965 388.2954,-78.3409\"/>\n<polygon fill=\"#000000\" stroke=\"#000000\" points=\"391.7935,-78.1993 388.1146,-68.2637 384.7946,-78.3249 391.7935,-78.1993\"/>\n</g>\n<!-- 6 -->\n<g id=\"node7\" class=\"node\">\n<title>6</title>\n<path fill=\"#e58139\" stroke=\"#000000\" d=\"M602,-68C602,-68 487,-68 487,-68 481,-68 475,-62 475,-56 475,-56 475,-12 475,-12 475,-6 481,0 487,0 487,0 602,0 602,0 608,0 614,-6 614,-12 614,-12 614,-56 614,-56 614,-62 608,-68 602,-68\"/>\n<text text-anchor=\"start\" x=\"502\" y=\"-52.8\" font-family=\"Helvetica,sans-Serif\" font-size=\"14.00\" fill=\"#000000\">entropy = 0.0</text>\n<text text-anchor=\"start\" x=\"500.5\" y=\"-37.8\" font-family=\"Helvetica,sans-Serif\" font-size=\"14.00\" fill=\"#000000\">samples = 64</text>\n<text text-anchor=\"start\" x=\"483\" y=\"-22.8\" font-family=\"Helvetica,sans-Serif\" font-size=\"14.00\" fill=\"#000000\">value = [64, 0, 0, 0]</text>\n<text text-anchor=\"start\" x=\"515.5\" y=\"-7.8\" font-family=\"Helvetica,sans-Serif\" font-size=\"14.00\" fill=\"#000000\">class = 1</text>\n</g>\n<!-- 4&#45;&gt;6 -->\n<g id=\"edge6\" class=\"edge\">\n<title>4&#45;&gt;6</title>\n<path fill=\"none\" stroke=\"#000000\" d=\"M447.2163,-103.9815C460.7591,-94.2394 475.1657,-83.8759 488.6263,-74.193\"/>\n<polygon fill=\"#000000\" stroke=\"#000000\" points=\"490.7949,-76.9446 496.8689,-68.2637 486.7072,-71.2621 490.7949,-76.9446\"/>\n</g>\n</g>\n</svg>\n"
          },
          "metadata": {},
          "execution_count": 14
        }
      ]
    },
    {
      "cell_type": "code",
      "source": [
        "# Training the Random Forest Classification model on the Training set\n",
        "from sklearn.ensemble import RandomForestClassifier\n",
        "classifier2 = RandomForestClassifier(n_estimators = 50, criterion = 'entropy', random_state = 0,max_features=2,max_depth=2)\n",
        "classifier2.fit(X_train, y_train)\n",
        "estimator=classifier2.estimators_[5]\n",
        "\n",
        "dot_data2 = tree.export_graphviz(estimator, out_file=None, \n",
        "                     feature_names=features,  \n",
        "                      class_names=classes,  \n",
        "                      filled=True, rounded=True,  \n",
        "                     special_characters=True)  \n",
        "graph2 = graphviz.Source(dot_data2) \n",
        "graph2"
      ],
      "metadata": {
        "colab": {
          "base_uri": "https://localhost:8080/",
          "height": 440
        },
        "id": "dnVCOOM2gsZ-",
        "outputId": "7c34046a-32bd-474a-efe1-393c42e46f86"
      },
      "execution_count": null,
      "outputs": [
        {
          "output_type": "execute_result",
          "data": {
            "text/plain": [
              "<graphviz.files.Source at 0x7f14e8992590>"
            ],
            "image/svg+xml": "<?xml version=\"1.0\" encoding=\"UTF-8\" standalone=\"no\"?>\n<!DOCTYPE svg PUBLIC \"-//W3C//DTD SVG 1.1//EN\"\n \"http://www.w3.org/Graphics/SVG/1.1/DTD/svg11.dtd\">\n<!-- Generated by graphviz version 2.40.1 (20161225.0304)\n -->\n<!-- Title: Tree Pages: 1 -->\n<svg width=\"622pt\" height=\"314pt\"\n viewBox=\"0.00 0.00 622.00 314.00\" xmlns=\"http://www.w3.org/2000/svg\" xmlns:xlink=\"http://www.w3.org/1999/xlink\">\n<g id=\"graph0\" class=\"graph\" transform=\"scale(1 1) rotate(0) translate(4 310)\">\n<title>Tree</title>\n<polygon fill=\"#ffffff\" stroke=\"transparent\" points=\"-4,4 -4,-310 618,-310 618,4 -4,4\"/>\n<!-- 0 -->\n<g id=\"node1\" class=\"node\">\n<title>0</title>\n<path fill=\"#fefdfb\" stroke=\"#000000\" d=\"M376.5,-306C376.5,-306 236.5,-306 236.5,-306 230.5,-306 224.5,-300 224.5,-294 224.5,-294 224.5,-235 224.5,-235 224.5,-229 230.5,-223 236.5,-223 236.5,-223 376.5,-223 376.5,-223 382.5,-223 388.5,-229 388.5,-235 388.5,-235 388.5,-294 388.5,-294 388.5,-300 382.5,-306 376.5,-306\"/>\n<text text-anchor=\"start\" x=\"266\" y=\"-290.8\" font-family=\"Helvetica,sans-Serif\" font-size=\"14.00\" fill=\"#000000\">PC1 ≤ 0.118</text>\n<text text-anchor=\"start\" x=\"255.5\" y=\"-275.8\" font-family=\"Helvetica,sans-Serif\" font-size=\"14.00\" fill=\"#000000\">entropy = 1.993</text>\n<text text-anchor=\"start\" x=\"258.5\" y=\"-260.8\" font-family=\"Helvetica,sans-Serif\" font-size=\"14.00\" fill=\"#000000\">samples = 133</text>\n<text text-anchor=\"start\" x=\"232.5\" y=\"-245.8\" font-family=\"Helvetica,sans-Serif\" font-size=\"14.00\" fill=\"#000000\">value = [59, 47, 48, 56]</text>\n<text text-anchor=\"start\" x=\"277.5\" y=\"-230.8\" font-family=\"Helvetica,sans-Serif\" font-size=\"14.00\" fill=\"#000000\">class = 1</text>\n</g>\n<!-- 1 -->\n<g id=\"node2\" class=\"node\">\n<title>1</title>\n<path fill=\"#f9dffb\" stroke=\"#000000\" d=\"M286,-187C286,-187 163,-187 163,-187 157,-187 151,-181 151,-175 151,-175 151,-116 151,-116 151,-110 157,-104 163,-104 163,-104 286,-104 286,-104 292,-104 298,-110 298,-116 298,-116 298,-175 298,-175 298,-181 292,-187 286,-187\"/>\n<text text-anchor=\"start\" x=\"182\" y=\"-171.8\" font-family=\"Helvetica,sans-Serif\" font-size=\"14.00\" fill=\"#000000\">PC1 ≤ &#45;3.094</text>\n<text text-anchor=\"start\" x=\"173.5\" y=\"-156.8\" font-family=\"Helvetica,sans-Serif\" font-size=\"14.00\" fill=\"#000000\">entropy = 0.994</text>\n<text text-anchor=\"start\" x=\"180.5\" y=\"-141.8\" font-family=\"Helvetica,sans-Serif\" font-size=\"14.00\" fill=\"#000000\">samples = 66</text>\n<text text-anchor=\"start\" x=\"159\" y=\"-126.8\" font-family=\"Helvetica,sans-Serif\" font-size=\"14.00\" fill=\"#000000\">value = [0, 47, 0, 56]</text>\n<text text-anchor=\"start\" x=\"195.5\" y=\"-111.8\" font-family=\"Helvetica,sans-Serif\" font-size=\"14.00\" fill=\"#000000\">class = 4</text>\n</g>\n<!-- 0&#45;&gt;1 -->\n<g id=\"edge1\" class=\"edge\">\n<title>0&#45;&gt;1</title>\n<path fill=\"none\" stroke=\"#000000\" d=\"M277.8204,-222.8796C271.7385,-214.0534 265.2578,-204.6485 258.9859,-195.5466\"/>\n<polygon fill=\"#000000\" stroke=\"#000000\" points=\"261.8582,-193.5465 253.302,-187.2981 256.0941,-197.5184 261.8582,-193.5465\"/>\n<text text-anchor=\"middle\" x=\"248.7761\" y=\"-208.185\" font-family=\"Helvetica,sans-Serif\" font-size=\"14.00\" fill=\"#000000\">True</text>\n</g>\n<!-- 4 -->\n<g id=\"node5\" class=\"node\">\n<title>4</title>\n<path fill=\"#fae8da\" stroke=\"#000000\" d=\"M451,-187C451,-187 328,-187 328,-187 322,-187 316,-181 316,-175 316,-175 316,-116 316,-116 316,-110 322,-104 328,-104 328,-104 451,-104 451,-104 457,-104 463,-110 463,-116 463,-116 463,-175 463,-175 463,-181 457,-187 451,-187\"/>\n<text text-anchor=\"start\" x=\"349\" y=\"-171.8\" font-family=\"Helvetica,sans-Serif\" font-size=\"14.00\" fill=\"#000000\">PC1 ≤ 2.537</text>\n<text text-anchor=\"start\" x=\"338.5\" y=\"-156.8\" font-family=\"Helvetica,sans-Serif\" font-size=\"14.00\" fill=\"#000000\">entropy = 0.992</text>\n<text text-anchor=\"start\" x=\"345.5\" y=\"-141.8\" font-family=\"Helvetica,sans-Serif\" font-size=\"14.00\" fill=\"#000000\">samples = 67</text>\n<text text-anchor=\"start\" x=\"324\" y=\"-126.8\" font-family=\"Helvetica,sans-Serif\" font-size=\"14.00\" fill=\"#000000\">value = [59, 0, 48, 0]</text>\n<text text-anchor=\"start\" x=\"360.5\" y=\"-111.8\" font-family=\"Helvetica,sans-Serif\" font-size=\"14.00\" fill=\"#000000\">class = 1</text>\n</g>\n<!-- 0&#45;&gt;4 -->\n<g id=\"edge4\" class=\"edge\">\n<title>0&#45;&gt;4</title>\n<path fill=\"none\" stroke=\"#000000\" d=\"M335.5294,-222.8796C341.6855,-214.0534 348.2451,-204.6485 354.5936,-195.5466\"/>\n<polygon fill=\"#000000\" stroke=\"#000000\" points=\"357.4967,-197.5024 360.3467,-187.2981 351.7552,-193.4978 357.4967,-197.5024\"/>\n<text text-anchor=\"middle\" x=\"364.7331\" y=\"-208.2103\" font-family=\"Helvetica,sans-Serif\" font-size=\"14.00\" fill=\"#000000\">False</text>\n</g>\n<!-- 2 -->\n<g id=\"node3\" class=\"node\">\n<title>2</title>\n<path fill=\"#d739e5\" stroke=\"#000000\" d=\"M127,-68C127,-68 12,-68 12,-68 6,-68 0,-62 0,-56 0,-56 0,-12 0,-12 0,-6 6,0 12,0 12,0 127,0 127,0 133,0 139,-6 139,-12 139,-12 139,-56 139,-56 139,-62 133,-68 127,-68\"/>\n<text text-anchor=\"start\" x=\"27\" y=\"-52.8\" font-family=\"Helvetica,sans-Serif\" font-size=\"14.00\" fill=\"#000000\">entropy = 0.0</text>\n<text text-anchor=\"start\" x=\"25.5\" y=\"-37.8\" font-family=\"Helvetica,sans-Serif\" font-size=\"14.00\" fill=\"#000000\">samples = 36</text>\n<text text-anchor=\"start\" x=\"8\" y=\"-22.8\" font-family=\"Helvetica,sans-Serif\" font-size=\"14.00\" fill=\"#000000\">value = [0, 0, 0, 56]</text>\n<text text-anchor=\"start\" x=\"40.5\" y=\"-7.8\" font-family=\"Helvetica,sans-Serif\" font-size=\"14.00\" fill=\"#000000\">class = 4</text>\n</g>\n<!-- 1&#45;&gt;2 -->\n<g id=\"edge2\" class=\"edge\">\n<title>1&#45;&gt;2</title>\n<path fill=\"none\" stroke=\"#000000\" d=\"M166.7837,-103.9815C153.2409,-94.2394 138.8343,-83.8759 125.3737,-74.193\"/>\n<polygon fill=\"#000000\" stroke=\"#000000\" points=\"127.2928,-71.2621 117.1311,-68.2637 123.2051,-76.9446 127.2928,-71.2621\"/>\n</g>\n<!-- 3 -->\n<g id=\"node4\" class=\"node\">\n<title>3</title>\n<path fill=\"#47e539\" stroke=\"#000000\" d=\"M284,-68C284,-68 169,-68 169,-68 163,-68 157,-62 157,-56 157,-56 157,-12 157,-12 157,-6 163,0 169,0 169,0 284,0 284,0 290,0 296,-6 296,-12 296,-12 296,-56 296,-56 296,-62 290,-68 284,-68\"/>\n<text text-anchor=\"start\" x=\"184\" y=\"-52.8\" font-family=\"Helvetica,sans-Serif\" font-size=\"14.00\" fill=\"#000000\">entropy = 0.0</text>\n<text text-anchor=\"start\" x=\"182.5\" y=\"-37.8\" font-family=\"Helvetica,sans-Serif\" font-size=\"14.00\" fill=\"#000000\">samples = 30</text>\n<text text-anchor=\"start\" x=\"165\" y=\"-22.8\" font-family=\"Helvetica,sans-Serif\" font-size=\"14.00\" fill=\"#000000\">value = [0, 47, 0, 0]</text>\n<text text-anchor=\"start\" x=\"197.5\" y=\"-7.8\" font-family=\"Helvetica,sans-Serif\" font-size=\"14.00\" fill=\"#000000\">class = 2</text>\n</g>\n<!-- 1&#45;&gt;3 -->\n<g id=\"edge3\" class=\"edge\">\n<title>1&#45;&gt;3</title>\n<path fill=\"none\" stroke=\"#000000\" d=\"M225.2447,-103.9815C225.3947,-95.618 225.553,-86.7965 225.7046,-78.3409\"/>\n<polygon fill=\"#000000\" stroke=\"#000000\" points=\"229.2054,-78.3249 225.8854,-68.2637 222.2065,-78.1993 229.2054,-78.3249\"/>\n</g>\n<!-- 5 -->\n<g id=\"node6\" class=\"node\">\n<title>5</title>\n<path fill=\"#399de5\" stroke=\"#000000\" d=\"M445,-68C445,-68 330,-68 330,-68 324,-68 318,-62 318,-56 318,-56 318,-12 318,-12 318,-6 324,0 330,0 330,0 445,0 445,0 451,0 457,-6 457,-12 457,-12 457,-56 457,-56 457,-62 451,-68 445,-68\"/>\n<text text-anchor=\"start\" x=\"345\" y=\"-52.8\" font-family=\"Helvetica,sans-Serif\" font-size=\"14.00\" fill=\"#000000\">entropy = 0.0</text>\n<text text-anchor=\"start\" x=\"343.5\" y=\"-37.8\" font-family=\"Helvetica,sans-Serif\" font-size=\"14.00\" fill=\"#000000\">samples = 28</text>\n<text text-anchor=\"start\" x=\"326\" y=\"-22.8\" font-family=\"Helvetica,sans-Serif\" font-size=\"14.00\" fill=\"#000000\">value = [0, 0, 48, 0]</text>\n<text text-anchor=\"start\" x=\"358.5\" y=\"-7.8\" font-family=\"Helvetica,sans-Serif\" font-size=\"14.00\" fill=\"#000000\">class = 3</text>\n</g>\n<!-- 4&#45;&gt;5 -->\n<g id=\"edge5\" class=\"edge\">\n<title>4&#45;&gt;5</title>\n<path fill=\"none\" stroke=\"#000000\" d=\"M388.7553,-103.9815C388.6053,-95.618 388.447,-86.7965 388.2954,-78.3409\"/>\n<polygon fill=\"#000000\" stroke=\"#000000\" points=\"391.7935,-78.1993 388.1146,-68.2637 384.7946,-78.3249 391.7935,-78.1993\"/>\n</g>\n<!-- 6 -->\n<g id=\"node7\" class=\"node\">\n<title>6</title>\n<path fill=\"#e58139\" stroke=\"#000000\" d=\"M602,-68C602,-68 487,-68 487,-68 481,-68 475,-62 475,-56 475,-56 475,-12 475,-12 475,-6 481,0 487,0 487,0 602,0 602,0 608,0 614,-6 614,-12 614,-12 614,-56 614,-56 614,-62 608,-68 602,-68\"/>\n<text text-anchor=\"start\" x=\"502\" y=\"-52.8\" font-family=\"Helvetica,sans-Serif\" font-size=\"14.00\" fill=\"#000000\">entropy = 0.0</text>\n<text text-anchor=\"start\" x=\"500.5\" y=\"-37.8\" font-family=\"Helvetica,sans-Serif\" font-size=\"14.00\" fill=\"#000000\">samples = 39</text>\n<text text-anchor=\"start\" x=\"483\" y=\"-22.8\" font-family=\"Helvetica,sans-Serif\" font-size=\"14.00\" fill=\"#000000\">value = [59, 0, 0, 0]</text>\n<text text-anchor=\"start\" x=\"515.5\" y=\"-7.8\" font-family=\"Helvetica,sans-Serif\" font-size=\"14.00\" fill=\"#000000\">class = 1</text>\n</g>\n<!-- 4&#45;&gt;6 -->\n<g id=\"edge6\" class=\"edge\">\n<title>4&#45;&gt;6</title>\n<path fill=\"none\" stroke=\"#000000\" d=\"M447.2163,-103.9815C460.7591,-94.2394 475.1657,-83.8759 488.6263,-74.193\"/>\n<polygon fill=\"#000000\" stroke=\"#000000\" points=\"490.7949,-76.9446 496.8689,-68.2637 486.7072,-71.2621 490.7949,-76.9446\"/>\n</g>\n</g>\n</svg>\n"
          },
          "metadata": {},
          "execution_count": 15
        }
      ]
    },
    {
      "cell_type": "code",
      "source": [
        "from sklearn.metrics import confusion_matrix, accuracy_score\n",
        "from sklearn.metrics import classification_report\n",
        "y_pred = classifier.predict(X_test)\n",
        "cm = confusion_matrix(y_test, y_pred)\n",
        "print(cm)\n",
        "print(accuracy_score(y_test, y_pred))\n",
        "\n",
        "y_pred2 = classifier2.predict(X_test)\n",
        "cm2 = confusion_matrix(y_test, y_pred2)\n",
        "print(cm2)\n",
        "print(accuracy_score(y_test, y_pred2))\n",
        "\n",
        "target_names = classes\n",
        "print(classification_report(y_test, y_pred, target_names=target_names))\n",
        "print(classification_report(y_test, y_pred2, target_names=target_names))"
      ],
      "metadata": {
        "colab": {
          "base_uri": "https://localhost:8080/"
        },
        "id": "DBGlSXhYg3h-",
        "outputId": "cacc69e6-12a3-4d8d-e3ff-bef5e34334f0"
      },
      "execution_count": null,
      "outputs": [
        {
          "output_type": "stream",
          "name": "stdout",
          "text": [
            "[[22  0  0  0]\n",
            " [ 0 15  0  0]\n",
            " [ 0  0 27  0]\n",
            " [ 0  0  0 26]]\n",
            "1.0\n",
            "[[22  0  0  0]\n",
            " [ 0 15  0  0]\n",
            " [ 0  0 27  0]\n",
            " [ 0  0  0 26]]\n",
            "1.0\n",
            "              precision    recall  f1-score   support\n",
            "\n",
            "           1       1.00      1.00      1.00        22\n",
            "           2       1.00      1.00      1.00        15\n",
            "           3       1.00      1.00      1.00        27\n",
            "           4       1.00      1.00      1.00        26\n",
            "\n",
            "    accuracy                           1.00        90\n",
            "   macro avg       1.00      1.00      1.00        90\n",
            "weighted avg       1.00      1.00      1.00        90\n",
            "\n",
            "              precision    recall  f1-score   support\n",
            "\n",
            "           1       1.00      1.00      1.00        22\n",
            "           2       1.00      1.00      1.00        15\n",
            "           3       1.00      1.00      1.00        27\n",
            "           4       1.00      1.00      1.00        26\n",
            "\n",
            "    accuracy                           1.00        90\n",
            "   macro avg       1.00      1.00      1.00        90\n",
            "weighted avg       1.00      1.00      1.00        90\n",
            "\n"
          ]
        }
      ]
    }
  ]
}